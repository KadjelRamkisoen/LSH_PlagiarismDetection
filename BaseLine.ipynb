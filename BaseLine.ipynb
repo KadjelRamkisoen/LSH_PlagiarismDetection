{
 "cells": [
  {
   "cell_type": "markdown",
   "source": [
    "- Open the small file and prepare the data for creating shingles\n",
    "- n-gram = 4"
   ],
   "metadata": {
    "collapsed": false,
    "pycharm": {
     "name": "#%% md\n"
    }
   }
  },
  {
   "cell_type": "code",
   "execution_count": 1,
   "outputs": [],
   "source": [
    "import pandas as pd\n",
    "import re\n",
    "import time\n",
    "import binascii"
   ],
   "metadata": {
    "collapsed": false,
    "pycharm": {
     "name": "#%%\n"
    }
   }
  },
  {
   "cell_type": "code",
   "source": [
    "small_dataset = 'data/news_articles_small.csv'\n",
    "df_small_dataset = pd.read_csv(small_dataset)"
   ],
   "metadata": {
    "collapsed": false,
    "pycharm": {
     "name": "#%%\n"
    }
   },
   "execution_count": 2,
   "outputs": []
  },
  {
   "cell_type": "code",
   "execution_count": 3,
   "outputs": [
    {
     "data": {
      "text/plain": "   News_ID                                            article\n0        0  russian foreign minister sergei kozyliev arriv...\n1        1  ''''' one one', and , the one theer , it was. ...\n2        2  The threat of an opposition boycott and a smal...\n3        3  The Bank of France increased its short-term in...\n4        4  british foreign secretary douglas hurd said th...",
      "text/html": "<div>\n<style scoped>\n    .dataframe tbody tr th:only-of-type {\n        vertical-align: middle;\n    }\n\n    .dataframe tbody tr th {\n        vertical-align: top;\n    }\n\n    .dataframe thead th {\n        text-align: right;\n    }\n</style>\n<table border=\"1\" class=\"dataframe\">\n  <thead>\n    <tr style=\"text-align: right;\">\n      <th></th>\n      <th>News_ID</th>\n      <th>article</th>\n    </tr>\n  </thead>\n  <tbody>\n    <tr>\n      <th>0</th>\n      <td>0</td>\n      <td>russian foreign minister sergei kozyliev arriv...</td>\n    </tr>\n    <tr>\n      <th>1</th>\n      <td>1</td>\n      <td>''''' one one', and , the one theer , it was. ...</td>\n    </tr>\n    <tr>\n      <th>2</th>\n      <td>2</td>\n      <td>The threat of an opposition boycott and a smal...</td>\n    </tr>\n    <tr>\n      <th>3</th>\n      <td>3</td>\n      <td>The Bank of France increased its short-term in...</td>\n    </tr>\n    <tr>\n      <th>4</th>\n      <td>4</td>\n      <td>british foreign secretary douglas hurd said th...</td>\n    </tr>\n  </tbody>\n</table>\n</div>"
     },
     "execution_count": 3,
     "metadata": {},
     "output_type": "execute_result"
    }
   ],
   "source": [
    "df_small_dataset.head()"
   ],
   "metadata": {
    "collapsed": false,
    "pycharm": {
     "name": "#%%\n"
    }
   }
  },
  {
   "cell_type": "code",
   "execution_count": 4,
   "outputs": [],
   "source": [
    "#Pre-process data\n",
    "#Convert to lowercase.\n",
    "df_small_dataset['article'] = df_small_dataset['article'].str.lower()\n",
    "\n",
    "#Remove punctuation\n",
    "p = re.compile(r'[^\\w\\s]+')\n",
    "df_small_dataset['article'] = [p.sub('', x) for x in df_small_dataset['article'].tolist()]\n"
   ],
   "metadata": {
    "collapsed": false,
    "pycharm": {
     "name": "#%%\n"
    }
   }
  },
  {
   "cell_type": "code",
   "execution_count": 5,
   "outputs": [],
   "source": [
    "\"\"\"\n",
    "Split each document in a list of words\n",
    "\n",
    "small_dataset_split = [\n",
    "    [documentID, document_text]\n",
    "]\n",
    "\"\"\"\n",
    "\n",
    "small_dataset_split = []\n",
    "for idx, row in df_small_dataset.iterrows():\n",
    "    small_dataset_split.append([row[0], row[1]])\n",
    "\n",
    "# df_small_dataset['splitted'] = small_dataset_split"
   ],
   "metadata": {
    "collapsed": false,
    "pycharm": {
     "name": "#%%\n"
    }
   }
  },
  {
   "cell_type": "code",
   "execution_count": 6,
   "outputs": [],
   "source": [
    "def jaccard(list1, list2):\n",
    "    doc1 = set(list1.split())\n",
    "    doc2 = set(list2.split())\n",
    "\n",
    "    intersection = doc1.intersection(doc2)\n",
    "    union = doc1.union(doc2)\n",
    "\n",
    "    return float(len(intersection) / len(union))"
   ],
   "metadata": {
    "collapsed": false,
    "pycharm": {
     "name": "#%%\n"
    }
   }
  },
  {
   "cell_type": "code",
   "execution_count": 7,
   "outputs": [
    {
     "name": "stdout",
     "output_type": "stream",
     "text": [
      "0 / 1000\n",
      "100 / 1000\n",
      "200 / 1000\n",
      "300 / 1000\n",
      "400 / 1000\n",
      "500 / 1000\n",
      "600 / 1000\n",
      "700 / 1000\n",
      "800 / 1000\n",
      "900 / 1000\n",
      "Time:  64.1200737953186\n"
     ]
    }
   ],
   "source": [
    "#Calculate Jaccard similarities\n",
    "t0 = time.time()\n",
    "\n",
    "JSim_list = []\n",
    "\n",
    "for i in range(0, len(small_dataset_split)):\n",
    "# Print progress every 100 documents.\n",
    "    if (i % 100) == 0:\n",
    "        print(str(i) + \" / \" + str(len(small_dataset_split)))\n",
    "\n",
    "    docId1 = small_dataset_split[i][0]\n",
    "    s1 = small_dataset_split[i][1]\n",
    "\n",
    "    for j in range(i + 1, len(small_dataset_split)):\n",
    "        # Retrieve the set of shingles for document j.\n",
    "        docId2 = small_dataset_split[j][0]\n",
    "        s2 = small_dataset_split[j][1]\n",
    "\n",
    "        # Calculate and store the actual Jaccard similarity.\n",
    "        similarity = jaccard(s1, s2)\n",
    "        JSim_list.append([docId1, docId2, similarity])\n",
    "\n",
    "t1= time.time()\n",
    "print('Time: ', t1-t0)"
   ],
   "metadata": {
    "collapsed": false,
    "pycharm": {
     "name": "#%%\n"
    }
   }
  },
  {
   "cell_type": "code",
   "execution_count": 8,
   "outputs": [],
   "source": [
    "import csv\n",
    "\n",
    "with open('jaccardSim.csv', 'w') as f:\n",
    "    header = ['doc1', 'doc2', 'similarity']\n",
    "    writer = csv.writer(f)\n",
    "    writer.writerow(header)\n",
    "    writer.writerows(JSim_list)"
   ],
   "metadata": {
    "collapsed": false,
    "pycharm": {
     "name": "#%%\n"
    }
   }
  },
  {
   "cell_type": "code",
   "execution_count": 9,
   "outputs": [],
   "source": [
    "all_similarities = []\n",
    "all_docIds = []\n",
    "\n",
    "for x, y, z in JSim_list:\n",
    "    all_docIds.append(x)\n",
    "    all_similarities.append(z)"
   ],
   "metadata": {
    "collapsed": false,
    "pycharm": {
     "name": "#%%\n"
    }
   }
  },
  {
   "cell_type": "code",
   "execution_count": 10,
   "outputs": [
    {
     "data": {
      "text/plain": "<Figure size 432x288 with 1 Axes>",
      "image/png": "[encoded data removed]"
     },
     "metadata": {},
     "output_type": "display_data"
    }
   ],
   "source": [
    "all_similarities.sort()\n",
    "\n",
    "import matplotlib.pyplot as plt\n",
    "plt.style.use('seaborn-whitegrid')\n",
    "import numpy as np\n",
    "\n",
    "x = all_docIds\n",
    "y = all_similarities\n",
    "plt.scatter(x, y, marker='o', color='black');"
   ],
   "metadata": {
    "collapsed": false,
    "pycharm": {
     "name": "#%%\n"
    }
   }
  },
  {
   "cell_type": "code",
   "execution_count": null,
   "outputs": [],
   "source": [
    "#source: https://www.tutorialspoint.com/matplotlib/matplotlib_bar_plot.htm\n",
    "import matplotlib.pyplot as plt\n",
    "left = [1, 2, 3, 4, 5,6,7,8,9,10]\n",
    "\n",
    "x_label = [0.1, 0.2, 0.3, 0.4, 0.5, 0.6, 0.7, 0.8, 0.9, 1.0]\n",
    "\n",
    "plt.bar(left, count_grouped, tick_label = x_label,\n",
    "            width = 0.8, color = ['red', 'yellow', 'green', 'blue', 'cyan', 'red', 'yellow', 'green', 'blue', 'cyan'])\n",
    "\n",
    "plt.xlabel('Similarity score', fontsize=20)\n",
    "plt.ylabel('Documents', fontsize=20)"
   ],
   "metadata": {
    "collapsed": false,
    "pycharm": {
     "name": "#%%\n",
     "is_executing": true
    }
   }
  },
  {
   "cell_type": "code",
   "execution_count": null,
   "outputs": [],
   "source": [
    "x = 'abcd'\n",
    "y = x.encode()\n",
    "y"
   ],
   "metadata": {
    "collapsed": false,
    "pycharm": {
     "name": "#%%\n",
     "is_executing": true
    }
   }
  },
  {
   "cell_type": "code",
   "execution_count": null,
   "outputs": [],
   "source": [
    "y.decode()\n"
   ],
   "metadata": {
    "collapsed": false,
    "pycharm": {
     "name": "#%%\n",
     "is_executing": true
    }
   }
  },
  {
   "cell_type": "code",
   "execution_count": null,
   "outputs": [],
   "source": [
    "#Add shingles with ngram 4\n",
    "#Source: https://github.com/chrisjmccormick/MinHash/blob/master/runMinHashExample.py\n",
    "# shingleID = 0\n",
    "#\n",
    "# shingledDocs = {}\n",
    "# docIds = []\n",
    "#\n",
    "# t0 = time.time()\n",
    "#\n",
    "# totalShingles = 0\n",
    "# for idx, row in df_small_dataset.iterrows():\n",
    "#     shingles = set()\n",
    "#     print(row)\n",
    "#     print(len(row[2]))\n",
    "#     print(len(row[2]) - 3)\n",
    "#     for i in range(0, len(row[2]) - 3):\n",
    "#         shingle = row[2][i]+ \" \" + row[2][i + 1] + \" \" + row[2][i + 2] + \" \" + row[2][i + 3]\n",
    "        # print(shingle)\n",
    "#         crc =  binascii.crc32(shingle.encode()) & 0xffffffff\n",
    "#         shingles.add(crc)\n",
    "#\n",
    "#     shingledDocs[row[0]]= shingles\n",
    "#     docIds.append(row[0])\n",
    "#     totalShingles = totalShingles + (len(row[2]) - 3)\n",
    "#\n",
    "# t1 = time.time()\n",
    "# print('Time spent: ', t1-t0)\n"
   ],
   "metadata": {
    "collapsed": false,
    "pycharm": {
     "name": "#%%\n",
     "is_executing": true
    }
   }
  }
 ],
 "metadata": {
  "kernelspec": {
   "name": "pycharm-4c4f150c",
   "language": "python",
   "display_name": "PyCharm (LSH_PlagiarismDetection)"
  },
  "language_info": {
   "codemirror_mode": {
    "name": "ipython",
    "version": 2
   },
   "file_extension": ".py",
   "mimetype": "text/x-python",
   "name": "python",
   "nbconvert_exporter": "python",
   "pygments_lexer": "ipython2",
   "version": "2.7.6"
  }
 },
 "nbformat": 4,
 "nbformat_minor": 0
}
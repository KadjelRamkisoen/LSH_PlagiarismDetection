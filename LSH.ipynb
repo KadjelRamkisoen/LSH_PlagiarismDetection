{
 "cells": [
  {
   "cell_type": "code",
   "execution_count": 1,
   "metadata": {},
   "outputs": [],
   "source": [
    "import pandas as pd\n",
    "import re\n",
    "import time\n",
    "import binascii\n",
    "import random\n",
    "import numpy as np\n",
    "import matplotlib.pyplot as plt"
   ]
  },
  {
   "cell_type": "code",
   "execution_count": 2,
   "metadata": {
    "pycharm": {
     "name": "#%%\n"
    }
   },
   "outputs": [],
   "source": [
    "small_dataset = 'data/news_articles_small.csv'\n",
    "df_small_dataset = pd.read_csv(small_dataset)"
   ]
  },
  {
   "cell_type": "code",
   "execution_count": 3,
   "metadata": {
    "pycharm": {
     "name": "#%%\n"
    }
   },
   "outputs": [],
   "source": [
    "\"\"\"\n",
    "    Pre-process data:\n",
    "        1. convert all to lowercase\n",
    "        2. remove punctuation\n",
    "\"\"\"\n",
    "\n",
    "#Convert to lowercase.\n",
    "df_small_dataset['article'] = df_small_dataset['article'].str.lower()\n",
    "\n",
    "#Remove punctuation\n",
    "p = re.compile(r'[^\\w\\s]+')\n",
    "df_small_dataset['article'] = [p.sub('', x) for x in df_small_dataset['article'].tolist()]"
   ]
  },
  {
   "cell_type": "code",
   "execution_count": 4,
   "metadata": {
    "pycharm": {
     "name": "#%%\n"
    }
   },
   "outputs": [],
   "source": [
    "\"\"\"\n",
    "    Split each document in a list of words\n",
    "\n",
    "    small_dataset_split = [\n",
    "        [documentID, document_text]\n",
    "    ]\n",
    "\"\"\"\n",
    "\n",
    "small_dataset_split = []\n",
    "for idx, row in df_small_dataset.iterrows():\n",
    "    small_dataset_split.append([row[0], row[1].split()])"
   ]
  },
  {
   "cell_type": "code",
   "execution_count": 5,
   "metadata": {
    "pycharm": {
     "name": "#%%\n"
    }
   },
   "outputs": [],
   "source": [
    "\"\"\"\n",
    "    createShingles\n",
    "\n",
    "    To create the shingles for the articles in the dataframe\n",
    "    @:param small_dataset_split - The dataframe with the articles\n",
    "\"\"\"\n",
    "\n",
    "def createShingles(small_dataset_split):\n",
    "#Add shingles with ngram 4\n",
    "#Source: https://github.com/chrisjmccormick/MinHash/blob/master/runMinHashExample.py\n",
    "    shingledDocs = {}\n",
    "    docIds = []\n",
    "\n",
    "    t0 = time.time()\n",
    "\n",
    "    totalShingles = 0\n",
    "    for docId, article in small_dataset_split:\n",
    "        shingles = set()\n",
    "        for i in range(0, len(article) - 3):\n",
    "            shingle = article[i]+ \" \" + article[i + 1] + \" \" + article[i + 2] + \" \" + article[i + 3]\n",
    "\n",
    "            crc =  binascii.crc32(shingle.encode()) & 0xffffffff\n",
    "            shingles.add(crc)\n",
    "\n",
    "        shingledDocs[docId]= shingles\n",
    "        docIds.append(docId)\n",
    "        totalShingles = totalShingles + (len(article) - 3)\n",
    "\n",
    "    t1 = time.time()\n",
    "    print('Time spent: ', t1-t0)\n",
    "    return shingledDocs, docIds, totalShingles"
   ]
  },
  {
   "cell_type": "code",
   "execution_count": 6,
   "metadata": {
    "pycharm": {
     "name": "#%%\n"
    }
   },
   "outputs": [],
   "source": [
    "\"\"\"\n",
    "    randomHash\n",
    "\n",
    "    To create random hash functions\n",
    "    @:param value\n",
    "    @:param rand_value\n",
    "\"\"\"\n",
    "def randomHash(value, rand_value):\n",
    "    return binascii.crc32(value.to_bytes(32, \"little\")) ^ rand_value\n",
    "\n",
    "\"\"\"\n",
    "    randomList\n",
    "\n",
    "    To create random hash functions\n",
    "    @:param value\n",
    "    @:param seed\n",
    "\"\"\"\n",
    "def randomList(n, seed=10):\n",
    "    random.seed(10)\n",
    "    l = []\n",
    "    for i in range(n):\n",
    "        r = random.getrandbits(32)\n",
    "        l.append(r)\n",
    "    return l\n"
   ]
  },
  {
   "cell_type": "code",
   "execution_count": 7,
   "metadata": {
    "pycharm": {
     "name": "#%%\n"
    }
   },
   "outputs": [
    {
     "name": "stdout",
     "output_type": "stream",
     "text": [
      "Time spent:  0.4264543056488037\n"
     ]
    }
   ],
   "source": [
    "shingledDocs, docIds, totalShingles = createShingles(small_dataset_split)"
   ]
  },
  {
   "cell_type": "code",
   "execution_count": 8,
   "metadata": {
    "pycharm": {
     "name": "#%%\n"
    }
   },
   "outputs": [
    {
     "name": "stdout",
     "output_type": "stream",
     "text": [
      "Generating random hash functions...\n"
     ]
    }
   ],
   "source": [
    "print(\"Generating random hash functions...\")\n",
    "# Number of hash functions\n",
    "M = 1000\n",
    "random_values = randomList(M)"
   ]
  },
  {
   "cell_type": "code",
   "execution_count": 9,
   "metadata": {
    "pycharm": {
     "name": "#%%\n"
    },
    "scrolled": true
   },
   "outputs": [
    {
     "name": "stdout",
     "output_type": "stream",
     "text": [
      "Time spent:  236.78516340255737\n"
     ]
    }
   ],
   "source": [
    "\"\"\"\n",
    "    MinHashing from shingles\n",
    "\"\"\"\n",
    "signatures = []\n",
    "t0 = time.time()\n",
    "for doc in docIds:\n",
    "    signature = []\n",
    "    for hash_fun in range(M):\n",
    "        min_value = 0\n",
    "        random_value = random_values[hash_fun]\n",
    "        for shingle in shingledDocs[doc]:\n",
    "            hash_value = randomHash(shingle, random_value)\n",
    "            if hash_value < min_value or min_value == 0:\n",
    "                min_value = hash_value\n",
    "        \n",
    "        signature.append(min_value)\n",
    "    signatures.append(signature)\n",
    "\n",
    "t1= time.time()\n",
    "\n",
    "print('Time spent: ', t1-t0)"
   ]
  },
  {
   "cell_type": "markdown",
   "metadata": {},
   "source": [
    "## Method 1\n"
   ]
  },
  {
   "cell_type": "code",
   "execution_count": 82,
   "metadata": {},
   "outputs": [],
   "source": [
    "#Confusion matrix, Accuracy, sensitivity and specificity\n",
    "from sklearn.metrics import confusion_matrix\n",
    "\n",
    "def calc_metrics(df):\n",
    "\n",
    "    cm = confusion_matrix(df[['label_real']],df[['label_calc']])\n",
    "    print('Confusion Matrix : \\n', cm)\n",
    "\n",
    "    total=sum(sum(cm))\n",
    "    #####from confusion matrix calculate accuracy\n",
    "    accuracy=(cm[0,0]+cm[1,1])/total\n",
    "    specificity = cm[0,0]/(cm[0,0]+cm[0,1])\n",
    "    sensitivity = cm[1,1]/(cm[1,0]+cm[1,1])\n",
    "    precision = cm[1,1]/(cm[0,1]+cm[1,1])\n",
    "    \n",
    "    return accuracy, specificity, sensitivity, precision"
   ]
  },
  {
   "cell_type": "code",
   "execution_count": 83,
   "metadata": {},
   "outputs": [],
   "source": [
    "def check_metrics(candidates, results, weights):\n",
    "    sim = pd.DataFrame(list(candidates), columns=[\"doc1\", \"doc2\"])\n",
    "    sim['label'] = 1\n",
    "    merged = real_sim.merge(sim, left_on=['doc1','doc2'], right_on=['doc1','doc2'], suffixes=['_real', '_calc'], how=\"left\")\n",
    "    merged = merged.fillna(0)\n",
    "    metrics = calc_metrics(merged)\n",
    "    mult = [a*b for a,b in zip(weights,metrics)]\n",
    "    combined = float(sum(mult) / sum(weights))\n",
    "    print(\" Accuracy: \", metrics[0], \"\\n Specificity: \", metrics[1],\n",
    "     \"\\n Sensitivity: \", metrics[2],\"\\n Precision: \", metrics[3], \n",
    "          \"\\n combined: \", combined)\n",
    "    \n",
    "    return metrics, combined"
   ]
  },
  {
   "cell_type": "code",
   "execution_count": 84,
   "metadata": {},
   "outputs": [
    {
     "data": {
      "text/html": [
       "<div>\n",
       "<style scoped>\n",
       "    .dataframe tbody tr th:only-of-type {\n",
       "        vertical-align: middle;\n",
       "    }\n",
       "\n",
       "    .dataframe tbody tr th {\n",
       "        vertical-align: top;\n",
       "    }\n",
       "\n",
       "    .dataframe thead th {\n",
       "        text-align: right;\n",
       "    }\n",
       "</style>\n",
       "<table border=\"1\" class=\"dataframe\">\n",
       "  <thead>\n",
       "    <tr style=\"text-align: right;\">\n",
       "      <th></th>\n",
       "      <th>Unnamed: 0</th>\n",
       "      <th>doc1</th>\n",
       "      <th>doc2</th>\n",
       "      <th>sim</th>\n",
       "      <th>label</th>\n",
       "    </tr>\n",
       "  </thead>\n",
       "  <tbody>\n",
       "    <tr>\n",
       "      <th>0</th>\n",
       "      <td>0</td>\n",
       "      <td>0</td>\n",
       "      <td>1</td>\n",
       "      <td>0.058333</td>\n",
       "      <td>0</td>\n",
       "    </tr>\n",
       "    <tr>\n",
       "      <th>1</th>\n",
       "      <td>1</td>\n",
       "      <td>0</td>\n",
       "      <td>2</td>\n",
       "      <td>0.058333</td>\n",
       "      <td>0</td>\n",
       "    </tr>\n",
       "    <tr>\n",
       "      <th>2</th>\n",
       "      <td>2</td>\n",
       "      <td>0</td>\n",
       "      <td>3</td>\n",
       "      <td>0.067669</td>\n",
       "      <td>0</td>\n",
       "    </tr>\n",
       "    <tr>\n",
       "      <th>3</th>\n",
       "      <td>3</td>\n",
       "      <td>0</td>\n",
       "      <td>4</td>\n",
       "      <td>0.054852</td>\n",
       "      <td>0</td>\n",
       "    </tr>\n",
       "    <tr>\n",
       "      <th>4</th>\n",
       "      <td>4</td>\n",
       "      <td>0</td>\n",
       "      <td>5</td>\n",
       "      <td>0.072650</td>\n",
       "      <td>0</td>\n",
       "    </tr>\n",
       "  </tbody>\n",
       "</table>\n",
       "</div>"
      ],
      "text/plain": [
       "   Unnamed: 0  doc1  doc2       sim  label\n",
       "0           0     0     1  0.058333      0\n",
       "1           1     0     2  0.058333      0\n",
       "2           2     0     3  0.067669      0\n",
       "3           3     0     4  0.054852      0\n",
       "4           4     0     5  0.072650      0"
      ]
     },
     "execution_count": 84,
     "metadata": {},
     "output_type": "execute_result"
    }
   ],
   "source": [
    "real_sim = pd.read_csv(\"real_sim.csv\")\n",
    "real_sim['label'] = np.where(real_sim['sim'] >= 0.8, 1, 0)\n",
    "real_sim.head()"
   ]
  },
  {
   "cell_type": "code",
   "execution_count": 12,
   "metadata": {
    "pycharm": {
     "name": "#%%\n"
    }
   },
   "outputs": [
    {
     "name": "stderr",
     "output_type": "stream",
     "text": [
      "C:\\Users\\Katerina\\Anaconda3\\lib\\site-packages\\ipykernel_launcher.py:1: DeprecationWarning: `np.long` is a deprecated alias for `np.compat.long`. To silence this warning, use `np.compat.long` by itself. In the likely event your code does not need to work on Python 2 you can use the builtin `int` for which `np.compat.long` is itself an alias. Doing this will not modify any behaviour and is safe. When replacing `np.long`, you may wish to use e.g. `np.int64` or `np.int32` to specify the precision. If you wish to review your current use, check the release note link for additional information.\n",
      "Deprecated in NumPy 1.20; for more details and guidance: https://numpy.org/devdocs/release/1.20.0-notes.html#deprecations\n",
      "  \"\"\"Entry point for launching an IPython kernel.\n"
     ]
    }
   ],
   "source": [
    "from numpy import long\n",
    "\n",
    "\"\"\"\n",
    "    LSH\n",
    "\"\"\"\n",
    "from itertools import combinations\n",
    "\n",
    "\n",
    "class LSH:\n",
    "    def __init__(self, b, r):\n",
    "        self.counter = 0\n",
    "        self.b = b\n",
    "        self.r = r\n",
    "        self.hash_tables= {}\n",
    "\n",
    "        self.create_hash_tables()\n",
    "        # print(self.hash_tables)\n",
    "        # for i in range(b):\n",
    "        #     self.buckets.append({})\n",
    "\n",
    "    \"\"\"\n",
    "        create_hash_tables()\n",
    "\n",
    "        To create the b hash tables as nested dictionaries within self.hash_table\n",
    "    \"\"\"\n",
    "    def create_hash_tables(self):\n",
    "        # Per band we have a hash table\n",
    "\n",
    "        # Add hash tables\n",
    "        for i in range(self.b):\n",
    "            self.hash_tables[i] = {}\n",
    "\n",
    "    \"\"\"\n",
    "        hash()\n",
    "\n",
    "        Hash each b part of a signature\n",
    "    \"\"\"\n",
    "    def hash(self, subvec):\n",
    "        # The hash function must be (s1, s2, p1, p2) sensitive\n",
    "        acc = \"\"\n",
    "        for value in subvec:\n",
    "            acc += str(int(float(value)))\n",
    "        return acc\n",
    "\n",
    "    \"\"\"\n",
    "        add_to_hash_table()\n",
    "\n",
    "        Add the hashed b parts of a signature to a bucket in a hash table\n",
    "    \"\"\"\n",
    "    def add_to_hash_table(self, i, subvec):\n",
    "        if subvec not in self.hash_tables[i]:\n",
    "            self.hash_tables[i][subvec] = []\n",
    "            self.hash_tables[i][subvec].append(self.counter)\n",
    "        else:\n",
    "            self.hash_tables[i][subvec].append(self.counter)\n",
    "\n",
    "    \"\"\"\n",
    "        make_subvecs()\n",
    "\n",
    "        Divide the signatures into b parts\n",
    "    \"\"\"\n",
    "    def make_subvecs(self, signature):\n",
    "        l = len(signature)\n",
    "        assert l % self.b == 0\n",
    "        r = self.r\n",
    "        # break signature into subvectors\n",
    "        subvecs = []\n",
    "        for i in range(0, l, r):\n",
    "            subvecs.append(signature[i:i+r])\n",
    "        return np.stack(subvecs)\n",
    "\n",
    "    \"\"\"\n",
    "        add_hash()\n",
    "\n",
    "        Driving part for LSH class that creates the popluated hash tables\n",
    "    \"\"\"\n",
    "    def add_hash(self, signature):\n",
    "        subvecs = self.make_subvecs(signature).astype(str)\n",
    "        for i, subvec in enumerate(subvecs):\n",
    "            #Hash every subvector using another hash function\n",
    "            #and add it to a different hash table that corresponds\n",
    "            #to that hash function\n",
    "            hashed_subvec = self.hash(i+1, subvec)\n",
    "            self.add_to_hash_table(i, hashed_subvec)\n",
    "        self.counter += 1\n",
    "\n",
    "    \"\"\"\n",
    "        check_candidates()\n",
    "\n",
    "        To check if there are any candidate documents as duplicates\n",
    "    \"\"\"\n",
    "\n",
    "    def check_candidates(self):\n",
    "        candidates = []\n",
    "        for i in self.hash_tables:\n",
    "            \n",
    "            keys = self.hash_tables[i].keys()\n",
    "            for bucket in keys:\n",
    "                hits = self.hash_tables[i][bucket]\n",
    "                if len(hits) > 1:\n",
    "                    candidates.extend(combinations(hits, 2))\n",
    "        return set(candidates)"
   ]
  },
  {
   "cell_type": "code",
   "execution_count": 13,
   "metadata": {},
   "outputs": [],
   "source": [
    "\"\"\"\n",
    "    parameters\n",
    "\n",
    "    Helper function for get_ops()\n",
    "\"\"\"\n",
    "def parameters(s, r, p):\n",
    "    b = round(np.log(1-p) / np.log(1-s**r))\n",
    "    M = r * b\n",
    "    return (b,r), (s,p)"
   ]
  },
  {
   "cell_type": "code",
   "execution_count": 75,
   "metadata": {},
   "outputs": [],
   "source": [
    "\"\"\"\n",
    "    get_ops\n",
    "\n",
    "    Generate the different parameters for parameter tuning\n",
    "\"\"\"\n",
    "def get_ops(similarities, rows, probabilities):\n",
    "    ops = []\n",
    "    for s in similarities:\n",
    "        for r in rows:\n",
    "            for p in probabilities:\n",
    "                params, v = parameters(s, r, p)\n",
    "                l = params[0] * params[1]\n",
    "                if l <= len(signatures[0]) and l > 80:\n",
    "                    ops.append((params, v))\n",
    "    return ops"
   ]
  },
  {
   "cell_type": "code",
   "execution_count": 76,
   "metadata": {},
   "outputs": [
    {
     "name": "stdout",
     "output_type": "stream",
     "text": [
      "78\n"
     ]
    }
   ],
   "source": [
    "rows = np.linspace(2,10,9)\n",
    "probabilities = [0.7, 0.8, 0.9, 0.95, 0.99]\n",
    "similarities = np.linspace(0.4,0.9,6)\n",
    "ops = get_ops(similarities, rows, probabilities)\n",
    "print(len(ops))"
   ]
  },
  {
   "cell_type": "code",
   "execution_count": 85,
   "metadata": {
    "pycharm": {
     "name": "#%%\n"
    },
    "scrolled": true
   },
   "outputs": [
    {
     "name": "stdout",
     "output_type": "stream",
     "text": [
      "Candidate pairs for n=105 b=35 and r=3  (0.4, 0.9)\n",
      "Number of candidate pairs are 112\n",
      "Confusion Matrix : \n",
      " [[499388     87]\n",
      " [     0     25]]\n",
      " Accuracy:  0.9998258258258258 \n",
      " Specificity:  0.9998258171079634 \n",
      " Sensitivity:  1.0 \n",
      " Precision:  0.22321428571428573 \n",
      " combined:  0.6116071428571429\n",
      "====================================================================================================\n",
      "Candidate pairs for n=135 b=45 and r=3  (0.4, 0.95)\n",
      "Number of candidate pairs are 121\n",
      "Confusion Matrix : \n",
      " [[499379     96]\n",
      " [     0     25]]\n",
      " Accuracy:  0.9998078078078078 \n",
      " Specificity:  0.9998077981880975 \n",
      " Sensitivity:  1.0 \n",
      " Precision:  0.2066115702479339 \n",
      " combined:  0.6033057851239669\n",
      "====================================================================================================\n",
      "Candidate pairs for n=210 b=70 and r=3  (0.4, 0.99)\n",
      "Number of candidate pairs are 161\n",
      "Confusion Matrix : \n",
      " [[499339    136]\n",
      " [     0     25]]\n",
      " Accuracy:  0.9997277277277278 \n",
      " Specificity:  0.9997277140998048 \n",
      " Sensitivity:  1.0 \n",
      " Precision:  0.15527950310559005 \n",
      " combined:  0.577639751552795\n",
      "====================================================================================================\n",
      "Candidate pairs for n=184 b=46 and r=4  (0.4, 0.7)\n",
      "Number of candidate pairs are 79\n",
      "Confusion Matrix : \n",
      " [[499420     55]\n",
      " [     1     24]]\n",
      " Accuracy:  0.9998878878878878 \n",
      " Specificity:  0.9998898843785975 \n",
      " Sensitivity:  0.96 \n",
      " Precision:  0.3037974683544304 \n",
      " combined:  0.6318987341772152\n",
      "====================================================================================================\n",
      "Candidate pairs for n=248 b=62 and r=4  (0.4, 0.8)\n",
      "Number of candidate pairs are 87\n",
      "Confusion Matrix : \n",
      " [[499413     62]\n",
      " [     0     25]]\n",
      " Accuracy:  0.9998758758758759 \n",
      " Specificity:  0.9998758696631463 \n",
      " Sensitivity:  1.0 \n",
      " Precision:  0.28735632183908044 \n",
      " combined:  0.6436781609195402\n",
      "====================================================================================================\n",
      "Candidate pairs for n=356 b=89 and r=4  (0.4, 0.9)\n",
      "Number of candidate pairs are 97\n",
      "Confusion Matrix : \n",
      " [[499403     72]\n",
      " [     0     25]]\n",
      " Accuracy:  0.9998558558558559 \n",
      " Specificity:  0.9998558486410731 \n",
      " Sensitivity:  1.0 \n",
      " Precision:  0.25773195876288657 \n",
      " combined:  0.6288659793814433\n",
      "====================================================================================================\n",
      "Candidate pairs for n=464 b=116 and r=4  (0.4, 0.95)\n",
      "Number of candidate pairs are 100\n",
      "Confusion Matrix : \n",
      " [[499400     75]\n",
      " [     0     25]]\n",
      " Accuracy:  0.9998498498498498 \n",
      " Specificity:  0.9998498423344512 \n",
      " Sensitivity:  1.0 \n",
      " Precision:  0.25 \n",
      " combined:  0.625\n",
      "====================================================================================================\n",
      "Candidate pairs for n=712 b=178 and r=4  (0.4, 0.99)\n",
      "Number of candidate pairs are 112\n",
      "Confusion Matrix : \n",
      " [[499388     87]\n",
      " [     0     25]]\n",
      " Accuracy:  0.9998258258258258 \n",
      " Specificity:  0.9998258171079634 \n",
      " Sensitivity:  1.0 \n",
      " Precision:  0.22321428571428573 \n",
      " combined:  0.6116071428571429\n",
      "====================================================================================================\n",
      "Candidate pairs for n=585 b=117 and r=5  (0.4, 0.7)\n",
      "Number of candidate pairs are 83\n",
      "Confusion Matrix : \n",
      " [[499417     58]\n",
      " [     0     25]]\n",
      " Accuracy:  0.9998838838838839 \n",
      " Specificity:  0.9998838780719755 \n",
      " Sensitivity:  1.0 \n",
      " Precision:  0.30120481927710846 \n",
      " combined:  0.6506024096385542\n",
      "====================================================================================================\n",
      "Candidate pairs for n=780 b=156 and r=5  (0.4, 0.8)\n",
      "Number of candidate pairs are 88\n",
      "Confusion Matrix : \n",
      " [[499412     63]\n",
      " [     0     25]]\n",
      " Accuracy:  0.9998738738738738 \n",
      " Specificity:  0.999873867560939 \n",
      " Sensitivity:  1.0 \n",
      " Precision:  0.2840909090909091 \n",
      " combined:  0.6420454545454546\n",
      "====================================================================================================\n",
      "Candidate pairs for n=102 b=34 and r=3  (0.5, 0.99)\n",
      "Number of candidate pairs are 111\n",
      "Confusion Matrix : \n",
      " [[499389     86]\n",
      " [     0     25]]\n",
      " Accuracy:  0.9998278278278279 \n",
      " Specificity:  0.9998278192101707 \n",
      " Sensitivity:  1.0 \n",
      " Precision:  0.22522522522522523 \n",
      " combined:  0.6126126126126126\n",
      "====================================================================================================\n",
      "Candidate pairs for n=100 b=25 and r=4  (0.5, 0.8)\n",
      "Number of candidate pairs are 64\n",
      "Confusion Matrix : \n",
      " [[499434     41]\n",
      " [     2     23]]\n",
      " Accuracy:  0.9999139139139139 \n",
      " Specificity:  0.9999179138095 \n",
      " Sensitivity:  0.92 \n",
      " Precision:  0.359375 \n",
      " combined:  0.6396875\n",
      "====================================================================================================\n",
      "Candidate pairs for n=144 b=36 and r=4  (0.5, 0.9)\n",
      "Number of candidate pairs are 75\n",
      "Confusion Matrix : \n",
      " [[499424     51]\n",
      " [     1     24]]\n",
      " Accuracy:  0.9998958958958959 \n",
      " Specificity:  0.9998978927874268 \n",
      " Sensitivity:  0.96 \n",
      " Precision:  0.32 \n",
      " combined:  0.64\n",
      "====================================================================================================\n",
      "Candidate pairs for n=184 b=46 and r=4  (0.5, 0.95)\n",
      "Number of candidate pairs are 79\n",
      "Confusion Matrix : \n",
      " [[499420     55]\n",
      " [     1     24]]\n",
      " Accuracy:  0.9998878878878878 \n",
      " Specificity:  0.9998898843785975 \n",
      " Sensitivity:  0.96 \n",
      " Precision:  0.3037974683544304 \n",
      " combined:  0.6318987341772152\n",
      "====================================================================================================\n",
      "Candidate pairs for n=284 b=71 and r=4  (0.5, 0.99)\n",
      "Number of candidate pairs are 89\n",
      "Confusion Matrix : \n",
      " [[499411     64]\n",
      " [     0     25]]\n",
      " Accuracy:  0.9998718718718719 \n",
      " Specificity:  0.9998718654587316 \n",
      " Sensitivity:  1.0 \n",
      " Precision:  0.2808988764044944 \n",
      " combined:  0.6404494382022472\n",
      "====================================================================================================\n",
      "Candidate pairs for n=190 b=38 and r=5  (0.5, 0.7)\n",
      "Number of candidate pairs are 51\n",
      "Confusion Matrix : \n",
      " [[499447     28]\n",
      " [     2     23]]\n",
      " Accuracy:  0.9999399399399399 \n",
      " Specificity:  0.9999439411381951 \n",
      " Sensitivity:  0.92 \n",
      " Precision:  0.45098039215686275 \n",
      " combined:  0.6854901960784314\n",
      "====================================================================================================\n",
      "Candidate pairs for n=255 b=51 and r=5  (0.5, 0.8)\n",
      "Number of candidate pairs are 60\n",
      "Confusion Matrix : \n",
      " [[499439     36]\n",
      " [     1     24]]\n",
      " Accuracy:  0.9999259259259259 \n",
      " Specificity:  0.9999279243205366 \n",
      " Sensitivity:  0.96 \n",
      " Precision:  0.4 \n",
      " combined:  0.6799999999999999\n",
      "====================================================================================================\n",
      "Candidate pairs for n=365 b=73 and r=5  (0.5, 0.9)\n",
      "Number of candidate pairs are 72\n",
      "Confusion Matrix : \n",
      " [[499428     47]\n",
      " [     0     25]]\n",
      " Accuracy:  0.9999059059059059 \n",
      " Specificity:  0.9999059011962561 \n",
      " Sensitivity:  1.0 \n",
      " Precision:  0.3472222222222222 \n",
      " combined:  0.6736111111111112\n",
      "====================================================================================================\n",
      "Candidate pairs for n=470 b=94 and r=5  (0.5, 0.95)\n",
      "Number of candidate pairs are 79\n",
      "Confusion Matrix : \n",
      " [[499421     54]\n",
      " [     0     25]]\n",
      " Accuracy:  0.9998918918918919 \n",
      " Specificity:  0.9998918864808048 \n",
      " Sensitivity:  1.0 \n",
      " Precision:  0.31645569620253167 \n",
      " combined:  0.6582278481012658\n",
      "====================================================================================================\n",
      "Candidate pairs for n=725 b=145 and r=5  (0.5, 0.99)\n",
      "Number of candidate pairs are 88\n",
      "Confusion Matrix : \n",
      " [[499412     63]\n",
      " [     0     25]]\n",
      " Accuracy:  0.9998738738738738 \n",
      " Specificity:  0.999873867560939 \n",
      " Sensitivity:  1.0 \n",
      " Precision:  0.2840909090909091 \n",
      " combined:  0.6420454545454546\n",
      "====================================================================================================\n",
      "Candidate pairs for n=456 b=76 and r=6  (0.5, 0.7)\n",
      "Number of candidate pairs are 50\n",
      "Confusion Matrix : \n",
      " [[499445     30]\n",
      " [     5     20]]\n",
      " Accuracy:  0.9999299299299299 \n",
      " Specificity:  0.9999399369337805 \n",
      " Sensitivity:  0.8 \n",
      " Precision:  0.4 \n",
      " combined:  0.6000000000000001\n",
      "====================================================================================================\n",
      "Candidate pairs for n=612 b=102 and r=6  (0.5, 0.8)\n",
      "Number of candidate pairs are 54\n"
     ]
    },
    {
     "name": "stdout",
     "output_type": "stream",
     "text": [
      "Confusion Matrix : \n",
      " [[499442     33]\n",
      " [     4     21]]\n",
      " Accuracy:  0.9999259259259259 \n",
      " Specificity:  0.9999339306271585 \n",
      " Sensitivity:  0.84 \n",
      " Precision:  0.3888888888888889 \n",
      " combined:  0.6144444444444445\n",
      "====================================================================================================\n",
      "Candidate pairs for n=876 b=146 and r=6  (0.5, 0.9)\n",
      "Number of candidate pairs are 67\n",
      "Confusion Matrix : \n",
      " [[499429     46]\n",
      " [     4     21]]\n",
      " Accuracy:  0.9998998998998999 \n",
      " Specificity:  0.9999079032984634 \n",
      " Sensitivity:  0.84 \n",
      " Precision:  0.31343283582089554 \n",
      " combined:  0.5767164179104478\n",
      "====================================================================================================\n",
      "Candidate pairs for n=88 b=22 and r=4  (0.6000000000000001, 0.95)\n",
      "Number of candidate pairs are 58\n",
      "Confusion Matrix : \n",
      " [[499438     37]\n",
      " [     4     21]]\n",
      " Accuracy:  0.999917917917918 \n",
      " Specificity:  0.9999259222183292 \n",
      " Sensitivity:  0.84 \n",
      " Precision:  0.3620689655172414 \n",
      " combined:  0.6010344827586207\n",
      "====================================================================================================\n",
      "Candidate pairs for n=132 b=33 and r=4  (0.6000000000000001, 0.99)\n",
      "Number of candidate pairs are 72\n",
      "Confusion Matrix : \n",
      " [[499427     48]\n",
      " [     1     24]]\n",
      " Accuracy:  0.9999019019019019 \n",
      " Specificity:  0.9999038990940488 \n",
      " Sensitivity:  0.96 \n",
      " Precision:  0.3333333333333333 \n",
      " combined:  0.6466666666666666\n",
      "====================================================================================================\n",
      "Candidate pairs for n=100 b=20 and r=5  (0.6000000000000001, 0.8)\n",
      "Number of candidate pairs are 41\n",
      "Confusion Matrix : \n",
      " [[499455     20]\n",
      " [     4     21]]\n",
      " Accuracy:  0.999951951951952 \n",
      " Specificity:  0.9999599579558537 \n",
      " Sensitivity:  0.84 \n",
      " Precision:  0.5121951219512195 \n",
      " combined:  0.6760975609756097\n",
      "====================================================================================================\n",
      "Candidate pairs for n=140 b=28 and r=5  (0.6000000000000001, 0.9)\n",
      "Number of candidate pairs are 45\n",
      "Confusion Matrix : \n",
      " [[499452     23]\n",
      " [     3     22]]\n",
      " Accuracy:  0.999947947947948 \n",
      " Specificity:  0.9999539516492317 \n",
      " Sensitivity:  0.88 \n",
      " Precision:  0.4888888888888889 \n",
      " combined:  0.6844444444444444\n",
      "====================================================================================================\n",
      "Candidate pairs for n=185 b=37 and r=5  (0.6000000000000001, 0.95)\n",
      "Number of candidate pairs are 48\n",
      "Confusion Matrix : \n",
      " [[499450     25]\n",
      " [     2     23]]\n",
      " Accuracy:  0.999945945945946 \n",
      " Specificity:  0.999949947444817 \n",
      " Sensitivity:  0.92 \n",
      " Precision:  0.4791666666666667 \n",
      " combined:  0.6995833333333333\n",
      "====================================================================================================\n",
      "Candidate pairs for n=285 b=57 and r=5  (0.6000000000000001, 0.99)\n",
      "Number of candidate pairs are 61\n",
      "Confusion Matrix : \n",
      " [[499438     37]\n",
      " [     1     24]]\n",
      " Accuracy:  0.9999239239239239 \n",
      " Specificity:  0.9999259222183292 \n",
      " Sensitivity:  0.96 \n",
      " Precision:  0.39344262295081966 \n",
      " combined:  0.6767213114754098\n",
      "====================================================================================================\n",
      "Candidate pairs for n=150 b=25 and r=6  (0.6000000000000001, 0.7)\n",
      "Number of candidate pairs are 28\n",
      "Confusion Matrix : \n",
      " [[499464     11]\n",
      " [     8     17]]\n",
      " Accuracy:  0.999961961961962 \n",
      " Specificity:  0.9999779768757195 \n",
      " Sensitivity:  0.68 \n",
      " Precision:  0.6071428571428571 \n",
      " combined:  0.6435714285714286\n",
      "====================================================================================================\n",
      "Candidate pairs for n=204 b=34 and r=6  (0.6000000000000001, 0.8)\n",
      "Number of candidate pairs are 32\n",
      "Confusion Matrix : \n",
      " [[499461     14]\n",
      " [     7     18]]\n",
      " Accuracy:  0.9999579579579579 \n",
      " Specificity:  0.9999719705690976 \n",
      " Sensitivity:  0.72 \n",
      " Precision:  0.5625 \n",
      " combined:  0.64125\n",
      "====================================================================================================\n",
      "Candidate pairs for n=288 b=48 and r=6  (0.6000000000000001, 0.9)\n",
      "Number of candidate pairs are 39\n",
      "Confusion Matrix : \n",
      " [[499454     21]\n",
      " [     7     18]]\n",
      " Accuracy:  0.9999439439439439 \n",
      " Specificity:  0.9999579558536463 \n",
      " Sensitivity:  0.72 \n",
      " Precision:  0.46153846153846156 \n",
      " combined:  0.5907692307692307\n",
      "====================================================================================================\n",
      "Candidate pairs for n=378 b=63 and r=6  (0.6000000000000001, 0.95)\n",
      "Number of candidate pairs are 47\n",
      "Confusion Matrix : \n",
      " [[499448     27]\n",
      " [     5     20]]\n",
      " Accuracy:  0.9999359359359359 \n",
      " Specificity:  0.9999459432404024 \n",
      " Sensitivity:  0.8 \n",
      " Precision:  0.425531914893617 \n",
      " combined:  0.6127659574468085\n",
      "====================================================================================================\n",
      "Candidate pairs for n=576 b=96 and r=6  (0.6000000000000001, 0.99)\n",
      "Number of candidate pairs are 53\n",
      "Confusion Matrix : \n",
      " [[499443     32]\n",
      " [     4     21]]\n",
      " Accuracy:  0.999927927927928 \n",
      " Specificity:  0.9999359327293659 \n",
      " Sensitivity:  0.84 \n",
      " Precision:  0.39622641509433965 \n",
      " combined:  0.6181132075471698\n",
      "====================================================================================================\n",
      "Candidate pairs for n=294 b=42 and r=7  (0.6000000000000001, 0.7)\n",
      "Number of candidate pairs are 21\n",
      "Confusion Matrix : \n",
      " [[499468      7]\n",
      " [    11     14]]\n",
      " Accuracy:  0.9999639639639639 \n",
      " Specificity:  0.9999859852845487 \n",
      " Sensitivity:  0.56 \n",
      " Precision:  0.6666666666666666 \n",
      " combined:  0.6133333333333333\n",
      "====================================================================================================\n",
      "Candidate pairs for n=399 b=57 and r=7  (0.6000000000000001, 0.8)\n",
      "Number of candidate pairs are 27\n",
      "Confusion Matrix : \n",
      " [[499464     11]\n",
      " [     9     16]]\n",
      " Accuracy:  0.99995995995996 \n",
      " Specificity:  0.9999779768757195 \n",
      " Sensitivity:  0.64 \n",
      " Precision:  0.5925925925925926 \n",
      " combined:  0.6162962962962963\n",
      "====================================================================================================\n",
      "Candidate pairs for n=567 b=81 and r=7  (0.6000000000000001, 0.9)\n",
      "Number of candidate pairs are 33\n",
      "Confusion Matrix : \n",
      " [[499459     16]\n",
      " [     8     17]]\n",
      " Accuracy:  0.999951951951952 \n",
      " Specificity:  0.9999679663646829 \n",
      " Sensitivity:  0.68 \n",
      " Precision:  0.5151515151515151 \n",
      " combined:  0.5975757575757576\n",
      "====================================================================================================\n",
      "Candidate pairs for n=742 b=106 and r=7  (0.6000000000000001, 0.95)\n",
      "Number of candidate pairs are 42\n",
      "Confusion Matrix : \n",
      " [[499452     23]\n",
      " [     6     19]]\n",
      " Accuracy:  0.999941941941942 \n",
      " Specificity:  0.9999539516492317 \n",
      " Sensitivity:  0.76 \n",
      " Precision:  0.4523809523809524 \n",
      " combined:  0.6061904761904762\n",
      "====================================================================================================\n",
      "Candidate pairs for n=568 b=71 and r=8  (0.6000000000000001, 0.7)\n",
      "Number of candidate pairs are 30\n",
      "Confusion Matrix : \n",
      " [[499462     13]\n",
      " [     8     17]]\n",
      " Accuracy:  0.9999579579579579 \n",
      " Specificity:  0.9999739726713048 \n",
      " Sensitivity:  0.68 \n",
      " Precision:  0.5666666666666667 \n",
      " combined:  0.6233333333333333\n",
      "====================================================================================================\n",
      "Candidate pairs for n=760 b=95 and r=8  (0.6000000000000001, 0.8)\n",
      "Number of candidate pairs are 33\n",
      "Confusion Matrix : \n",
      " [[499459     16]\n",
      " [     8     17]]\n",
      " Accuracy:  0.999951951951952 \n",
      " Specificity:  0.9999679663646829 \n",
      " Sensitivity:  0.68 \n",
      " Precision:  0.5151515151515151 \n",
      " combined:  0.5975757575757576\n",
      "====================================================================================================\n",
      "Candidate pairs for n=125 b=25 and r=5  (0.7000000000000001, 0.99)\n",
      "Number of candidate pairs are 45\n",
      "Confusion Matrix : \n",
      " [[499452     23]\n",
      " [     3     22]]\n",
      " Accuracy:  0.999947947947948 \n",
      " Specificity:  0.9999539516492317 \n",
      " Sensitivity:  0.88 \n",
      " Precision:  0.4888888888888889 \n",
      " combined:  0.6844444444444444\n",
      "====================================================================================================\n",
      "Candidate pairs for n=108 b=18 and r=6  (0.7000000000000001, 0.9)\n",
      "Number of candidate pairs are 22\n",
      "Confusion Matrix : \n",
      " [[499467      8]\n",
      " [    11     14]]\n",
      " Accuracy:  0.999961961961962 \n",
      " Specificity:  0.9999839831823415 \n",
      " Sensitivity:  0.56 \n",
      " Precision:  0.6363636363636364 \n",
      " combined:  0.5981818181818181\n",
      "====================================================================================================\n"
     ]
    },
    {
     "name": "stdout",
     "output_type": "stream",
     "text": [
      "Candidate pairs for n=144 b=24 and r=6  (0.7000000000000001, 0.95)\n",
      "Number of candidate pairs are 28\n",
      "Confusion Matrix : \n",
      " [[499464     11]\n",
      " [     8     17]]\n",
      " Accuracy:  0.999961961961962 \n",
      " Specificity:  0.9999779768757195 \n",
      " Sensitivity:  0.68 \n",
      " Precision:  0.6071428571428571 \n",
      " combined:  0.6435714285714286\n",
      "====================================================================================================\n",
      "Candidate pairs for n=222 b=37 and r=6  (0.7000000000000001, 0.99)\n",
      "Number of candidate pairs are 33\n",
      "Confusion Matrix : \n",
      " [[499460     15]\n",
      " [     7     18]]\n",
      " Accuracy:  0.999955955955956 \n",
      " Specificity:  0.9999699684668902 \n",
      " Sensitivity:  0.72 \n",
      " Precision:  0.5454545454545454 \n",
      " combined:  0.6327272727272727\n",
      "====================================================================================================\n",
      "Candidate pairs for n=98 b=14 and r=7  (0.7000000000000001, 0.7)\n",
      "Number of candidate pairs are 15\n",
      "Confusion Matrix : \n",
      " [[499470      5]\n",
      " [    15     10]]\n",
      " Accuracy:  0.99995995995996 \n",
      " Specificity:  0.9999899894889634 \n",
      " Sensitivity:  0.4 \n",
      " Precision:  0.6666666666666666 \n",
      " combined:  0.5333333333333333\n",
      "====================================================================================================\n",
      "Candidate pairs for n=133 b=19 and r=7  (0.7000000000000001, 0.8)\n",
      "Number of candidate pairs are 18\n",
      "Confusion Matrix : \n",
      " [[499469      6]\n",
      " [    13     12]]\n",
      " Accuracy:  0.999961961961962 \n",
      " Specificity:  0.9999879873867561 \n",
      " Sensitivity:  0.48 \n",
      " Precision:  0.6666666666666666 \n",
      " combined:  0.5733333333333333\n",
      "====================================================================================================\n",
      "Candidate pairs for n=189 b=27 and r=7  (0.7000000000000001, 0.9)\n",
      "Number of candidate pairs are 20\n",
      "Confusion Matrix : \n",
      " [[499469      6]\n",
      " [    11     14]]\n",
      " Accuracy:  0.999965965965966 \n",
      " Specificity:  0.9999879873867561 \n",
      " Sensitivity:  0.56 \n",
      " Precision:  0.7 \n",
      " combined:  0.63\n",
      "====================================================================================================\n",
      "Candidate pairs for n=245 b=35 and r=7  (0.7000000000000001, 0.95)\n",
      "Number of candidate pairs are 20\n",
      "Confusion Matrix : \n",
      " [[499469      6]\n",
      " [    11     14]]\n",
      " Accuracy:  0.999965965965966 \n",
      " Specificity:  0.9999879873867561 \n",
      " Sensitivity:  0.56 \n",
      " Precision:  0.7 \n",
      " combined:  0.63\n",
      "====================================================================================================\n",
      "Candidate pairs for n=378 b=54 and r=7  (0.7000000000000001, 0.99)\n",
      "Number of candidate pairs are 25\n",
      "Confusion Matrix : \n",
      " [[499465     10]\n",
      " [    10     15]]\n",
      " Accuracy:  0.99995995995996 \n",
      " Specificity:  0.9999799789779268 \n",
      " Sensitivity:  0.6 \n",
      " Precision:  0.6 \n",
      " combined:  0.6\n",
      "====================================================================================================\n",
      "Candidate pairs for n=160 b=20 and r=8  (0.7000000000000001, 0.7)\n",
      "Number of candidate pairs are 16\n",
      "Confusion Matrix : \n",
      " [[499469      6]\n",
      " [    15     10]]\n",
      " Accuracy:  0.9999579579579579 \n",
      " Specificity:  0.9999879873867561 \n",
      " Sensitivity:  0.4 \n",
      " Precision:  0.625 \n",
      " combined:  0.5125\n",
      "====================================================================================================\n",
      "Candidate pairs for n=216 b=27 and r=8  (0.7000000000000001, 0.8)\n",
      "Number of candidate pairs are 22\n",
      "Confusion Matrix : \n",
      " [[499464     11]\n",
      " [    14     11]]\n",
      " Accuracy:  0.9999499499499499 \n",
      " Specificity:  0.9999779768757195 \n",
      " Sensitivity:  0.44 \n",
      " Precision:  0.5 \n",
      " combined:  0.47\n",
      "====================================================================================================\n",
      "Candidate pairs for n=312 b=39 and r=8  (0.7000000000000001, 0.9)\n",
      "Number of candidate pairs are 23\n",
      "Confusion Matrix : \n",
      " [[499464     11]\n",
      " [    13     12]]\n",
      " Accuracy:  0.999951951951952 \n",
      " Specificity:  0.9999779768757195 \n",
      " Sensitivity:  0.48 \n",
      " Precision:  0.5217391304347826 \n",
      " combined:  0.5008695652173913\n",
      "====================================================================================================\n",
      "Candidate pairs for n=400 b=50 and r=8  (0.7000000000000001, 0.95)\n",
      "Number of candidate pairs are 26\n",
      "Confusion Matrix : \n",
      " [[499462     13]\n",
      " [    12     13]]\n",
      " Accuracy:  0.9999499499499499 \n",
      " Specificity:  0.9999739726713048 \n",
      " Sensitivity:  0.52 \n",
      " Precision:  0.5 \n",
      " combined:  0.51\n",
      "====================================================================================================\n",
      "Candidate pairs for n=624 b=78 and r=8  (0.7000000000000001, 0.99)\n",
      "Number of candidate pairs are 30\n",
      "Confusion Matrix : \n",
      " [[499462     13]\n",
      " [     8     17]]\n",
      " Accuracy:  0.9999579579579579 \n",
      " Specificity:  0.9999739726713048 \n",
      " Sensitivity:  0.68 \n",
      " Precision:  0.5666666666666667 \n",
      " combined:  0.6233333333333333\n",
      "====================================================================================================\n",
      "Candidate pairs for n=261 b=29 and r=9  (0.7000000000000001, 0.7)\n",
      "Number of candidate pairs are 12\n",
      "Confusion Matrix : \n",
      " [[499469      6]\n",
      " [    19      6]]\n",
      " Accuracy:  0.9999499499499499 \n",
      " Specificity:  0.9999879873867561 \n",
      " Sensitivity:  0.24 \n",
      " Precision:  0.5 \n",
      " combined:  0.37\n",
      "====================================================================================================\n",
      "Candidate pairs for n=351 b=39 and r=9  (0.7000000000000001, 0.8)\n",
      "Number of candidate pairs are 14\n",
      "Confusion Matrix : \n",
      " [[499468      7]\n",
      " [    18      7]]\n",
      " Accuracy:  0.9999499499499499 \n",
      " Specificity:  0.9999859852845487 \n",
      " Sensitivity:  0.28 \n",
      " Precision:  0.5 \n",
      " combined:  0.39\n",
      "====================================================================================================\n",
      "Candidate pairs for n=504 b=56 and r=9  (0.7000000000000001, 0.9)\n",
      "Number of candidate pairs are 17\n",
      "Confusion Matrix : \n",
      " [[499467      8]\n",
      " [    16      9]]\n",
      " Accuracy:  0.999951951951952 \n",
      " Specificity:  0.9999839831823415 \n",
      " Sensitivity:  0.36 \n",
      " Precision:  0.5294117647058824 \n",
      " combined:  0.4447058823529412\n",
      "====================================================================================================\n",
      "Candidate pairs for n=657 b=73 and r=9  (0.7000000000000001, 0.95)\n",
      "Number of candidate pairs are 20\n",
      "Confusion Matrix : \n",
      " [[499467      8]\n",
      " [    13     12]]\n",
      " Accuracy:  0.9999579579579579 \n",
      " Specificity:  0.9999839831823415 \n",
      " Sensitivity:  0.48 \n",
      " Precision:  0.6 \n",
      " combined:  0.54\n",
      "====================================================================================================\n",
      "Candidate pairs for n=420 b=42 and r=10  (0.7000000000000001, 0.7)\n",
      "Number of candidate pairs are 9\n",
      "Confusion Matrix : \n",
      " [[499473      2]\n",
      " [    18      7]]\n",
      " Accuracy:  0.99995995995996 \n",
      " Specificity:  0.9999959957955854 \n",
      " Sensitivity:  0.28 \n",
      " Precision:  0.7777777777777778 \n",
      " combined:  0.528888888888889\n",
      "====================================================================================================\n",
      "Candidate pairs for n=560 b=56 and r=10  (0.7000000000000001, 0.8)\n",
      "Number of candidate pairs are 10\n",
      "Confusion Matrix : \n",
      " [[499473      2]\n",
      " [    17      8]]\n",
      " Accuracy:  0.999961961961962 \n",
      " Specificity:  0.9999959957955854 \n",
      " Sensitivity:  0.32 \n",
      " Precision:  0.8 \n",
      " combined:  0.56\n",
      "====================================================================================================\n",
      "Candidate pairs for n=800 b=80 and r=10  (0.7000000000000001, 0.9)\n",
      "Number of candidate pairs are 12\n",
      "Confusion Matrix : \n",
      " [[499472      3]\n",
      " [    16      9]]\n",
      " Accuracy:  0.999961961961962 \n",
      " Specificity:  0.999993993693378 \n",
      " Sensitivity:  0.36 \n",
      " Precision:  0.75 \n",
      " combined:  0.5549999999999999\n",
      "====================================================================================================\n",
      "Candidate pairs for n=90 b=15 and r=6  (0.8, 0.99)\n",
      "Number of candidate pairs are 21\n",
      "Confusion Matrix : \n",
      " [[499467      8]\n",
      " [    12     13]]\n",
      " Accuracy:  0.99995995995996 \n",
      " Specificity:  0.9999839831823415 \n",
      " Sensitivity:  0.52 \n",
      " Precision:  0.6190476190476191 \n",
      " combined:  0.5695238095238095\n",
      "====================================================================================================\n",
      "Candidate pairs for n=91 b=13 and r=7  (0.8, 0.95)\n",
      "Number of candidate pairs are 15\n",
      "Confusion Matrix : \n",
      " [[499470      5]\n",
      " [    15     10]]\n",
      " Accuracy:  0.99995995995996 \n",
      " Specificity:  0.9999899894889634 \n",
      " Sensitivity:  0.4 \n",
      " Precision:  0.6666666666666666 \n",
      " combined:  0.5333333333333333\n",
      "====================================================================================================\n"
     ]
    },
    {
     "name": "stdout",
     "output_type": "stream",
     "text": [
      "Candidate pairs for n=140 b=20 and r=7  (0.8, 0.99)\n",
      "Number of candidate pairs are 18\n",
      "Confusion Matrix : \n",
      " [[499469      6]\n",
      " [    13     12]]\n",
      " Accuracy:  0.999961961961962 \n",
      " Specificity:  0.9999879873867561 \n",
      " Sensitivity:  0.48 \n",
      " Precision:  0.6666666666666666 \n",
      " combined:  0.5733333333333333\n",
      "====================================================================================================\n",
      "Candidate pairs for n=104 b=13 and r=8  (0.8, 0.9)\n",
      "Number of candidate pairs are 12\n",
      "Confusion Matrix : \n",
      " [[499471      4]\n",
      " [    17      8]]\n",
      " Accuracy:  0.9999579579579579 \n",
      " Specificity:  0.9999919915911707 \n",
      " Sensitivity:  0.32 \n",
      " Precision:  0.6666666666666666 \n",
      " combined:  0.4933333333333333\n",
      "====================================================================================================\n",
      "Candidate pairs for n=128 b=16 and r=8  (0.8, 0.95)\n",
      "Number of candidate pairs are 14\n",
      "Confusion Matrix : \n",
      " [[499470      5]\n",
      " [    16      9]]\n",
      " Accuracy:  0.9999579579579579 \n",
      " Specificity:  0.9999899894889634 \n",
      " Sensitivity:  0.36 \n",
      " Precision:  0.6428571428571429 \n",
      " combined:  0.5014285714285714\n",
      "====================================================================================================\n",
      "Candidate pairs for n=200 b=25 and r=8  (0.8, 0.99)\n",
      "Number of candidate pairs are 21\n",
      "Confusion Matrix : \n",
      " [[499465     10]\n",
      " [    14     11]]\n",
      " Accuracy:  0.999951951951952 \n",
      " Specificity:  0.9999799789779268 \n",
      " Sensitivity:  0.44 \n",
      " Precision:  0.5238095238095238 \n",
      " combined:  0.48190476190476195\n",
      "====================================================================================================\n",
      "Candidate pairs for n=99 b=11 and r=9  (0.8, 0.8)\n",
      "Number of candidate pairs are 7\n",
      "Confusion Matrix : \n",
      " [[499472      3]\n",
      " [    21      4]]\n",
      " Accuracy:  0.999951951951952 \n",
      " Specificity:  0.999993993693378 \n",
      " Sensitivity:  0.16 \n",
      " Precision:  0.5714285714285714 \n",
      " combined:  0.3657142857142857\n",
      "====================================================================================================\n",
      "Candidate pairs for n=144 b=16 and r=9  (0.8, 0.9)\n",
      "Number of candidate pairs are 11\n",
      "Confusion Matrix : \n",
      " [[499470      5]\n",
      " [    19      6]]\n",
      " Accuracy:  0.999951951951952 \n",
      " Specificity:  0.9999899894889634 \n",
      " Sensitivity:  0.24 \n",
      " Precision:  0.5454545454545454 \n",
      " combined:  0.3927272727272727\n",
      "====================================================================================================\n",
      "Candidate pairs for n=189 b=21 and r=9  (0.8, 0.95)\n",
      "Number of candidate pairs are 11\n",
      "Confusion Matrix : \n",
      " [[499470      5]\n",
      " [    19      6]]\n",
      " Accuracy:  0.999951951951952 \n",
      " Specificity:  0.9999899894889634 \n",
      " Sensitivity:  0.24 \n",
      " Precision:  0.5454545454545454 \n",
      " combined:  0.3927272727272727\n",
      "====================================================================================================\n",
      "Candidate pairs for n=288 b=32 and r=9  (0.8, 0.99)\n",
      "Number of candidate pairs are 12\n",
      "Confusion Matrix : \n",
      " [[499469      6]\n",
      " [    19      6]]\n",
      " Accuracy:  0.9999499499499499 \n",
      " Specificity:  0.9999879873867561 \n",
      " Sensitivity:  0.24 \n",
      " Precision:  0.5 \n",
      " combined:  0.37\n",
      "====================================================================================================\n",
      "Candidate pairs for n=110 b=11 and r=10  (0.8, 0.7)\n",
      "Number of candidate pairs are 3\n",
      "Confusion Matrix : \n",
      " [[499474      1]\n",
      " [    23      2]]\n",
      " Accuracy:  0.999951951951952 \n",
      " Specificity:  0.9999979978977926 \n",
      " Sensitivity:  0.08 \n",
      " Precision:  0.6666666666666666 \n",
      " combined:  0.3733333333333333\n",
      "====================================================================================================\n",
      "Candidate pairs for n=140 b=14 and r=10  (0.8, 0.8)\n",
      "Number of candidate pairs are 3\n",
      "Confusion Matrix : \n",
      " [[499474      1]\n",
      " [    23      2]]\n",
      " Accuracy:  0.999951951951952 \n",
      " Specificity:  0.9999979978977926 \n",
      " Sensitivity:  0.08 \n",
      " Precision:  0.6666666666666666 \n",
      " combined:  0.3733333333333333\n",
      "====================================================================================================\n",
      "Candidate pairs for n=200 b=20 and r=10  (0.8, 0.9)\n",
      "Number of candidate pairs are 5\n",
      "Confusion Matrix : \n",
      " [[499474      1]\n",
      " [    21      4]]\n",
      " Accuracy:  0.999955955955956 \n",
      " Specificity:  0.9999979978977926 \n",
      " Sensitivity:  0.16 \n",
      " Precision:  0.8 \n",
      " combined:  0.48000000000000004\n",
      "====================================================================================================\n",
      "Candidate pairs for n=260 b=26 and r=10  (0.8, 0.95)\n",
      "Number of candidate pairs are 7\n",
      "Confusion Matrix : \n",
      " [[499474      1]\n",
      " [    19      6]]\n",
      " Accuracy:  0.99995995995996 \n",
      " Specificity:  0.9999979978977926 \n",
      " Sensitivity:  0.24 \n",
      " Precision:  0.8571428571428571 \n",
      " combined:  0.5485714285714285\n",
      "====================================================================================================\n",
      "Candidate pairs for n=410 b=41 and r=10  (0.8, 0.99)\n",
      "Number of candidate pairs are 9\n",
      "Confusion Matrix : \n",
      " [[499473      2]\n",
      " [    18      7]]\n",
      " Accuracy:  0.99995995995996 \n",
      " Specificity:  0.9999959957955854 \n",
      " Sensitivity:  0.28 \n",
      " Precision:  0.7777777777777778 \n",
      " combined:  0.528888888888889\n",
      "====================================================================================================\n",
      "Candidate pairs for n=81 b=9 and r=9  (0.9, 0.99)\n",
      "Number of candidate pairs are 7\n",
      "Confusion Matrix : \n",
      " [[499472      3]\n",
      " [    21      4]]\n",
      " Accuracy:  0.999951951951952 \n",
      " Specificity:  0.999993993693378 \n",
      " Sensitivity:  0.16 \n",
      " Precision:  0.5714285714285714 \n",
      " combined:  0.3657142857142857\n",
      "====================================================================================================\n",
      "Candidate pairs for n=110 b=11 and r=10  (0.9, 0.99)\n",
      "Number of candidate pairs are 3\n",
      "Confusion Matrix : \n",
      " [[499474      1]\n",
      " [    23      2]]\n",
      " Accuracy:  0.999951951951952 \n",
      " Specificity:  0.9999979978977926 \n",
      " Sensitivity:  0.08 \n",
      " Precision:  0.6666666666666666 \n",
      " combined:  0.3733333333333333\n",
      "====================================================================================================\n",
      "time spent:  366.99497747421265\n",
      "best_res:  0.6995833333333333\n"
     ]
    }
   ],
   "source": [
    "\"\"\"\n",
    "    Finding the best parameters (parameter tuning)\n",
    "\"\"\"\n",
    "best_comb = 0\n",
    "res = []\n",
    "# weights are for accuracy, spec, sens, precision\n",
    "weights = [0,0,1,1]\n",
    "t0 = time.time()\n",
    "for op in ops:\n",
    "    b = int(op[0][0])\n",
    "    r = int(op[0][1])\n",
    "    lsh = LSH(b,r)\n",
    "    l = b * r\n",
    "    for signature in signatures:\n",
    "        lsh.add_hash(signature[:l])\n",
    "\n",
    "    candidate_pairs = lsh.check_candidates()\n",
    "    print(f\"Candidate pairs for n={l} b={b} and r={r} \", op[1])\n",
    "    print(f\"Number of candidate pairs are {len(candidate_pairs)}\")\n",
    "    metrics, comb = check_metrics(candidate_pairs, real_sim, weights)\n",
    "    if comb > best_comb:\n",
    "        best_comb = comb\n",
    "    res.append([comb, b, r, l, op[1], metrics])\n",
    "    print(\"=\"*100)\n",
    "t1 = time.time()\n",
    "print(\"time spent: \", t1-t0)\n",
    "print(\"best_res: \", best_comb)"
   ]
  },
  {
   "cell_type": "code",
   "execution_count": 108,
   "metadata": {},
   "outputs": [],
   "source": [
    "results = pd.DataFrame.from_records(res, columns=['combined', 'b', 'r', 'M', 'vals', 'metrics'])\n",
    "results['similarity'], results['probability']=results.vals.str\n",
    "results['acc'], results['spec'], results['sens'], results['prec']=results.metrics.str\n",
    "results = results.drop(['vals', 'metrics'], axis=1)"
   ]
  },
  {
   "cell_type": "code",
   "execution_count": 109,
   "metadata": {
    "scrolled": true
   },
   "outputs": [
    {
     "data": {
      "text/plain": [
       "(78, 10)"
      ]
     },
     "execution_count": 109,
     "metadata": {},
     "output_type": "execute_result"
    }
   ],
   "source": [
    "results.shape"
   ]
  },
  {
   "cell_type": "code",
   "execution_count": 110,
   "metadata": {},
   "outputs": [
    {
     "data": {
      "text/html": [
       "<div>\n",
       "<style scoped>\n",
       "    .dataframe tbody tr th:only-of-type {\n",
       "        vertical-align: middle;\n",
       "    }\n",
       "\n",
       "    .dataframe tbody tr th {\n",
       "        vertical-align: top;\n",
       "    }\n",
       "\n",
       "    .dataframe thead th {\n",
       "        text-align: right;\n",
       "    }\n",
       "</style>\n",
       "<table border=\"1\" class=\"dataframe\">\n",
       "  <thead>\n",
       "    <tr style=\"text-align: right;\">\n",
       "      <th></th>\n",
       "      <th>combined</th>\n",
       "      <th>b</th>\n",
       "      <th>r</th>\n",
       "      <th>M</th>\n",
       "      <th>similarity</th>\n",
       "      <th>probability</th>\n",
       "      <th>acc</th>\n",
       "      <th>spec</th>\n",
       "      <th>sens</th>\n",
       "      <th>prec</th>\n",
       "    </tr>\n",
       "  </thead>\n",
       "  <tbody>\n",
       "    <tr>\n",
       "      <th>0</th>\n",
       "      <td>0.611607</td>\n",
       "      <td>35</td>\n",
       "      <td>3</td>\n",
       "      <td>105</td>\n",
       "      <td>0.4</td>\n",
       "      <td>0.90</td>\n",
       "      <td>0.999826</td>\n",
       "      <td>0.999826</td>\n",
       "      <td>1.00</td>\n",
       "      <td>0.223214</td>\n",
       "    </tr>\n",
       "    <tr>\n",
       "      <th>1</th>\n",
       "      <td>0.603306</td>\n",
       "      <td>45</td>\n",
       "      <td>3</td>\n",
       "      <td>135</td>\n",
       "      <td>0.4</td>\n",
       "      <td>0.95</td>\n",
       "      <td>0.999808</td>\n",
       "      <td>0.999808</td>\n",
       "      <td>1.00</td>\n",
       "      <td>0.206612</td>\n",
       "    </tr>\n",
       "    <tr>\n",
       "      <th>2</th>\n",
       "      <td>0.577640</td>\n",
       "      <td>70</td>\n",
       "      <td>3</td>\n",
       "      <td>210</td>\n",
       "      <td>0.4</td>\n",
       "      <td>0.99</td>\n",
       "      <td>0.999728</td>\n",
       "      <td>0.999728</td>\n",
       "      <td>1.00</td>\n",
       "      <td>0.155280</td>\n",
       "    </tr>\n",
       "    <tr>\n",
       "      <th>3</th>\n",
       "      <td>0.631899</td>\n",
       "      <td>46</td>\n",
       "      <td>4</td>\n",
       "      <td>184</td>\n",
       "      <td>0.4</td>\n",
       "      <td>0.70</td>\n",
       "      <td>0.999888</td>\n",
       "      <td>0.999890</td>\n",
       "      <td>0.96</td>\n",
       "      <td>0.303797</td>\n",
       "    </tr>\n",
       "    <tr>\n",
       "      <th>4</th>\n",
       "      <td>0.643678</td>\n",
       "      <td>62</td>\n",
       "      <td>4</td>\n",
       "      <td>248</td>\n",
       "      <td>0.4</td>\n",
       "      <td>0.80</td>\n",
       "      <td>0.999876</td>\n",
       "      <td>0.999876</td>\n",
       "      <td>1.00</td>\n",
       "      <td>0.287356</td>\n",
       "    </tr>\n",
       "  </tbody>\n",
       "</table>\n",
       "</div>"
      ],
      "text/plain": [
       "   combined   b  r    M  similarity  probability       acc      spec  sens  \\\n",
       "0  0.611607  35  3  105         0.4         0.90  0.999826  0.999826  1.00   \n",
       "1  0.603306  45  3  135         0.4         0.95  0.999808  0.999808  1.00   \n",
       "2  0.577640  70  3  210         0.4         0.99  0.999728  0.999728  1.00   \n",
       "3  0.631899  46  4  184         0.4         0.70  0.999888  0.999890  0.96   \n",
       "4  0.643678  62  4  248         0.4         0.80  0.999876  0.999876  1.00   \n",
       "\n",
       "       prec  \n",
       "0  0.223214  \n",
       "1  0.206612  \n",
       "2  0.155280  \n",
       "3  0.303797  \n",
       "4  0.287356  "
      ]
     },
     "execution_count": 110,
     "metadata": {},
     "output_type": "execute_result"
    }
   ],
   "source": [
    "results.head()"
   ]
  },
  {
   "cell_type": "code",
   "execution_count": 111,
   "metadata": {},
   "outputs": [],
   "source": [
    "results.to_csv(\"results.csv\")"
   ]
  },
  {
   "cell_type": "markdown",
   "metadata": {
    "pycharm": {
     "name": "#%% md\n"
    }
   },
   "source": [
    "## Plotting"
   ]
  },
  {
   "cell_type": "code",
   "execution_count": null,
   "outputs": [],
   "source": [
    "plt.figure(figsize=(8,5))\n",
    "groups = results.groupby(\"r\")\n",
    "for name, group in groups:\n",
    "    plt.plot(group[\"b\"], group[\"combined\"], marker=\"o\", linestyle=\"\", label=name)\n",
    "plt.legend(title=\"r\")\n",
    "\n",
    "plt.xlabel('b')\n",
    "plt.ylabel('Metric')\n",
    "plt.title(\"Relation between a combined metric and a number of bands\")\n",
    "plt.show()"
   ],
   "metadata": {
    "collapsed": false,
    "pycharm": {
     "name": "#%%\n"
    }
   }
  },
  {
   "cell_type": "code",
   "execution_count": null,
   "metadata": {},
   "outputs": [],
   "source": []
  },
  {
   "cell_type": "code",
   "execution_count": 93,
   "metadata": {},
   "outputs": [
    {
     "data": {
      "image/png": "[encoded data removed]",
      "text/plain": [
       "<Figure size 576x360 with 1 Axes>"
      ]
     },
     "metadata": {
      "needs_background": "light"
     },
     "output_type": "display_data"
    }
   ],
   "source": [
    "plt.figure(figsize=(8,5))\n",
    "plt.scatter(results[\"r\"],results[\"combined\"])\n",
    "# plt.legend()\n",
    "plt.xlabel('r')\n",
    "plt.ylabel('Metric')\n",
    "plt.title(\"Relation between a combined metric and a number of rows\")\n",
    "plt.show()"
   ]
  },
  {
   "cell_type": "code",
   "execution_count": 94,
   "metadata": {},
   "outputs": [
    {
     "data": {
      "image/png": "[encoded data removed]",
      "text/plain": [
       "<Figure size 576x360 with 1 Axes>"
      ]
     },
     "metadata": {
      "needs_background": "light"
     },
     "output_type": "display_data"
    }
   ],
   "source": [
    "plt.figure(figsize=(8,5))\n",
    "plt.scatter(results[\"M\"],results[\"combined\"])\n",
    "plt.xlabel('M')\n",
    "plt.ylabel('Metric')\n",
    "plt.title(\"Relation between a combined metric and number of hash functions\")\n",
    "plt.show()"
   ]
  },
  {
   "cell_type": "code",
   "execution_count": null,
   "metadata": {},
   "outputs": [],
   "source": []
  },
  {
   "cell_type": "code",
   "execution_count": 95,
   "metadata": {
    "scrolled": true
   },
   "outputs": [
    {
     "data": {
      "image/png": "[encoded data removed]",
      "text/plain": [
       "<Figure size 576x360 with 1 Axes>"
      ]
     },
     "metadata": {
      "needs_background": "light"
     },
     "output_type": "display_data"
    }
   ],
   "source": [
    "plt.figure(figsize=(8,5))\n",
    "plt.scatter(results[\"similarity\"],results[\"combined\"])\n",
    "plt.xlabel('similarity')\n",
    "plt.ylabel('Metric')\n",
    "plt.title(\"Relation between a combined metric and a similarity\")\n",
    "plt.show()"
   ]
  },
  {
   "cell_type": "code",
   "execution_count": 102,
   "metadata": {},
   "outputs": [
    {
     "data": {
      "image/png": "[encoded data removed]",
      "text/plain": [
       "<Figure size 576x360 with 1 Axes>"
      ]
     },
     "metadata": {
      "needs_background": "light"
     },
     "output_type": "display_data"
    }
   ],
   "source": [
    "plt.figure(figsize=(8,5))\n",
    "plt.scatter(results[\"similarity\"],results[\"sens\"])\n",
    "plt.xlabel('Similarity')\n",
    "plt.ylabel('Sensitivity')\n",
    "plt.title(\"Relation between sensitivity and similarity\")\n",
    "plt.show()"
   ]
  },
  {
   "cell_type": "code",
   "execution_count": 104,
   "metadata": {},
   "outputs": [
    {
     "data": {
      "image/png": "[encoded data removed]",
      "text/plain": [
       "<Figure size 576x360 with 1 Axes>"
      ]
     },
     "metadata": {
      "needs_background": "light"
     },
     "output_type": "display_data"
    }
   ],
   "source": [
    "plt.figure(figsize=(8,5))\n",
    "plt.scatter(results[\"r\"],results[\"sens\"])\n",
    "plt.xlabel('r')\n",
    "plt.ylabel('Sensitivity')\n",
    "plt.title(\"Relation between sensitivity and r\")\n",
    "plt.show()"
   ]
  },
  {
   "cell_type": "code",
   "execution_count": 103,
   "metadata": {},
   "outputs": [
    {
     "data": {
      "image/png": "[encoded data removed]",
      "text/plain": [
       "<Figure size 576x360 with 1 Axes>"
      ]
     },
     "metadata": {
      "needs_background": "light"
     },
     "output_type": "display_data"
    }
   ],
   "source": [
    "plt.figure(figsize=(8,5))\n",
    "plt.scatter(results[\"similarity\"],results[\"prec\"])\n",
    "plt.xlabel('Similarity')\n",
    "plt.ylabel('Precision')\n",
    "plt.title(\"Relation between precision and similarity\")\n",
    "plt.show()"
   ]
  },
  {
   "cell_type": "code",
   "execution_count": 99,
   "metadata": {},
   "outputs": [
    {
     "data": {
      "image/png": "[encoded data removed]",
      "text/plain": [
       "<Figure size 576x360 with 1 Axes>"
      ]
     },
     "metadata": {
      "needs_background": "light"
     },
     "output_type": "display_data"
    }
   ],
   "source": [
    "plt.figure(figsize=(8,5))\n",
    "plt.scatter(results[\"similarity\"],results[\"acc\"])\n",
    "plt.xlabel('Similarity')\n",
    "plt.ylabel('Precision')\n",
    "plt.title(\"Relation between precision and similarity\")\n",
    "plt.show()"
   ]
  },
  {
   "cell_type": "code",
   "execution_count": 72,
   "metadata": {},
   "outputs": [
    {
     "data": {
      "image/png": "[encoded data removed]",
      "text/plain": [
       "<Figure size 576x360 with 1 Axes>"
      ]
     },
     "metadata": {
      "needs_background": "light"
     },
     "output_type": "display_data"
    }
   ],
   "source": [
    "plt.figure(figsize=(8,5))\n",
    "plt.scatter(results[\"probability\"],results[\"combined\"])\n",
    "plt.xlabel('probability')\n",
    "plt.ylabel('Metric')\n",
    "plt.title(\"Relation between a combined metric and a probability\")\n",
    "plt.show()"
   ]
  },
  {
   "cell_type": "code",
   "execution_count": 107,
   "metadata": {
    "pycharm": {
     "name": "#%%\n"
    },
    "scrolled": true
   },
   "outputs": [
    {
     "data": {
      "text/html": [
       "<div>\n",
       "<style scoped>\n",
       "    .dataframe tbody tr th:only-of-type {\n",
       "        vertical-align: middle;\n",
       "    }\n",
       "\n",
       "    .dataframe tbody tr th {\n",
       "        vertical-align: top;\n",
       "    }\n",
       "\n",
       "    .dataframe thead th {\n",
       "        text-align: right;\n",
       "    }\n",
       "</style>\n",
       "<table border=\"1\" class=\"dataframe\">\n",
       "  <thead>\n",
       "    <tr style=\"text-align: right;\">\n",
       "      <th></th>\n",
       "      <th>combined</th>\n",
       "      <th>b</th>\n",
       "      <th>r</th>\n",
       "      <th>M</th>\n",
       "      <th>similarity</th>\n",
       "      <th>probability</th>\n",
       "      <th>acc</th>\n",
       "      <th>spec</th>\n",
       "      <th>sens</th>\n",
       "      <th>prec</th>\n",
       "    </tr>\n",
       "  </thead>\n",
       "  <tbody>\n",
       "    <tr>\n",
       "      <th>27</th>\n",
       "      <td>0.699583</td>\n",
       "      <td>37</td>\n",
       "      <td>5</td>\n",
       "      <td>185</td>\n",
       "      <td>0.6</td>\n",
       "      <td>0.95</td>\n",
       "      <td>0.999946</td>\n",
       "      <td>0.99995</td>\n",
       "      <td>0.92</td>\n",
       "      <td>0.479167</td>\n",
       "    </tr>\n",
       "  </tbody>\n",
       "</table>\n",
       "</div>"
      ],
      "text/plain": [
       "    combined   b  r    M  similarity  probability       acc     spec  sens  \\\n",
       "27  0.699583  37  5  185         0.6         0.95  0.999946  0.99995  0.92   \n",
       "\n",
       "        prec  \n",
       "27  0.479167  "
      ]
     },
     "execution_count": 107,
     "metadata": {},
     "output_type": "execute_result"
    }
   ],
   "source": [
    "results[results.combined == results.combined.max()]"
   ]
  },
  {
   "cell_type": "markdown",
   "metadata": {
    "pycharm": {
     "name": "#%% md\n"
    }
   },
   "source": [
    "## Parameters"
   ]
  },
  {
   "cell_type": "code",
   "execution_count": 23,
   "metadata": {},
   "outputs": [],
   "source": [
    "\"\"\"\n",
    "    prob_func\n",
    "    To calculate the probability given r, b and p\n",
    "\"\"\"\n",
    "def prob_fun(r,b,p):\n",
    "    return 1-(1-p**r)**b"
   ]
  },
  {
   "cell_type": "code",
   "execution_count": 42,
   "metadata": {},
   "outputs": [
    {
     "name": "stdout",
     "output_type": "stream",
     "text": [
      "6\n"
     ]
    }
   ],
   "source": [
    "rows = np.linspace(2,7,6)\n",
    "probabilities = [0.95]\n",
    "similarities = [0.8]\n",
    "# similarities = np.linspace(0.5,0.9,5)\n",
    "ops = get_ops(similarities, rows, probabilities)\n",
    "print(len(ops))"
   ]
  },
  {
   "cell_type": "code",
   "execution_count": 43,
   "metadata": {},
   "outputs": [
    {
     "name": "stdout",
     "output_type": "stream",
     "text": [
      "((3, 2.0), (0.8, 0.95))\n",
      "((4, 3.0), (0.8, 0.95))\n",
      "((6, 4.0), (0.8, 0.95))\n",
      "((8, 5.0), (0.8, 0.95))\n",
      "((10, 6.0), (0.8, 0.95))\n",
      "((13, 7.0), (0.8, 0.95))\n"
     ]
    }
   ],
   "source": [
    "for op in ops:\n",
    "    print(op)\n",
    "pts = np.linspace(0,1,100)\n"
   ]
  },
  {
   "cell_type": "markdown",
   "metadata": {
    "pycharm": {
     "name": "#%% md\n"
    }
   },
   "source": [
    "## Plotting"
   ]
  },
  {
   "cell_type": "code",
   "execution_count": null,
   "outputs": [],
   "source": [
    "n = 200\n",
    "ops = [(2,100),(4,50),(10,20),(20,10),(50,4),(100,2)]\n",
    "\n",
    "for op in ops:\n",
    "#     plt.subfigure(subfigsize=(10,5))\n",
    "#     plt.plot(pts, prob_fun(op[0][1], op[0][0], pts ), label=op)    \n",
    "    plt.plot(pts, prob_fun(op[1], op[0], pts ), label=op)    \n",
    "\n",
    "plt.legend(loc='center left', bbox_to_anchor=(1, 0.5))\n",
    "plt.xlabel('similarity')\n",
    "plt.ylabel('Probability')\n",
    "plt.title(\"legend: (r,b). p_true=0.8 (vertical line)\")\n",
    "plt.show()"
   ],
   "metadata": {
    "collapsed": false,
    "pycharm": {
     "name": "#%%\n"
    }
   }
  },
  {
   "cell_type": "code",
   "execution_count": 34,
   "metadata": {},
   "outputs": [
    {
     "data": {
      "image/png": "[encoded data removed]",
      "text/plain": [
       "<Figure size 432x288 with 1 Axes>"
      ]
     },
     "metadata": {
      "needs_background": "light"
     },
     "output_type": "display_data"
    }
   ],
   "source": [
    "\n",
    "n = 200\n",
    "ops = [(1,200),(2,200),(3, 200),(4,200),(5, 200),(6, 200)]\n",
    "\n",
    "for op in ops:\n",
    "#     plt.subfigure(subfigsize=(10,5))\n",
    "#     plt.plot(pts, prob_fun(op[0][1], op[0][0], pts ), label=op)    \n",
    "    plt.plot(pts, prob_fun(op[0], op[1], pts ), label=op)    \n",
    "\n",
    "plt.legend(loc='center left', bbox_to_anchor=(1, 0.5))\n",
    "plt.xlabel('similarity')\n",
    "plt.ylabel('Probability')\n",
    "plt.title(\"legend: (r,b)\")\n",
    "plt.show()"
   ]
  },
  {
   "cell_type": "code",
   "execution_count": 54,
   "metadata": {},
   "outputs": [
    {
     "data": {
      "image/png": "[encoded data removed]",
      "text/plain": [
       "<Figure size 432x288 with 1 Axes>"
      ]
     },
     "metadata": {
      "needs_background": "light"
     },
     "output_type": "display_data"
    }
   ],
   "source": [
    "\n",
    "n = 200\n",
    "ops = [(5,50),(5,100),(5, 150),(5,200),(5, 250),(5, 300)]\n",
    "\n",
    "for op in ops:\n",
    "#     plt.subfigure(subfigsize=(10,5))\n",
    "#     plt.plot(pts, prob_fun(op[0][1], op[0][0], pts ), label=op)    \n",
    "    plt.plot(pts, prob_fun(op[0], op[1], pts ), label=op)    \n",
    "\n",
    "plt.legend(loc='center left', bbox_to_anchor=(1, 0.5))\n",
    "plt.xlabel('similarity')\n",
    "plt.ylabel('Probability')\n",
    "plt.title(\"legend: (r,b)\")\n",
    "plt.show()"
   ]
  },
  {
   "cell_type": "code",
   "execution_count": 37,
   "metadata": {},
   "outputs": [
    {
     "data": {
      "image/png": "[encoded data removed]",
      "text/plain": [
       "<Figure size 432x288 with 1 Axes>"
      ]
     },
     "metadata": {
      "needs_background": "light"
     },
     "output_type": "display_data"
    }
   ],
   "source": [
    "\n",
    "n = 200\n",
    "ops = [(1,20),(2,40),(3, 60),(4, 80),(5,100),(6, 120)]\n",
    "\n",
    "for op in ops:\n",
    "#     plt.subfigure(subfigsize=(10,5))\n",
    "#     plt.plot(pts, prob_fun(op[0][1], op[0][0], pts ), label=op)    \n",
    "    plt.plot(pts, prob_fun(op[0], op[1], pts ), label=op)    \n",
    "\n",
    "plt.legend(loc='center left', bbox_to_anchor=(1, 0.5))\n",
    "plt.xlabel('similarity')\n",
    "plt.ylabel('Probability')\n",
    "plt.title(\"legend: (r,b)\")\n",
    "plt.show()"
   ]
  },
  {
   "cell_type": "code",
   "execution_count": 53,
   "metadata": {},
   "outputs": [
    {
     "name": "stdout",
     "output_type": "stream",
     "text": [
      "6\n"
     ]
    },
    {
     "data": {
      "image/png": "[encoded data removed]",
      "text/plain": [
       "<Figure size 432x288 with 1 Axes>"
      ]
     },
     "metadata": {
      "needs_background": "light"
     },
     "output_type": "display_data"
    }
   ],
   "source": [
    "rows = np.linspace(2,7,6)\n",
    "probabilities = [0.95]\n",
    "similarities = [0.8]\n",
    "# similarities = np.linspace(0.5,0.9,5)\n",
    "ops = get_ops(similarities, rows, probabilities)\n",
    "print(len(ops))\n",
    "\n",
    "for op in ops:\n",
    "#     plt.subfigure(subfigsize=(10,5))\n",
    "    plt.plot(pts, prob_fun(op[0][1], op[0][0], pts ), label=(op[0][1], op[0][0]))    \n",
    "#     plt.plot(pts, prob_fun(op[0], op[1], pts ), label=op)    \n",
    "\n",
    "plt.legend(loc='center left', bbox_to_anchor=(1, 0.5))\n",
    "plt.xlabel('similarity')\n",
    "plt.ylabel('Probability')\n",
    "plt.title(\"legend: (r,b)\")\n",
    "plt.show()"
   ]
  },
  {
   "cell_type": "code",
   "execution_count": 57,
   "metadata": {},
   "outputs": [
    {
     "name": "stdout",
     "output_type": "stream",
     "text": [
      "5\n"
     ]
    },
    {
     "data": {
      "image/png": "[encoded data removed]",
      "text/plain": [
       "<Figure size 432x288 with 1 Axes>"
      ]
     },
     "metadata": {
      "needs_background": "light"
     },
     "output_type": "display_data"
    }
   ],
   "source": [
    "# rows = np.linspace(2,7,6)\n",
    "rows = [7]\n",
    "probabilities = [0.95]\n",
    "# similarities = [0.8]\n",
    "similarities = np.linspace(0.5,0.9,5)\n",
    "ops = get_ops(similarities, rows, probabilities)\n",
    "print(len(ops))\n",
    "\n",
    "for op in ops:\n",
    "#     plt.subfigure(subfigsize=(10,5))\n",
    "    plt.plot(pts, prob_fun(op[0][1], op[0][0], pts ), label=(op[0][1], op[0][0], op[1][0]))    \n",
    "#     plt.plot(pts, prob_fun(op[0], op[1], pts ), label=op)    \n",
    "\n",
    "plt.legend(loc='center left', bbox_to_anchor=(1, 0.5))\n",
    "plt.xlabel('similarity')\n",
    "plt.ylabel('Probability')\n",
    "plt.title(\"legend: (r,b, similarity)\")\n",
    "plt.show()"
   ]
  },
  {
   "cell_type": "code",
   "execution_count": null,
   "metadata": {},
   "outputs": [],
   "source": []
  },
  {
   "cell_type": "code",
   "execution_count": null,
   "metadata": {},
   "outputs": [],
   "source": []
  },
  {
   "cell_type": "code",
   "execution_count": null,
   "metadata": {},
   "outputs": [],
   "source": []
  }
 ],
 "metadata": {
  "kernelspec": {
   "display_name": "Python 3",
   "language": "python",
   "name": "python3"
  },
  "language_info": {
   "codemirror_mode": {
    "name": "ipython",
    "version": 3
   },
   "file_extension": ".py",
   "mimetype": "text/x-python",
   "name": "python",
   "nbconvert_exporter": "python",
   "pygments_lexer": "ipython3",
   "version": "3.7.1"
  }
 },
 "nbformat": 4,
 "nbformat_minor": 1
}
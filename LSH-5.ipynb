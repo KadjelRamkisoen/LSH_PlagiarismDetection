{
 "cells": [
  {
   "cell_type": "code",
   "execution_count": 1,
   "metadata": {},
   "outputs": [],
   "source": [
    "import pandas as pd\n",
    "import re\n",
    "import time\n",
    "import binascii\n",
    "import random\n",
    "import numpy as np\n",
    "import matplotlib.pyplot as plt"
   ]
  },
  {
   "cell_type": "code",
   "execution_count": 2,
   "metadata": {
    "pycharm": {
     "name": "#%%\n"
    }
   },
   "outputs": [],
   "source": [
    "small_dataset = 'data/news_articles_small.csv'\n",
    "df_small_dataset = pd.read_csv(small_dataset)"
   ]
  },
  {
   "cell_type": "code",
   "execution_count": 3,
   "metadata": {
    "pycharm": {
     "name": "#%%\n"
    }
   },
   "outputs": [],
   "source": [
    "\"\"\"\n",
    "    Pre-process data:\n",
    "        1. convert all to lowercase\n",
    "        2. remove punctuation\n",
    "\"\"\"\n",
    "\n",
    "#Convert to lowercase.\n",
    "df_small_dataset['article'] = df_small_dataset['article'].str.lower()\n",
    "\n",
    "#Remove punctuation\n",
    "p = re.compile(r'[^\\w\\s]+')\n",
    "df_small_dataset['article'] = [p.sub('', x) for x in df_small_dataset['article'].tolist()]"
   ]
  },
  {
   "cell_type": "code",
   "execution_count": 4,
   "metadata": {
    "pycharm": {
     "name": "#%%\n"
    }
   },
   "outputs": [],
   "source": [
    "\"\"\"\n",
    "    Split each document in a list of words\n",
    "\n",
    "    small_dataset_split = [\n",
    "        [documentID, document_text]\n",
    "    ]\n",
    "\"\"\"\n",
    "\n",
    "small_dataset_split = []\n",
    "for idx, row in df_small_dataset.iterrows():\n",
    "    small_dataset_split.append([row[0], row[1].split()])"
   ]
  },
  {
   "cell_type": "code",
   "execution_count": 5,
   "metadata": {
    "pycharm": {
     "name": "#%%\n"
    }
   },
   "outputs": [],
   "source": [
    "\"\"\"\n",
    "    createShingles\n",
    "\n",
    "    To create the shingles for the articles in the dataframe\n",
    "    @:param small_dataset_split - The dataframe with the articles\n",
    "\"\"\"\n",
    "\n",
    "def createShingles(small_dataset_split):\n",
    "#Add shingles with ngram 5\n",
    "#Source: https://github.com/chrisjmccormick/MinHash/blob/master/runMinHashExample.py\n",
    "    shingledDocs = {}\n",
    "    docIds = []\n",
    "\n",
    "    t0 = time.time()\n",
    "\n",
    "    totalShingles = 0\n",
    "    for docId, article in small_dataset_split:\n",
    "        shingles = set()\n",
    "        for i in range(0, len(article) - 4):\n",
    "            shingle = article[i]+ \" \" + article[i + 1] + \" \" + article[i + 2] + \" \" + article[i + 3] + \" \" + article[i + 4]\n",
    "\n",
    "            crc =  binascii.crc32(shingle.encode()) & 0xffffffff\n",
    "            shingles.add(crc)\n",
    "\n",
    "        shingledDocs[docId]= shingles\n",
    "        docIds.append(docId)\n",
    "        totalShingles = totalShingles + (len(article) - 4)\n",
    "\n",
    "    t1 = time.time()\n",
    "    print('Time spent: ', t1-t0)\n",
    "    return shingledDocs, docIds, totalShingles"
   ]
  },
  {
   "cell_type": "code",
   "execution_count": 6,
   "metadata": {
    "pycharm": {
     "name": "#%%\n"
    }
   },
   "outputs": [],
   "source": [
    "\"\"\"\n",
    "    randomHash\n",
    "\n",
    "    To create random hash functions\n",
    "    @:param value\n",
    "    @:param rand_value\n",
    "\"\"\"\n",
    "def randomHash(value, rand_value):\n",
    "    return binascii.crc32(value.to_bytes(32, \"little\")) ^ rand_value\n",
    "\n",
    "\"\"\"\n",
    "    randomList\n",
    "\n",
    "    To create random hash functions\n",
    "    @:param value\n",
    "    @:param seed\n",
    "\"\"\"\n",
    "def randomList(n, seed=10):\n",
    "    random.seed(10)\n",
    "    l = []\n",
    "    for i in range(n):\n",
    "        r = random.getrandbits(32)\n",
    "        l.append(r)\n",
    "    return l\n"
   ]
  },
  {
   "cell_type": "code",
   "execution_count": 7,
   "metadata": {
    "pycharm": {
     "name": "#%%\n"
    }
   },
   "outputs": [
    {
     "name": "stdout",
     "output_type": "stream",
     "text": [
      "Time spent:  0.3925793170928955\n"
     ]
    }
   ],
   "source": [
    "shingledDocs, docIds, totalShingles = createShingles(small_dataset_split)"
   ]
  },
  {
   "cell_type": "code",
   "execution_count": 37,
   "metadata": {
    "pycharm": {
     "name": "#%%\n"
    }
   },
   "outputs": [
    {
     "name": "stdout",
     "output_type": "stream",
     "text": [
      "Generating random hash functions...\n"
     ]
    }
   ],
   "source": [
    "print(\"Generating random hash functions...\")\n",
    "# Number of hash functions\n",
    "M = 1000\n",
    "random_values = randomList(M)"
   ]
  },
  {
   "cell_type": "code",
   "execution_count": 38,
   "metadata": {
    "pycharm": {
     "name": "#%%\n"
    },
    "scrolled": true
   },
   "outputs": [
    {
     "name": "stdout",
     "output_type": "stream",
     "text": [
      "Time spent:  244.52565169334412\n"
     ]
    }
   ],
   "source": [
    "\"\"\"\n",
    "    MinHashing from shingles\n",
    "\"\"\"\n",
    "signatures = []\n",
    "t0 = time.time()\n",
    "for doc in docIds:\n",
    "    signature = []\n",
    "    for hash_fun in range(M):\n",
    "        min_value = 0\n",
    "        random_value = random_values[hash_fun]\n",
    "        for shingle in shingledDocs[doc]:\n",
    "            hash_value = randomHash(shingle, random_value)\n",
    "            if hash_value < min_value or min_value == 0:\n",
    "                min_value = hash_value\n",
    "        \n",
    "        signature.append(min_value)\n",
    "    signatures.append(signature)\n",
    "\n",
    "t1= time.time()\n",
    "\n",
    "print('Time spent: ', t1-t0)"
   ]
  },
  {
   "cell_type": "markdown",
   "metadata": {},
   "source": [
    "## Method 1\n"
   ]
  },
  {
   "cell_type": "code",
   "execution_count": 39,
   "metadata": {},
   "outputs": [],
   "source": [
    "#Confusion matrix, Accuracy, sensitivity and specificity\n",
    "from sklearn.metrics import confusion_matrix\n",
    "\n",
    "def calc_metrics(df):\n",
    "\n",
    "    cm = confusion_matrix(df[['label_real']],df[['label_calc']])\n",
    "    print('Confusion Matrix : \\n', cm)\n",
    "\n",
    "    total=sum(sum(cm))\n",
    "    #####from confusion matrix calculate accuracy\n",
    "    accuracy=(cm[0,0]+cm[1,1])/total\n",
    "    specificity = cm[0,0]/(cm[0,0]+cm[0,1])\n",
    "    sensitivity = cm[1,1]/(cm[1,0]+cm[1,1])\n",
    "    precision = cm[1,1]/(cm[0,1]+cm[1,1])\n",
    "    \n",
    "    return accuracy, specificity, sensitivity, precision"
   ]
  },
  {
   "cell_type": "code",
   "execution_count": 40,
   "metadata": {},
   "outputs": [],
   "source": [
    "def check_metrics(candidates, results, weights):\n",
    "    sim = pd.DataFrame(list(candidates), columns=[\"doc1\", \"doc2\"])\n",
    "    sim['label'] = 1\n",
    "    merged = real_sim.merge(sim, left_on=['doc1','doc2'], right_on=['doc1','doc2'], suffixes=['_real', '_calc'], how=\"left\")\n",
    "    merged = merged.fillna(0)\n",
    "    metrics = calc_metrics(merged)\n",
    "    mult = [a*b for a,b in zip(weights,metrics)]\n",
    "    combined = float(sum(mult) / sum(weights))\n",
    "    print(\" Accuracy: \", metrics[0], \"\\n Specificity: \", metrics[1],\n",
    "     \"\\n Sensitivity: \", metrics[2],\"\\n Precision: \", metrics[3], \n",
    "          \"\\n combined: \", combined)\n",
    "    \n",
    "    return metrics, combined"
   ]
  },
  {
   "cell_type": "code",
   "execution_count": 41,
   "metadata": {},
   "outputs": [
    {
     "data": {
      "text/html": [
       "<div>\n",
       "<style scoped>\n",
       "    .dataframe tbody tr th:only-of-type {\n",
       "        vertical-align: middle;\n",
       "    }\n",
       "\n",
       "    .dataframe tbody tr th {\n",
       "        vertical-align: top;\n",
       "    }\n",
       "\n",
       "    .dataframe thead th {\n",
       "        text-align: right;\n",
       "    }\n",
       "</style>\n",
       "<table border=\"1\" class=\"dataframe\">\n",
       "  <thead>\n",
       "    <tr style=\"text-align: right;\">\n",
       "      <th></th>\n",
       "      <th>Unnamed: 0</th>\n",
       "      <th>doc1</th>\n",
       "      <th>doc2</th>\n",
       "      <th>sim</th>\n",
       "      <th>label</th>\n",
       "    </tr>\n",
       "  </thead>\n",
       "  <tbody>\n",
       "    <tr>\n",
       "      <th>0</th>\n",
       "      <td>0</td>\n",
       "      <td>0</td>\n",
       "      <td>1</td>\n",
       "      <td>0.058333</td>\n",
       "      <td>0</td>\n",
       "    </tr>\n",
       "    <tr>\n",
       "      <th>1</th>\n",
       "      <td>1</td>\n",
       "      <td>0</td>\n",
       "      <td>2</td>\n",
       "      <td>0.058333</td>\n",
       "      <td>0</td>\n",
       "    </tr>\n",
       "    <tr>\n",
       "      <th>2</th>\n",
       "      <td>2</td>\n",
       "      <td>0</td>\n",
       "      <td>3</td>\n",
       "      <td>0.067669</td>\n",
       "      <td>0</td>\n",
       "    </tr>\n",
       "    <tr>\n",
       "      <th>3</th>\n",
       "      <td>3</td>\n",
       "      <td>0</td>\n",
       "      <td>4</td>\n",
       "      <td>0.054852</td>\n",
       "      <td>0</td>\n",
       "    </tr>\n",
       "    <tr>\n",
       "      <th>4</th>\n",
       "      <td>4</td>\n",
       "      <td>0</td>\n",
       "      <td>5</td>\n",
       "      <td>0.072650</td>\n",
       "      <td>0</td>\n",
       "    </tr>\n",
       "  </tbody>\n",
       "</table>\n",
       "</div>"
      ],
      "text/plain": [
       "   Unnamed: 0  doc1  doc2       sim  label\n",
       "0           0     0     1  0.058333      0\n",
       "1           1     0     2  0.058333      0\n",
       "2           2     0     3  0.067669      0\n",
       "3           3     0     4  0.054852      0\n",
       "4           4     0     5  0.072650      0"
      ]
     },
     "execution_count": 41,
     "metadata": {},
     "output_type": "execute_result"
    }
   ],
   "source": [
    "real_sim = pd.read_csv(\"real_sim.csv\")\n",
    "real_sim['label'] = np.where(real_sim['sim'] >= 0.8, 1, 0)\n",
    "real_sim.head()"
   ]
  },
  {
   "cell_type": "code",
   "execution_count": 42,
   "metadata": {
    "pycharm": {
     "name": "#%%\n"
    }
   },
   "outputs": [
    {
     "name": "stderr",
     "output_type": "stream",
     "text": [
      "C:\\Users\\Katerina\\Anaconda3\\lib\\site-packages\\ipykernel_launcher.py:1: DeprecationWarning: `np.long` is a deprecated alias for `np.compat.long`. To silence this warning, use `np.compat.long` by itself. In the likely event your code does not need to work on Python 2 you can use the builtin `int` for which `np.compat.long` is itself an alias. Doing this will not modify any behaviour and is safe. When replacing `np.long`, you may wish to use e.g. `np.int64` or `np.int32` to specify the precision. If you wish to review your current use, check the release note link for additional information.\n",
      "Deprecated in NumPy 1.20; for more details and guidance: https://numpy.org/devdocs/release/1.20.0-notes.html#deprecations\n",
      "  \"\"\"Entry point for launching an IPython kernel.\n"
     ]
    }
   ],
   "source": [
    "from numpy import long\n",
    "\n",
    "\"\"\"\n",
    "    LSH\n",
    "\"\"\"\n",
    "from itertools import combinations\n",
    "\n",
    "class LSH:\n",
    "    def __init__(self, b, r):\n",
    "        self.counter = 0\n",
    "        self.b = b\n",
    "        self.r = r\n",
    "        self.hash_tables= {}\n",
    "\n",
    "        self.create_hash_tables()\n",
    "\n",
    "    def create_hash_tables(self):\n",
    "        # The hash function must be (s1, s2, p1, p2) sensitive\n",
    "        # We need to have r hash functions\n",
    "        # Per band we have a hash table\n",
    "\n",
    "        # Add hash tables\n",
    "        for i in range(self.b):\n",
    "            self.hash_tables[i] = {}\n",
    "\n",
    "    def hash(self, i, subvec):\n",
    "        acc = \"\"\n",
    "        for value in subvec:\n",
    "            acc += str(int(float(value)))\n",
    "        return acc\n",
    "\n",
    "    def add_to_hash_table(self, i, subvec):\n",
    "        if subvec not in self.hash_tables[i]:\n",
    "            self.hash_tables[i][subvec] = []\n",
    "            self.hash_tables[i][subvec].append(self.counter)\n",
    "        else:\n",
    "            self.hash_tables[i][subvec].append(self.counter)\n",
    "\n",
    "    def make_subvecs(self, signature):\n",
    "        l = len(signature)\n",
    "        assert l % self.b == 0\n",
    "        r = self.r\n",
    "        # break signature into subvectors\n",
    "        subvecs = []\n",
    "        for i in range(0, l, r):\n",
    "            subvecs.append(signature[i:i+r])\n",
    "        return np.stack(subvecs)\n",
    "\n",
    "    def add_hash(self, signature):\n",
    "        subvecs = self.make_subvecs(signature).astype(str)\n",
    "        for i, subvec in enumerate(subvecs):\n",
    "            #Hash every subvector using another hash function\n",
    "            #and add it to a different hash table that corresponds\n",
    "            #to that hash function\n",
    "            hashed_subvec = self.hash(i+1, subvec)\n",
    "            self.add_to_hash_table(i, hashed_subvec)\n",
    "        self.counter += 1\n",
    "\n",
    "    def check_candidates(self):\n",
    "        candidates = []\n",
    "        for i in self.hash_tables:\n",
    "            \n",
    "            keys = self.hash_tables[i].keys()\n",
    "            for bucket in keys:\n",
    "                hits = self.hash_tables[i][bucket]\n",
    "                if len(hits) > 1:\n",
    "                    candidates.extend(combinations(hits, 2))\n",
    "        return set(candidates)"
   ]
  },
  {
   "cell_type": "code",
   "execution_count": 43,
   "metadata": {},
   "outputs": [],
   "source": [
    "def parameters(s, r, p):\n",
    "    b = round(np.log(1-p) / np.log(1-s**r))\n",
    "    M = r * b\n",
    "    return (b,r), (s,p)"
   ]
  },
  {
   "cell_type": "code",
   "execution_count": 44,
   "metadata": {},
   "outputs": [],
   "source": [
    "def get_ops(similarities, rows, probabilities):\n",
    "    ops = []\n",
    "    for s in similarities:\n",
    "        for r in rows:\n",
    "            for p in probabilities:\n",
    "                params, v = parameters(s, r, p)\n",
    "                l = params[0] * params[1]\n",
    "                if l <= len(signatures[0]) and l > 80:\n",
    "                    ops.append((params, v))\n",
    "    return ops"
   ]
  },
  {
   "cell_type": "code",
   "execution_count": 45,
   "metadata": {},
   "outputs": [
    {
     "name": "stdout",
     "output_type": "stream",
     "text": [
      "78\n"
     ]
    }
   ],
   "source": [
    "rows = np.linspace(2,10,9)\n",
    "probabilities = [0.7, 0.8, 0.9, 0.95, 0.99]\n",
    "similarities = np.linspace(0.4,0.9,6)\n",
    "ops = get_ops(similarities, rows, probabilities)\n",
    "print(len(ops))"
   ]
  },
  {
   "cell_type": "code",
   "execution_count": 51,
   "metadata": {
    "pycharm": {
     "name": "#%%\n"
    },
    "scrolled": true
   },
   "outputs": [
    {
     "name": "stdout",
     "output_type": "stream",
     "text": [
      "Candidate pairs for n=105 b=35 and r=3  (0.4, 0.9)\n",
      "Number of candidate pairs are 88\n",
      "Confusion Matrix : \n",
      " [[499411     64]\n",
      " [     1     24]]\n",
      " Accuracy:  0.9998698698698699 \n",
      " Specificity:  0.9998718654587316 \n",
      " Sensitivity:  0.96 \n",
      " Precision:  0.2727272727272727 \n",
      " combined:  0.6163636363636363\n",
      "====================================================================================================\n",
      "Candidate pairs for n=135 b=45 and r=3  (0.4, 0.95)\n",
      "Number of candidate pairs are 95\n",
      "Confusion Matrix : \n",
      " [[499404     71]\n",
      " [     1     24]]\n",
      " Accuracy:  0.9998558558558559 \n",
      " Specificity:  0.9998578507432805 \n",
      " Sensitivity:  0.96 \n",
      " Precision:  0.25263157894736843 \n",
      " combined:  0.6063157894736841\n",
      "====================================================================================================\n",
      "Candidate pairs for n=210 b=70 and r=3  (0.4, 0.99)\n",
      "Number of candidate pairs are 108\n",
      "Confusion Matrix : \n",
      " [[499392     83]\n",
      " [     0     25]]\n",
      " Accuracy:  0.9998338338338338 \n",
      " Specificity:  0.9998338255167927 \n",
      " Sensitivity:  1.0 \n",
      " Precision:  0.23148148148148148 \n",
      " combined:  0.6157407407407407\n",
      "====================================================================================================\n",
      "Candidate pairs for n=184 b=46 and r=4  (0.4, 0.7)\n",
      "Number of candidate pairs are 58\n",
      "Confusion Matrix : \n",
      " [[499441     34]\n",
      " [     1     24]]\n",
      " Accuracy:  0.9999299299299299 \n",
      " Specificity:  0.9999319285249512 \n",
      " Sensitivity:  0.96 \n",
      " Precision:  0.41379310344827586 \n",
      " combined:  0.6868965517241379\n",
      "====================================================================================================\n",
      "Candidate pairs for n=248 b=62 and r=4  (0.4, 0.8)\n",
      "Number of candidate pairs are 64\n",
      "Confusion Matrix : \n",
      " [[499436     39]\n",
      " [     0     25]]\n",
      " Accuracy:  0.999921921921922 \n",
      " Specificity:  0.9999219180139146 \n",
      " Sensitivity:  1.0 \n",
      " Precision:  0.390625 \n",
      " combined:  0.6953125\n",
      "====================================================================================================\n",
      "Candidate pairs for n=356 b=89 and r=4  (0.4, 0.9)\n",
      "Number of candidate pairs are 73\n",
      "Confusion Matrix : \n",
      " [[499427     48]\n",
      " [     0     25]]\n",
      " Accuracy:  0.9999039039039039 \n",
      " Specificity:  0.9999038990940488 \n",
      " Sensitivity:  1.0 \n",
      " Precision:  0.3424657534246575 \n",
      " combined:  0.6712328767123288\n",
      "====================================================================================================\n",
      "Candidate pairs for n=464 b=116 and r=4  (0.4, 0.95)\n",
      "Number of candidate pairs are 80\n",
      "Confusion Matrix : \n",
      " [[499420     55]\n",
      " [     0     25]]\n",
      " Accuracy:  0.9998898898898899 \n",
      " Specificity:  0.9998898843785975 \n",
      " Sensitivity:  1.0 \n",
      " Precision:  0.3125 \n",
      " combined:  0.65625\n",
      "====================================================================================================\n",
      "Candidate pairs for n=712 b=178 and r=4  (0.4, 0.99)\n",
      "Number of candidate pairs are 91\n",
      "Confusion Matrix : \n",
      " [[499409     66]\n",
      " [     0     25]]\n",
      " Accuracy:  0.9998678678678679 \n",
      " Specificity:  0.999867861254317 \n",
      " Sensitivity:  1.0 \n",
      " Precision:  0.27472527472527475 \n",
      " combined:  0.6373626373626373\n",
      "====================================================================================================\n",
      "Candidate pairs for n=585 b=117 and r=5  (0.4, 0.7)\n",
      "Number of candidate pairs are 59\n",
      "Confusion Matrix : \n",
      " [[499441     34]\n",
      " [     0     25]]\n",
      " Accuracy:  0.999931931931932 \n",
      " Specificity:  0.9999319285249512 \n",
      " Sensitivity:  1.0 \n",
      " Precision:  0.423728813559322 \n",
      " combined:  0.711864406779661\n",
      "====================================================================================================\n",
      "Candidate pairs for n=780 b=156 and r=5  (0.4, 0.8)\n",
      "Number of candidate pairs are 65\n",
      "Confusion Matrix : \n",
      " [[499435     40]\n",
      " [     0     25]]\n",
      " Accuracy:  0.9999199199199199 \n",
      " Specificity:  0.9999199159117073 \n",
      " Sensitivity:  1.0 \n",
      " Precision:  0.38461538461538464 \n",
      " combined:  0.6923076923076923\n",
      "====================================================================================================\n",
      "Candidate pairs for n=102 b=34 and r=3  (0.5, 0.99)\n",
      "Number of candidate pairs are 88\n",
      "Confusion Matrix : \n",
      " [[499411     64]\n",
      " [     1     24]]\n",
      " Accuracy:  0.9998698698698699 \n",
      " Specificity:  0.9998718654587316 \n",
      " Sensitivity:  0.96 \n",
      " Precision:  0.2727272727272727 \n",
      " combined:  0.6163636363636363\n",
      "====================================================================================================\n",
      "Candidate pairs for n=100 b=25 and r=4  (0.5, 0.8)\n",
      "Number of candidate pairs are 48\n",
      "Confusion Matrix : \n",
      " [[499449     26]\n",
      " [     3     22]]\n",
      " Accuracy:  0.999941941941942 \n",
      " Specificity:  0.9999479453426098 \n",
      " Sensitivity:  0.88 \n",
      " Precision:  0.4583333333333333 \n",
      " combined:  0.6691666666666667\n",
      "====================================================================================================\n",
      "Candidate pairs for n=144 b=36 and r=4  (0.5, 0.9)\n",
      "Number of candidate pairs are 54\n",
      "Confusion Matrix : \n",
      " [[499445     30]\n",
      " [     1     24]]\n",
      " Accuracy:  0.999937937937938 \n",
      " Specificity:  0.9999399369337805 \n",
      " Sensitivity:  0.96 \n",
      " Precision:  0.4444444444444444 \n",
      " combined:  0.7022222222222222\n",
      "====================================================================================================\n",
      "Candidate pairs for n=184 b=46 and r=4  (0.5, 0.95)\n",
      "Number of candidate pairs are 58\n",
      "Confusion Matrix : \n",
      " [[499441     34]\n",
      " [     1     24]]\n",
      " Accuracy:  0.9999299299299299 \n",
      " Specificity:  0.9999319285249512 \n",
      " Sensitivity:  0.96 \n",
      " Precision:  0.41379310344827586 \n",
      " combined:  0.6868965517241379\n",
      "====================================================================================================\n",
      "Candidate pairs for n=284 b=71 and r=4  (0.5, 0.99)\n",
      "Number of candidate pairs are 68\n",
      "Confusion Matrix : \n",
      " [[499432     43]\n",
      " [     0     25]]\n",
      " Accuracy:  0.9999139139139139 \n",
      " Specificity:  0.9999139096050853 \n",
      " Sensitivity:  1.0 \n",
      " Precision:  0.36764705882352944 \n",
      " combined:  0.6838235294117647\n",
      "====================================================================================================\n",
      "Candidate pairs for n=190 b=38 and r=5  (0.5, 0.7)\n",
      "Number of candidate pairs are 39\n",
      "Confusion Matrix : \n",
      " [[499456     19]\n",
      " [     5     20]]\n",
      " Accuracy:  0.999951951951952 \n",
      " Specificity:  0.9999619600580609 \n",
      " Sensitivity:  0.8 \n",
      " Precision:  0.5128205128205128 \n",
      " combined:  0.6564102564102564\n",
      "====================================================================================================\n",
      "Candidate pairs for n=255 b=51 and r=5  (0.5, 0.8)\n",
      "Number of candidate pairs are 42\n",
      "Confusion Matrix : \n",
      " [[499455     20]\n",
      " [     3     22]]\n",
      " Accuracy:  0.9999539539539539 \n",
      " Specificity:  0.9999599579558537 \n",
      " Sensitivity:  0.88 \n",
      " Precision:  0.5238095238095238 \n",
      " combined:  0.7019047619047619\n",
      "====================================================================================================\n",
      "Candidate pairs for n=365 b=73 and r=5  (0.5, 0.9)\n",
      "Number of candidate pairs are 52\n",
      "Confusion Matrix : \n",
      " [[499447     28]\n",
      " [     1     24]]\n",
      " Accuracy:  0.999941941941942 \n",
      " Specificity:  0.9999439411381951 \n",
      " Sensitivity:  0.96 \n",
      " Precision:  0.46153846153846156 \n",
      " combined:  0.7107692307692308\n",
      "====================================================================================================\n",
      "Candidate pairs for n=470 b=94 and r=5  (0.5, 0.95)\n",
      "Number of candidate pairs are 56\n",
      "Confusion Matrix : \n",
      " [[499444     31]\n",
      " [     0     25]]\n",
      " Accuracy:  0.999937937937938 \n",
      " Specificity:  0.9999379348315731 \n",
      " Sensitivity:  1.0 \n",
      " Precision:  0.44642857142857145 \n",
      " combined:  0.7232142857142857\n",
      "====================================================================================================\n",
      "Candidate pairs for n=725 b=145 and r=5  (0.5, 0.99)\n",
      "Number of candidate pairs are 61\n",
      "Confusion Matrix : \n",
      " [[499439     36]\n",
      " [     0     25]]\n",
      " Accuracy:  0.999927927927928 \n",
      " Specificity:  0.9999279243205366 \n",
      " Sensitivity:  1.0 \n",
      " Precision:  0.4098360655737705 \n",
      " combined:  0.7049180327868853\n",
      "====================================================================================================\n",
      "Candidate pairs for n=456 b=76 and r=6  (0.5, 0.7)\n",
      "Number of candidate pairs are 41\n",
      "Confusion Matrix : \n",
      " [[499457     18]\n",
      " [     2     23]]\n",
      " Accuracy:  0.99995995995996 \n",
      " Specificity:  0.9999639621602683 \n",
      " Sensitivity:  0.92 \n",
      " Precision:  0.5609756097560976 \n",
      " combined:  0.7404878048780488\n",
      "====================================================================================================\n"
     ]
    },
    {
     "name": "stdout",
     "output_type": "stream",
     "text": [
      "Candidate pairs for n=612 b=102 and r=6  (0.5, 0.8)\n",
      "Number of candidate pairs are 43\n",
      "Confusion Matrix : \n",
      " [[499456     19]\n",
      " [     1     24]]\n",
      " Accuracy:  0.99995995995996 \n",
      " Specificity:  0.9999619600580609 \n",
      " Sensitivity:  0.96 \n",
      " Precision:  0.5581395348837209 \n",
      " combined:  0.7590697674418605\n",
      "====================================================================================================\n",
      "Candidate pairs for n=876 b=146 and r=6  (0.5, 0.9)\n",
      "Number of candidate pairs are 47\n",
      "Confusion Matrix : \n",
      " [[499452     23]\n",
      " [     1     24]]\n",
      " Accuracy:  0.999951951951952 \n",
      " Specificity:  0.9999539516492317 \n",
      " Sensitivity:  0.96 \n",
      " Precision:  0.5106382978723404 \n",
      " combined:  0.7353191489361701\n",
      "====================================================================================================\n",
      "Candidate pairs for n=88 b=22 and r=4  (0.6000000000000001, 0.95)\n",
      "Number of candidate pairs are 45\n",
      "Confusion Matrix : \n",
      " [[499451     24]\n",
      " [     4     21]]\n",
      " Accuracy:  0.9999439439439439 \n",
      " Specificity:  0.9999519495470244 \n",
      " Sensitivity:  0.84 \n",
      " Precision:  0.4666666666666667 \n",
      " combined:  0.6533333333333333\n",
      "====================================================================================================\n",
      "Candidate pairs for n=132 b=33 and r=4  (0.6000000000000001, 0.99)\n",
      "Number of candidate pairs are 53\n",
      "Confusion Matrix : \n",
      " [[499445     30]\n",
      " [     2     23]]\n",
      " Accuracy:  0.9999359359359359 \n",
      " Specificity:  0.9999399369337805 \n",
      " Sensitivity:  0.92 \n",
      " Precision:  0.4339622641509434 \n",
      " combined:  0.6769811320754717\n",
      "====================================================================================================\n",
      "Candidate pairs for n=100 b=20 and r=5  (0.6000000000000001, 0.8)\n",
      "Number of candidate pairs are 28\n",
      "Confusion Matrix : \n",
      " [[499462     13]\n",
      " [    10     15]]\n",
      " Accuracy:  0.9999539539539539 \n",
      " Specificity:  0.9999739726713048 \n",
      " Sensitivity:  0.6 \n",
      " Precision:  0.5357142857142857 \n",
      " combined:  0.5678571428571428\n",
      "====================================================================================================\n",
      "Candidate pairs for n=140 b=28 and r=5  (0.6000000000000001, 0.9)\n",
      "Number of candidate pairs are 34\n",
      "Confusion Matrix : \n",
      " [[499458     17]\n",
      " [     8     17]]\n",
      " Accuracy:  0.9999499499499499 \n",
      " Specificity:  0.9999659642624756 \n",
      " Sensitivity:  0.68 \n",
      " Precision:  0.5 \n",
      " combined:  0.5900000000000001\n",
      "====================================================================================================\n",
      "Candidate pairs for n=185 b=37 and r=5  (0.6000000000000001, 0.95)\n",
      "Number of candidate pairs are 39\n",
      "Confusion Matrix : \n",
      " [[499456     19]\n",
      " [     5     20]]\n",
      " Accuracy:  0.999951951951952 \n",
      " Specificity:  0.9999619600580609 \n",
      " Sensitivity:  0.8 \n",
      " Precision:  0.5128205128205128 \n",
      " combined:  0.6564102564102564\n",
      "====================================================================================================\n",
      "Candidate pairs for n=285 b=57 and r=5  (0.6000000000000001, 0.99)\n",
      "Number of candidate pairs are 45\n",
      "Confusion Matrix : \n",
      " [[499452     23]\n",
      " [     3     22]]\n",
      " Accuracy:  0.999947947947948 \n",
      " Specificity:  0.9999539516492317 \n",
      " Sensitivity:  0.88 \n",
      " Precision:  0.4888888888888889 \n",
      " combined:  0.6844444444444444\n",
      "====================================================================================================\n",
      "Candidate pairs for n=150 b=25 and r=6  (0.6000000000000001, 0.7)\n",
      "Number of candidate pairs are 27\n",
      "Confusion Matrix : \n",
      " [[499465     10]\n",
      " [     8     17]]\n",
      " Accuracy:  0.9999639639639639 \n",
      " Specificity:  0.9999799789779268 \n",
      " Sensitivity:  0.68 \n",
      " Precision:  0.6296296296296297 \n",
      " combined:  0.6548148148148148\n",
      "====================================================================================================\n",
      "Candidate pairs for n=204 b=34 and r=6  (0.6000000000000001, 0.8)\n",
      "Number of candidate pairs are 29\n",
      "Confusion Matrix : \n",
      " [[499464     11]\n",
      " [     7     18]]\n",
      " Accuracy:  0.9999639639639639 \n",
      " Specificity:  0.9999779768757195 \n",
      " Sensitivity:  0.72 \n",
      " Precision:  0.6206896551724138 \n",
      " combined:  0.670344827586207\n",
      "====================================================================================================\n",
      "Candidate pairs for n=288 b=48 and r=6  (0.6000000000000001, 0.9)\n",
      "Number of candidate pairs are 34\n",
      "Confusion Matrix : \n",
      " [[499462     13]\n",
      " [     4     21]]\n",
      " Accuracy:  0.999965965965966 \n",
      " Specificity:  0.9999739726713048 \n",
      " Sensitivity:  0.84 \n",
      " Precision:  0.6176470588235294 \n",
      " combined:  0.7288235294117646\n",
      "====================================================================================================\n",
      "Candidate pairs for n=378 b=63 and r=6  (0.6000000000000001, 0.95)\n",
      "Number of candidate pairs are 41\n",
      "Confusion Matrix : \n",
      " [[499457     18]\n",
      " [     2     23]]\n",
      " Accuracy:  0.99995995995996 \n",
      " Specificity:  0.9999639621602683 \n",
      " Sensitivity:  0.92 \n",
      " Precision:  0.5609756097560976 \n",
      " combined:  0.7404878048780488\n",
      "====================================================================================================\n",
      "Candidate pairs for n=576 b=96 and r=6  (0.6000000000000001, 0.99)\n",
      "Number of candidate pairs are 43\n",
      "Confusion Matrix : \n",
      " [[499456     19]\n",
      " [     1     24]]\n",
      " Accuracy:  0.99995995995996 \n",
      " Specificity:  0.9999619600580609 \n",
      " Sensitivity:  0.96 \n",
      " Precision:  0.5581395348837209 \n",
      " combined:  0.7590697674418605\n",
      "====================================================================================================\n",
      "Candidate pairs for n=294 b=42 and r=7  (0.6000000000000001, 0.7)\n",
      "Number of candidate pairs are 20\n",
      "Confusion Matrix : \n",
      " [[499468      7]\n",
      " [    12     13]]\n",
      " Accuracy:  0.999961961961962 \n",
      " Specificity:  0.9999859852845487 \n",
      " Sensitivity:  0.52 \n",
      " Precision:  0.65 \n",
      " combined:  0.585\n",
      "====================================================================================================\n",
      "Candidate pairs for n=399 b=57 and r=7  (0.6000000000000001, 0.8)\n",
      "Number of candidate pairs are 25\n",
      "Confusion Matrix : \n",
      " [[499466      9]\n",
      " [     9     16]]\n",
      " Accuracy:  0.9999639639639639 \n",
      " Specificity:  0.9999819810801341 \n",
      " Sensitivity:  0.64 \n",
      " Precision:  0.64 \n",
      " combined:  0.64\n",
      "====================================================================================================\n",
      "Candidate pairs for n=567 b=81 and r=7  (0.6000000000000001, 0.9)\n",
      "Number of candidate pairs are 26\n",
      "Confusion Matrix : \n",
      " [[499466      9]\n",
      " [     8     17]]\n",
      " Accuracy:  0.999965965965966 \n",
      " Specificity:  0.9999819810801341 \n",
      " Sensitivity:  0.68 \n",
      " Precision:  0.6538461538461539 \n",
      " combined:  0.666923076923077\n",
      "====================================================================================================\n",
      "Candidate pairs for n=742 b=106 and r=7  (0.6000000000000001, 0.95)\n",
      "Number of candidate pairs are 29\n",
      "Confusion Matrix : \n",
      " [[499464     11]\n",
      " [     7     18]]\n",
      " Accuracy:  0.9999639639639639 \n",
      " Specificity:  0.9999779768757195 \n",
      " Sensitivity:  0.72 \n",
      " Precision:  0.6206896551724138 \n",
      " combined:  0.670344827586207\n",
      "====================================================================================================\n",
      "Candidate pairs for n=568 b=71 and r=8  (0.6000000000000001, 0.7)\n",
      "Number of candidate pairs are 20\n",
      "Confusion Matrix : \n",
      " [[499469      6]\n",
      " [    11     14]]\n",
      " Accuracy:  0.999965965965966 \n",
      " Specificity:  0.9999879873867561 \n",
      " Sensitivity:  0.56 \n",
      " Precision:  0.7 \n",
      " combined:  0.63\n",
      "====================================================================================================\n",
      "Candidate pairs for n=760 b=95 and r=8  (0.6000000000000001, 0.8)\n",
      "Number of candidate pairs are 20\n",
      "Confusion Matrix : \n",
      " [[499469      6]\n",
      " [    11     14]]\n",
      " Accuracy:  0.999965965965966 \n",
      " Specificity:  0.9999879873867561 \n",
      " Sensitivity:  0.56 \n",
      " Precision:  0.7 \n",
      " combined:  0.63\n",
      "====================================================================================================\n",
      "Candidate pairs for n=125 b=25 and r=5  (0.7000000000000001, 0.99)\n",
      "Number of candidate pairs are 34\n",
      "Confusion Matrix : \n",
      " [[499458     17]\n",
      " [     8     17]]\n",
      " Accuracy:  0.9999499499499499 \n",
      " Specificity:  0.9999659642624756 \n",
      " Sensitivity:  0.68 \n",
      " Precision:  0.5 \n",
      " combined:  0.5900000000000001\n",
      "====================================================================================================\n",
      "Candidate pairs for n=108 b=18 and r=6  (0.7000000000000001, 0.9)\n",
      "Number of candidate pairs are 23\n",
      "Confusion Matrix : \n",
      " [[499468      7]\n",
      " [     9     16]]\n",
      " Accuracy:  0.9999679679679679 \n",
      " Specificity:  0.9999859852845487 \n",
      " Sensitivity:  0.64 \n",
      " Precision:  0.6956521739130435 \n",
      " combined:  0.6678260869565218\n",
      "====================================================================================================\n"
     ]
    },
    {
     "name": "stdout",
     "output_type": "stream",
     "text": [
      "Candidate pairs for n=144 b=24 and r=6  (0.7000000000000001, 0.95)\n",
      "Number of candidate pairs are 27\n",
      "Confusion Matrix : \n",
      " [[499465     10]\n",
      " [     8     17]]\n",
      " Accuracy:  0.9999639639639639 \n",
      " Specificity:  0.9999799789779268 \n",
      " Sensitivity:  0.68 \n",
      " Precision:  0.6296296296296297 \n",
      " combined:  0.6548148148148148\n",
      "====================================================================================================\n",
      "Candidate pairs for n=222 b=37 and r=6  (0.7000000000000001, 0.99)\n",
      "Number of candidate pairs are 30\n",
      "Confusion Matrix : \n",
      " [[499464     11]\n",
      " [     6     19]]\n",
      " Accuracy:  0.999965965965966 \n",
      " Specificity:  0.9999779768757195 \n",
      " Sensitivity:  0.76 \n",
      " Precision:  0.6333333333333333 \n",
      " combined:  0.6966666666666667\n",
      "====================================================================================================\n",
      "Candidate pairs for n=98 b=14 and r=7  (0.7000000000000001, 0.7)\n",
      "Number of candidate pairs are 12\n",
      "Confusion Matrix : \n",
      " [[499471      4]\n",
      " [    17      8]]\n",
      " Accuracy:  0.9999579579579579 \n",
      " Specificity:  0.9999919915911707 \n",
      " Sensitivity:  0.32 \n",
      " Precision:  0.6666666666666666 \n",
      " combined:  0.4933333333333333\n",
      "====================================================================================================\n",
      "Candidate pairs for n=133 b=19 and r=7  (0.7000000000000001, 0.8)\n",
      "Number of candidate pairs are 14\n",
      "Confusion Matrix : \n",
      " [[499470      5]\n",
      " [    16      9]]\n",
      " Accuracy:  0.9999579579579579 \n",
      " Specificity:  0.9999899894889634 \n",
      " Sensitivity:  0.36 \n",
      " Precision:  0.6428571428571429 \n",
      " combined:  0.5014285714285714\n",
      "====================================================================================================\n",
      "Candidate pairs for n=189 b=27 and r=7  (0.7000000000000001, 0.9)\n",
      "Number of candidate pairs are 17\n",
      "Confusion Matrix : \n",
      " [[499469      6]\n",
      " [    14     11]]\n",
      " Accuracy:  0.99995995995996 \n",
      " Specificity:  0.9999879873867561 \n",
      " Sensitivity:  0.44 \n",
      " Precision:  0.6470588235294118 \n",
      " combined:  0.5435294117647059\n",
      "====================================================================================================\n",
      "Candidate pairs for n=245 b=35 and r=7  (0.7000000000000001, 0.95)\n",
      "Number of candidate pairs are 18\n",
      "Confusion Matrix : \n",
      " [[499469      6]\n",
      " [    13     12]]\n",
      " Accuracy:  0.999961961961962 \n",
      " Specificity:  0.9999879873867561 \n",
      " Sensitivity:  0.48 \n",
      " Precision:  0.6666666666666666 \n",
      " combined:  0.5733333333333333\n",
      "====================================================================================================\n",
      "Candidate pairs for n=378 b=54 and r=7  (0.7000000000000001, 0.99)\n",
      "Number of candidate pairs are 25\n",
      "Confusion Matrix : \n",
      " [[499466      9]\n",
      " [     9     16]]\n",
      " Accuracy:  0.9999639639639639 \n",
      " Specificity:  0.9999819810801341 \n",
      " Sensitivity:  0.64 \n",
      " Precision:  0.64 \n",
      " combined:  0.64\n",
      "====================================================================================================\n",
      "Candidate pairs for n=160 b=20 and r=8  (0.7000000000000001, 0.7)\n",
      "Number of candidate pairs are 13\n",
      "Confusion Matrix : \n",
      " [[499472      3]\n",
      " [    15     10]]\n",
      " Accuracy:  0.9999639639639639 \n",
      " Specificity:  0.999993993693378 \n",
      " Sensitivity:  0.4 \n",
      " Precision:  0.7692307692307693 \n",
      " combined:  0.5846153846153846\n",
      "====================================================================================================\n",
      "Candidate pairs for n=216 b=27 and r=8  (0.7000000000000001, 0.8)\n",
      "Number of candidate pairs are 13\n",
      "Confusion Matrix : \n",
      " [[499472      3]\n",
      " [    15     10]]\n",
      " Accuracy:  0.9999639639639639 \n",
      " Specificity:  0.999993993693378 \n",
      " Sensitivity:  0.4 \n",
      " Precision:  0.7692307692307693 \n",
      " combined:  0.5846153846153846\n",
      "====================================================================================================\n",
      "Candidate pairs for n=312 b=39 and r=8  (0.7000000000000001, 0.9)\n",
      "Number of candidate pairs are 16\n",
      "Confusion Matrix : \n",
      " [[499472      3]\n",
      " [    12     13]]\n",
      " Accuracy:  0.99996996996997 \n",
      " Specificity:  0.999993993693378 \n",
      " Sensitivity:  0.52 \n",
      " Precision:  0.8125 \n",
      " combined:  0.66625\n",
      "====================================================================================================\n",
      "Candidate pairs for n=400 b=50 and r=8  (0.7000000000000001, 0.95)\n",
      "Number of candidate pairs are 18\n",
      "Confusion Matrix : \n",
      " [[499470      5]\n",
      " [    12     13]]\n",
      " Accuracy:  0.999965965965966 \n",
      " Specificity:  0.9999899894889634 \n",
      " Sensitivity:  0.52 \n",
      " Precision:  0.7222222222222222 \n",
      " combined:  0.6211111111111112\n",
      "====================================================================================================\n",
      "Candidate pairs for n=624 b=78 and r=8  (0.7000000000000001, 0.99)\n",
      "Number of candidate pairs are 20\n",
      "Confusion Matrix : \n",
      " [[499469      6]\n",
      " [    11     14]]\n",
      " Accuracy:  0.999965965965966 \n",
      " Specificity:  0.9999879873867561 \n",
      " Sensitivity:  0.56 \n",
      " Precision:  0.7 \n",
      " combined:  0.63\n",
      "====================================================================================================\n",
      "Candidate pairs for n=261 b=29 and r=9  (0.7000000000000001, 0.7)\n",
      "Number of candidate pairs are 11\n",
      "Confusion Matrix : \n",
      " [[499473      2]\n",
      " [    16      9]]\n",
      " Accuracy:  0.9999639639639639 \n",
      " Specificity:  0.9999959957955854 \n",
      " Sensitivity:  0.36 \n",
      " Precision:  0.8181818181818182 \n",
      " combined:  0.5890909090909091\n",
      "====================================================================================================\n",
      "Candidate pairs for n=351 b=39 and r=9  (0.7000000000000001, 0.8)\n",
      "Number of candidate pairs are 13\n",
      "Confusion Matrix : \n",
      " [[499473      2]\n",
      " [    14     11]]\n",
      " Accuracy:  0.9999679679679679 \n",
      " Specificity:  0.9999959957955854 \n",
      " Sensitivity:  0.44 \n",
      " Precision:  0.8461538461538461 \n",
      " combined:  0.6430769230769231\n",
      "====================================================================================================\n",
      "Candidate pairs for n=504 b=56 and r=9  (0.7000000000000001, 0.9)\n",
      "Number of candidate pairs are 14\n",
      "Confusion Matrix : \n",
      " [[499472      3]\n",
      " [    14     11]]\n",
      " Accuracy:  0.999965965965966 \n",
      " Specificity:  0.999993993693378 \n",
      " Sensitivity:  0.44 \n",
      " Precision:  0.7857142857142857 \n",
      " combined:  0.6128571428571429\n",
      "====================================================================================================\n",
      "Candidate pairs for n=657 b=73 and r=9  (0.7000000000000001, 0.95)\n",
      "Number of candidate pairs are 14\n",
      "Confusion Matrix : \n",
      " [[499472      3]\n",
      " [    14     11]]\n",
      " Accuracy:  0.999965965965966 \n",
      " Specificity:  0.999993993693378 \n",
      " Sensitivity:  0.44 \n",
      " Precision:  0.7857142857142857 \n",
      " combined:  0.6128571428571429\n",
      "====================================================================================================\n",
      "Candidate pairs for n=420 b=42 and r=10  (0.7000000000000001, 0.7)\n",
      "Number of candidate pairs are 7\n",
      "Confusion Matrix : \n",
      " [[499473      2]\n",
      " [    20      5]]\n",
      " Accuracy:  0.999955955955956 \n",
      " Specificity:  0.9999959957955854 \n",
      " Sensitivity:  0.2 \n",
      " Precision:  0.7142857142857143 \n",
      " combined:  0.4571428571428572\n",
      "====================================================================================================\n",
      "Candidate pairs for n=560 b=56 and r=10  (0.7000000000000001, 0.8)\n",
      "Number of candidate pairs are 7\n",
      "Confusion Matrix : \n",
      " [[499473      2]\n",
      " [    20      5]]\n",
      " Accuracy:  0.999955955955956 \n",
      " Specificity:  0.9999959957955854 \n",
      " Sensitivity:  0.2 \n",
      " Precision:  0.7142857142857143 \n",
      " combined:  0.4571428571428572\n",
      "====================================================================================================\n",
      "Candidate pairs for n=800 b=80 and r=10  (0.7000000000000001, 0.9)\n",
      "Number of candidate pairs are 10\n",
      "Confusion Matrix : \n",
      " [[499471      4]\n",
      " [    19      6]]\n",
      " Accuracy:  0.9999539539539539 \n",
      " Specificity:  0.9999919915911707 \n",
      " Sensitivity:  0.24 \n",
      " Precision:  0.6 \n",
      " combined:  0.42\n",
      "====================================================================================================\n",
      "Candidate pairs for n=90 b=15 and r=6  (0.8, 0.99)\n",
      "Number of candidate pairs are 20\n",
      "Confusion Matrix : \n",
      " [[499470      5]\n",
      " [    10     15]]\n",
      " Accuracy:  0.99996996996997 \n",
      " Specificity:  0.9999899894889634 \n",
      " Sensitivity:  0.6 \n",
      " Precision:  0.75 \n",
      " combined:  0.675\n",
      "====================================================================================================\n",
      "Candidate pairs for n=91 b=13 and r=7  (0.8, 0.95)\n",
      "Number of candidate pairs are 11\n",
      "Confusion Matrix : \n",
      " [[499471      4]\n",
      " [    18      7]]\n",
      " Accuracy:  0.999955955955956 \n",
      " Specificity:  0.9999919915911707 \n",
      " Sensitivity:  0.28 \n",
      " Precision:  0.6363636363636364 \n",
      " combined:  0.4581818181818182\n",
      "====================================================================================================\n"
     ]
    },
    {
     "name": "stdout",
     "output_type": "stream",
     "text": [
      "Candidate pairs for n=140 b=20 and r=7  (0.8, 0.99)\n",
      "Number of candidate pairs are 14\n",
      "Confusion Matrix : \n",
      " [[499470      5]\n",
      " [    16      9]]\n",
      " Accuracy:  0.9999579579579579 \n",
      " Specificity:  0.9999899894889634 \n",
      " Sensitivity:  0.36 \n",
      " Precision:  0.6428571428571429 \n",
      " combined:  0.5014285714285714\n",
      "====================================================================================================\n",
      "Candidate pairs for n=104 b=13 and r=8  (0.8, 0.9)\n",
      "Number of candidate pairs are 10\n",
      "Confusion Matrix : \n",
      " [[499473      2]\n",
      " [    17      8]]\n",
      " Accuracy:  0.999961961961962 \n",
      " Specificity:  0.9999959957955854 \n",
      " Sensitivity:  0.32 \n",
      " Precision:  0.8 \n",
      " combined:  0.56\n",
      "====================================================================================================\n",
      "Candidate pairs for n=128 b=16 and r=8  (0.8, 0.95)\n",
      "Number of candidate pairs are 10\n",
      "Confusion Matrix : \n",
      " [[499473      2]\n",
      " [    17      8]]\n",
      " Accuracy:  0.999961961961962 \n",
      " Specificity:  0.9999959957955854 \n",
      " Sensitivity:  0.32 \n",
      " Precision:  0.8 \n",
      " combined:  0.56\n",
      "====================================================================================================\n",
      "Candidate pairs for n=200 b=25 and r=8  (0.8, 0.99)\n",
      "Number of candidate pairs are 13\n",
      "Confusion Matrix : \n",
      " [[499472      3]\n",
      " [    15     10]]\n",
      " Accuracy:  0.9999639639639639 \n",
      " Specificity:  0.999993993693378 \n",
      " Sensitivity:  0.4 \n",
      " Precision:  0.7692307692307693 \n",
      " combined:  0.5846153846153846\n",
      "====================================================================================================\n",
      "Candidate pairs for n=99 b=11 and r=9  (0.8, 0.8)\n",
      "Number of candidate pairs are 7\n",
      "Confusion Matrix : \n",
      " [[499473      2]\n",
      " [    20      5]]\n",
      " Accuracy:  0.999955955955956 \n",
      " Specificity:  0.9999959957955854 \n",
      " Sensitivity:  0.2 \n",
      " Precision:  0.7142857142857143 \n",
      " combined:  0.4571428571428572\n",
      "====================================================================================================\n",
      "Candidate pairs for n=144 b=16 and r=9  (0.8, 0.9)\n",
      "Number of candidate pairs are 9\n",
      "Confusion Matrix : \n",
      " [[499473      2]\n",
      " [    18      7]]\n",
      " Accuracy:  0.99995995995996 \n",
      " Specificity:  0.9999959957955854 \n",
      " Sensitivity:  0.28 \n",
      " Precision:  0.7777777777777778 \n",
      " combined:  0.528888888888889\n",
      "====================================================================================================\n",
      "Candidate pairs for n=189 b=21 and r=9  (0.8, 0.95)\n",
      "Number of candidate pairs are 11\n",
      "Confusion Matrix : \n",
      " [[499473      2]\n",
      " [    16      9]]\n",
      " Accuracy:  0.9999639639639639 \n",
      " Specificity:  0.9999959957955854 \n",
      " Sensitivity:  0.36 \n",
      " Precision:  0.8181818181818182 \n",
      " combined:  0.5890909090909091\n",
      "====================================================================================================\n",
      "Candidate pairs for n=288 b=32 and r=9  (0.8, 0.99)\n",
      "Number of candidate pairs are 11\n",
      "Confusion Matrix : \n",
      " [[499473      2]\n",
      " [    16      9]]\n",
      " Accuracy:  0.9999639639639639 \n",
      " Specificity:  0.9999959957955854 \n",
      " Sensitivity:  0.36 \n",
      " Precision:  0.8181818181818182 \n",
      " combined:  0.5890909090909091\n",
      "====================================================================================================\n",
      "Candidate pairs for n=110 b=11 and r=10  (0.8, 0.7)\n",
      "Number of candidate pairs are 4\n",
      "Confusion Matrix : \n",
      " [[499474      1]\n",
      " [    22      3]]\n",
      " Accuracy:  0.9999539539539539 \n",
      " Specificity:  0.9999979978977926 \n",
      " Sensitivity:  0.12 \n",
      " Precision:  0.75 \n",
      " combined:  0.435\n",
      "====================================================================================================\n",
      "Candidate pairs for n=140 b=14 and r=10  (0.8, 0.8)\n",
      "Number of candidate pairs are 4\n",
      "Confusion Matrix : \n",
      " [[499474      1]\n",
      " [    22      3]]\n",
      " Accuracy:  0.9999539539539539 \n",
      " Specificity:  0.9999979978977926 \n",
      " Sensitivity:  0.12 \n",
      " Precision:  0.75 \n",
      " combined:  0.435\n",
      "====================================================================================================\n",
      "Candidate pairs for n=200 b=20 and r=10  (0.8, 0.9)\n",
      "Number of candidate pairs are 4\n",
      "Confusion Matrix : \n",
      " [[499474      1]\n",
      " [    22      3]]\n",
      " Accuracy:  0.9999539539539539 \n",
      " Specificity:  0.9999979978977926 \n",
      " Sensitivity:  0.12 \n",
      " Precision:  0.75 \n",
      " combined:  0.435\n",
      "====================================================================================================\n",
      "Candidate pairs for n=260 b=26 and r=10  (0.8, 0.95)\n",
      "Number of candidate pairs are 4\n",
      "Confusion Matrix : \n",
      " [[499474      1]\n",
      " [    22      3]]\n",
      " Accuracy:  0.9999539539539539 \n",
      " Specificity:  0.9999979978977926 \n",
      " Sensitivity:  0.12 \n",
      " Precision:  0.75 \n",
      " combined:  0.435\n",
      "====================================================================================================\n",
      "Candidate pairs for n=410 b=41 and r=10  (0.8, 0.99)\n",
      "Number of candidate pairs are 7\n",
      "Confusion Matrix : \n",
      " [[499473      2]\n",
      " [    20      5]]\n",
      " Accuracy:  0.999955955955956 \n",
      " Specificity:  0.9999959957955854 \n",
      " Sensitivity:  0.2 \n",
      " Precision:  0.7142857142857143 \n",
      " combined:  0.4571428571428572\n",
      "====================================================================================================\n",
      "Candidate pairs for n=81 b=9 and r=9  (0.9, 0.99)\n",
      "Number of candidate pairs are 7\n",
      "Confusion Matrix : \n",
      " [[499473      2]\n",
      " [    20      5]]\n",
      " Accuracy:  0.999955955955956 \n",
      " Specificity:  0.9999959957955854 \n",
      " Sensitivity:  0.2 \n",
      " Precision:  0.7142857142857143 \n",
      " combined:  0.4571428571428572\n",
      "====================================================================================================\n",
      "Candidate pairs for n=110 b=11 and r=10  (0.9, 0.99)\n",
      "Number of candidate pairs are 4\n",
      "Confusion Matrix : \n",
      " [[499474      1]\n",
      " [    22      3]]\n",
      " Accuracy:  0.9999539539539539 \n",
      " Specificity:  0.9999979978977926 \n",
      " Sensitivity:  0.12 \n",
      " Precision:  0.75 \n",
      " combined:  0.435\n",
      "====================================================================================================\n",
      "time spent:  366.38907861709595\n",
      "best_res:  0.7590697674418605\n"
     ]
    }
   ],
   "source": [
    "best_comb = 0\n",
    "res = []\n",
    "# accuracy, spec, sens, precision\n",
    "weights = [0,0,2,2]\n",
    "t0 = time.time()\n",
    "for op in ops:\n",
    "    b = int(op[0][0])\n",
    "    r = int(op[0][1])\n",
    "    lsh = LSH(b,r)\n",
    "    l = b * r\n",
    "    for signature in signatures:\n",
    "        lsh.add_hash(signature[:l])\n",
    "\n",
    "    candidate_pairs = lsh.check_candidates()\n",
    "    print(f\"Candidate pairs for n={l} b={b} and r={r} \", op[1])\n",
    "    print(f\"Number of candidate pairs are {len(candidate_pairs)}\")\n",
    "    metrics, comb = check_metrics(candidate_pairs, real_sim, weights)\n",
    "    if comb > best_comb:\n",
    "        best_comb = comb\n",
    "    res.append([comb, b, r, l, op[1], metrics])\n",
    "    print(\"=\"*100)\n",
    "t1 = time.time()\n",
    "print(\"time spent: \", t1-t0)\n",
    "print(\"best_res: \", best_comb)"
   ]
  },
  {
   "cell_type": "code",
   "execution_count": 23,
   "metadata": {},
   "outputs": [],
   "source": [
    "results = pd.DataFrame.from_records(res, columns=['combined', 'b', 'r', 'M', 'vals', 'metrics'])\n",
    "results['similarity'], results['probability']=results.vals.str\n",
    "results['acc'], results['spec'], results['sens'], results['prec']=results.metrics.str\n",
    "results = results.drop(['vals', 'metrics'], axis=1)"
   ]
  },
  {
   "cell_type": "code",
   "execution_count": 24,
   "metadata": {
    "scrolled": true
   },
   "outputs": [
    {
     "data": {
      "text/plain": [
       "(62, 10)"
      ]
     },
     "execution_count": 24,
     "metadata": {},
     "output_type": "execute_result"
    }
   ],
   "source": [
    "results.shape"
   ]
  },
  {
   "cell_type": "code",
   "execution_count": 25,
   "metadata": {},
   "outputs": [
    {
     "data": {
      "text/html": [
       "<div>\n",
       "<style scoped>\n",
       "    .dataframe tbody tr th:only-of-type {\n",
       "        vertical-align: middle;\n",
       "    }\n",
       "\n",
       "    .dataframe tbody tr th {\n",
       "        vertical-align: top;\n",
       "    }\n",
       "\n",
       "    .dataframe thead th {\n",
       "        text-align: right;\n",
       "    }\n",
       "</style>\n",
       "<table border=\"1\" class=\"dataframe\">\n",
       "  <thead>\n",
       "    <tr style=\"text-align: right;\">\n",
       "      <th></th>\n",
       "      <th>combined</th>\n",
       "      <th>b</th>\n",
       "      <th>r</th>\n",
       "      <th>M</th>\n",
       "      <th>similarity</th>\n",
       "      <th>probability</th>\n",
       "      <th>acc</th>\n",
       "      <th>spec</th>\n",
       "      <th>sens</th>\n",
       "      <th>prec</th>\n",
       "    </tr>\n",
       "  </thead>\n",
       "  <tbody>\n",
       "    <tr>\n",
       "      <th>0</th>\n",
       "      <td>0.616364</td>\n",
       "      <td>35</td>\n",
       "      <td>3</td>\n",
       "      <td>105</td>\n",
       "      <td>0.4</td>\n",
       "      <td>0.90</td>\n",
       "      <td>0.999870</td>\n",
       "      <td>0.999872</td>\n",
       "      <td>0.96</td>\n",
       "      <td>0.272727</td>\n",
       "    </tr>\n",
       "    <tr>\n",
       "      <th>1</th>\n",
       "      <td>0.606316</td>\n",
       "      <td>45</td>\n",
       "      <td>3</td>\n",
       "      <td>135</td>\n",
       "      <td>0.4</td>\n",
       "      <td>0.95</td>\n",
       "      <td>0.999856</td>\n",
       "      <td>0.999858</td>\n",
       "      <td>0.96</td>\n",
       "      <td>0.252632</td>\n",
       "    </tr>\n",
       "    <tr>\n",
       "      <th>2</th>\n",
       "      <td>0.615741</td>\n",
       "      <td>70</td>\n",
       "      <td>3</td>\n",
       "      <td>210</td>\n",
       "      <td>0.4</td>\n",
       "      <td>0.99</td>\n",
       "      <td>0.999834</td>\n",
       "      <td>0.999834</td>\n",
       "      <td>1.00</td>\n",
       "      <td>0.231481</td>\n",
       "    </tr>\n",
       "    <tr>\n",
       "      <th>3</th>\n",
       "      <td>0.686897</td>\n",
       "      <td>46</td>\n",
       "      <td>4</td>\n",
       "      <td>184</td>\n",
       "      <td>0.4</td>\n",
       "      <td>0.70</td>\n",
       "      <td>0.999930</td>\n",
       "      <td>0.999932</td>\n",
       "      <td>0.96</td>\n",
       "      <td>0.413793</td>\n",
       "    </tr>\n",
       "    <tr>\n",
       "      <th>4</th>\n",
       "      <td>0.695312</td>\n",
       "      <td>62</td>\n",
       "      <td>4</td>\n",
       "      <td>248</td>\n",
       "      <td>0.4</td>\n",
       "      <td>0.80</td>\n",
       "      <td>0.999922</td>\n",
       "      <td>0.999922</td>\n",
       "      <td>1.00</td>\n",
       "      <td>0.390625</td>\n",
       "    </tr>\n",
       "  </tbody>\n",
       "</table>\n",
       "</div>"
      ],
      "text/plain": [
       "   combined   b  r    M  similarity  probability       acc      spec  sens  \\\n",
       "0  0.616364  35  3  105         0.4         0.90  0.999870  0.999872  0.96   \n",
       "1  0.606316  45  3  135         0.4         0.95  0.999856  0.999858  0.96   \n",
       "2  0.615741  70  3  210         0.4         0.99  0.999834  0.999834  1.00   \n",
       "3  0.686897  46  4  184         0.4         0.70  0.999930  0.999932  0.96   \n",
       "4  0.695312  62  4  248         0.4         0.80  0.999922  0.999922  1.00   \n",
       "\n",
       "       prec  \n",
       "0  0.272727  \n",
       "1  0.252632  \n",
       "2  0.231481  \n",
       "3  0.413793  \n",
       "4  0.390625  "
      ]
     },
     "execution_count": 25,
     "metadata": {},
     "output_type": "execute_result"
    }
   ],
   "source": [
    "results.head()"
   ]
  },
  {
   "cell_type": "code",
   "execution_count": 26,
   "metadata": {},
   "outputs": [],
   "source": [
    "# results.to_csv(\"results.csv\")"
   ]
  },
  {
   "cell_type": "code",
   "execution_count": null,
   "metadata": {},
   "outputs": [],
   "source": []
  },
  {
   "cell_type": "code",
   "execution_count": 59,
   "metadata": {},
   "outputs": [
    {
     "data": {
      "image/png": "[encoded data removed]",
      "text/plain": [
       "<Figure size 576x360 with 1 Axes>"
      ]
     },
     "metadata": {
      "needs_background": "light"
     },
     "output_type": "display_data"
    }
   ],
   "source": [
    "plt.figure(figsize=(8,5))\n",
    "groups = results.groupby(\"r\")\n",
    "for name, group in groups:\n",
    "    plt.plot(group[\"b\"], group[\"combined\"], marker=\"o\", linestyle=\"\", label=name)\n",
    "plt.legend(title=\"r\")\n",
    "\n",
    "plt.xlabel('b')\n",
    "plt.ylabel('Metric')\n",
    "plt.title(\"Relation between a combined metric and a number of bands\")\n",
    "plt.show()"
   ]
  },
  {
   "cell_type": "code",
   "execution_count": null,
   "metadata": {},
   "outputs": [],
   "source": []
  },
  {
   "cell_type": "code",
   "execution_count": 60,
   "metadata": {},
   "outputs": [
    {
     "data": {
      "image/png": "[encoded data removed]",
      "text/plain": [
       "<Figure size 576x360 with 1 Axes>"
      ]
     },
     "metadata": {
      "needs_background": "light"
     },
     "output_type": "display_data"
    }
   ],
   "source": [
    "plt.figure(figsize=(8,5))\n",
    "plt.scatter(results[\"r\"],results[\"combined\"])\n",
    "# plt.legend()\n",
    "plt.xlabel('r')\n",
    "plt.ylabel('Metric')\n",
    "plt.title(\"Relation between a combined metric and a number of rows\")\n",
    "plt.show()"
   ]
  },
  {
   "cell_type": "code",
   "execution_count": 61,
   "metadata": {},
   "outputs": [
    {
     "data": {
      "image/png": "[encoded data removed]",
      "text/plain": [
       "<Figure size 576x360 with 1 Axes>"
      ]
     },
     "metadata": {
      "needs_background": "light"
     },
     "output_type": "display_data"
    }
   ],
   "source": [
    "plt.figure(figsize=(8,5))\n",
    "plt.scatter(results[\"M\"],results[\"combined\"])\n",
    "plt.xlabel('M')\n",
    "plt.ylabel('Metric')\n",
    "plt.title(\"Relation between a combined metric and number of hash functions\")\n",
    "plt.show()"
   ]
  },
  {
   "cell_type": "code",
   "execution_count": null,
   "metadata": {},
   "outputs": [],
   "source": []
  },
  {
   "cell_type": "code",
   "execution_count": 62,
   "metadata": {
    "scrolled": true
   },
   "outputs": [
    {
     "data": {
      "image/png": "[encoded data removed]",
      "text/plain": [
       "<Figure size 576x360 with 1 Axes>"
      ]
     },
     "metadata": {
      "needs_background": "light"
     },
     "output_type": "display_data"
    }
   ],
   "source": [
    "plt.figure(figsize=(8,5))\n",
    "plt.scatter(results[\"similarity\"],results[\"combined\"])\n",
    "plt.xlabel('similarity')\n",
    "plt.ylabel('Metric')\n",
    "plt.title(\"Relation between a combined metric and a similarity\")\n",
    "plt.show()"
   ]
  },
  {
   "cell_type": "code",
   "execution_count": 63,
   "metadata": {},
   "outputs": [
    {
     "data": {
      "image/png": "[encoded data removed]",
      "text/plain": [
       "<Figure size 576x360 with 1 Axes>"
      ]
     },
     "metadata": {
      "needs_background": "light"
     },
     "output_type": "display_data"
    }
   ],
   "source": [
    "plt.figure(figsize=(8,5))\n",
    "plt.scatter(results[\"similarity\"],results[\"sens\"])\n",
    "plt.xlabel('Similarity')\n",
    "plt.ylabel('Sensitivity')\n",
    "plt.title(\"Relation between sensitivity and similarity\")\n",
    "plt.show()"
   ]
  },
  {
   "cell_type": "code",
   "execution_count": null,
   "metadata": {},
   "outputs": [],
   "source": []
  },
  {
   "cell_type": "code",
   "execution_count": 64,
   "metadata": {},
   "outputs": [
    {
     "data": {
      "image/png": "[encoded data removed]",
      "text/plain": [
       "<Figure size 576x360 with 1 Axes>"
      ]
     },
     "metadata": {
      "needs_background": "light"
     },
     "output_type": "display_data"
    }
   ],
   "source": [
    "plt.figure(figsize=(8,5))\n",
    "plt.scatter(results[\"similarity\"],results[\"prec\"])\n",
    "plt.xlabel('Similarity')\n",
    "plt.ylabel('Precision')\n",
    "plt.title(\"Relation between precision and similarity\")\n",
    "plt.show()"
   ]
  },
  {
   "cell_type": "code",
   "execution_count": null,
   "metadata": {},
   "outputs": [],
   "source": []
  },
  {
   "cell_type": "code",
   "execution_count": 65,
   "metadata": {},
   "outputs": [
    {
     "data": {
      "image/png": "[encoded data removed]",
      "text/plain": [
       "<Figure size 576x360 with 1 Axes>"
      ]
     },
     "metadata": {
      "needs_background": "light"
     },
     "output_type": "display_data"
    }
   ],
   "source": [
    "plt.figure(figsize=(8,5))\n",
    "plt.scatter(results[\"probability\"],results[\"combined\"])\n",
    "plt.xlabel('probability')\n",
    "plt.ylabel('Metric')\n",
    "plt.title(\"Relation between a combined metric and a probability\")\n",
    "plt.show()"
   ]
  },
  {
   "cell_type": "code",
   "execution_count": 109,
   "metadata": {
    "pycharm": {
     "name": "#%%\n"
    },
    "scrolled": true
   },
   "outputs": [
    {
     "data": {
      "text/html": [
       "<div>\n",
       "<style scoped>\n",
       "    .dataframe tbody tr th:only-of-type {\n",
       "        vertical-align: middle;\n",
       "    }\n",
       "\n",
       "    .dataframe tbody tr th {\n",
       "        vertical-align: top;\n",
       "    }\n",
       "\n",
       "    .dataframe thead th {\n",
       "        text-align: right;\n",
       "    }\n",
       "</style>\n",
       "<table border=\"1\" class=\"dataframe\">\n",
       "  <thead>\n",
       "    <tr style=\"text-align: right;\">\n",
       "      <th></th>\n",
       "      <th>combined</th>\n",
       "      <th>b</th>\n",
       "      <th>r</th>\n",
       "      <th>M</th>\n",
       "      <th>similarity</th>\n",
       "      <th>probability</th>\n",
       "      <th>acc</th>\n",
       "      <th>spec</th>\n",
       "      <th>sens</th>\n",
       "      <th>prec</th>\n",
       "    </tr>\n",
       "  </thead>\n",
       "  <tbody>\n",
       "    <tr>\n",
       "      <th>21</th>\n",
       "      <td>0.75907</td>\n",
       "      <td>102</td>\n",
       "      <td>6</td>\n",
       "      <td>612</td>\n",
       "      <td>0.5</td>\n",
       "      <td>0.80</td>\n",
       "      <td>0.99996</td>\n",
       "      <td>0.999962</td>\n",
       "      <td>0.96</td>\n",
       "      <td>0.55814</td>\n",
       "    </tr>\n",
       "    <tr>\n",
       "      <th>33</th>\n",
       "      <td>0.75907</td>\n",
       "      <td>96</td>\n",
       "      <td>6</td>\n",
       "      <td>576</td>\n",
       "      <td>0.6</td>\n",
       "      <td>0.99</td>\n",
       "      <td>0.99996</td>\n",
       "      <td>0.999962</td>\n",
       "      <td>0.96</td>\n",
       "      <td>0.55814</td>\n",
       "    </tr>\n",
       "  </tbody>\n",
       "</table>\n",
       "</div>"
      ],
      "text/plain": [
       "    combined    b  r    M  similarity  probability      acc      spec  sens  \\\n",
       "21   0.75907  102  6  612         0.5         0.80  0.99996  0.999962  0.96   \n",
       "33   0.75907   96  6  576         0.6         0.99  0.99996  0.999962  0.96   \n",
       "\n",
       "       prec  \n",
       "21  0.55814  \n",
       "33  0.55814  "
      ]
     },
     "execution_count": 109,
     "metadata": {},
     "output_type": "execute_result"
    }
   ],
   "source": [
    "results[results.combined == results.combined.max()]"
   ]
  },
  {
   "cell_type": "markdown",
   "metadata": {
    "pycharm": {
     "name": "#%% md\n"
    }
   },
   "source": [
    "\n",
    "## Parameters"
   ]
  },
  {
   "cell_type": "code",
   "execution_count": 23,
   "metadata": {},
   "outputs": [],
   "source": [
    "def prob_fun(r,b,p):\n",
    "    return 1-(1-p**r)**b"
   ]
  },
  {
   "cell_type": "code",
   "execution_count": 42,
   "metadata": {},
   "outputs": [
    {
     "name": "stdout",
     "output_type": "stream",
     "text": [
      "6\n"
     ]
    }
   ],
   "source": [
    "rows = np.linspace(2,7,6)\n",
    "probabilities = [0.95]\n",
    "similarities = [0.8]\n",
    "# similarities = np.linspace(0.5,0.9,5)\n",
    "ops = get_ops(similarities, rows, probabilities)\n",
    "print(len(ops))"
   ]
  },
  {
   "cell_type": "code",
   "execution_count": 43,
   "metadata": {},
   "outputs": [
    {
     "name": "stdout",
     "output_type": "stream",
     "text": [
      "((3, 2.0), (0.8, 0.95))\n",
      "((4, 3.0), (0.8, 0.95))\n",
      "((6, 4.0), (0.8, 0.95))\n",
      "((8, 5.0), (0.8, 0.95))\n",
      "((10, 6.0), (0.8, 0.95))\n",
      "((13, 7.0), (0.8, 0.95))\n"
     ]
    }
   ],
   "source": [
    "for op in ops:\n",
    "    print(op)\n",
    "pts = np.linspace(0,1,100)\n"
   ]
  },
  {
   "cell_type": "code",
   "execution_count": 29,
   "metadata": {},
   "outputs": [
    {
     "data": {
      "image/png": "[encoded data removed]",
      "text/plain": [
       "<Figure size 432x288 with 1 Axes>"
      ]
     },
     "metadata": {
      "needs_background": "light"
     },
     "output_type": "display_data"
    }
   ],
   "source": [
    "\n",
    "n = 200\n",
    "ops = [(2,100),(4,50),(10,20),(20,10),(50,4),(100,2)]\n",
    "\n",
    "for op in ops:\n",
    "#     plt.subfigure(subfigsize=(10,5))\n",
    "#     plt.plot(pts, prob_fun(op[0][1], op[0][0], pts ), label=op)    \n",
    "    plt.plot(pts, prob_fun(op[1], op[0], pts ), label=op)    \n",
    "\n",
    "plt.legend(loc='center left', bbox_to_anchor=(1, 0.5))\n",
    "plt.xlabel('similarity')\n",
    "plt.ylabel('Probability')\n",
    "plt.title(\"legend: (r,b). p_true=0.8 (vertical line)\")\n",
    "plt.show()"
   ]
  },
  {
   "cell_type": "code",
   "execution_count": 34,
   "metadata": {},
   "outputs": [
    {
     "data": {
      "image/png": "[encoded data removed]",
      "text/plain": [
       "<Figure size 432x288 with 1 Axes>"
      ]
     },
     "metadata": {
      "needs_background": "light"
     },
     "output_type": "display_data"
    }
   ],
   "source": [
    "\n",
    "n = 200\n",
    "ops = [(1,200),(2,200),(3, 200),(4,200),(5, 200),(6, 200)]\n",
    "\n",
    "for op in ops:\n",
    "#     plt.subfigure(subfigsize=(10,5))\n",
    "#     plt.plot(pts, prob_fun(op[0][1], op[0][0], pts ), label=op)    \n",
    "    plt.plot(pts, prob_fun(op[0], op[1], pts ), label=op)    \n",
    "\n",
    "plt.legend(loc='center left', bbox_to_anchor=(1, 0.5))\n",
    "plt.xlabel('similarity')\n",
    "plt.ylabel('Probability')\n",
    "plt.title(\"legend: (r,b)\")\n",
    "plt.show()"
   ]
  },
  {
   "cell_type": "code",
   "execution_count": 54,
   "metadata": {},
   "outputs": [
    {
     "data": {
      "image/png": "[encoded data removed]",
      "text/plain": [
       "<Figure size 432x288 with 1 Axes>"
      ]
     },
     "metadata": {
      "needs_background": "light"
     },
     "output_type": "display_data"
    }
   ],
   "source": [
    "\n",
    "n = 200\n",
    "ops = [(5,50),(5,100),(5, 150),(5,200),(5, 250),(5, 300)]\n",
    "\n",
    "for op in ops:\n",
    "#     plt.subfigure(subfigsize=(10,5))\n",
    "#     plt.plot(pts, prob_fun(op[0][1], op[0][0], pts ), label=op)    \n",
    "    plt.plot(pts, prob_fun(op[0], op[1], pts ), label=op)    \n",
    "\n",
    "plt.legend(loc='center left', bbox_to_anchor=(1, 0.5))\n",
    "plt.xlabel('similarity')\n",
    "plt.ylabel('Probability')\n",
    "plt.title(\"legend: (r,b)\")\n",
    "plt.show()"
   ]
  },
  {
   "cell_type": "code",
   "execution_count": 37,
   "metadata": {},
   "outputs": [
    {
     "data": {
      "image/png": "[encoded data removed]",
      "text/plain": [
       "<Figure size 432x288 with 1 Axes>"
      ]
     },
     "metadata": {
      "needs_background": "light"
     },
     "output_type": "display_data"
    }
   ],
   "source": [
    "\n",
    "n = 200\n",
    "ops = [(1,20),(2,40),(3, 60),(4, 80),(5,100),(6, 120)]\n",
    "\n",
    "for op in ops:\n",
    "#     plt.subfigure(subfigsize=(10,5))\n",
    "#     plt.plot(pts, prob_fun(op[0][1], op[0][0], pts ), label=op)    \n",
    "    plt.plot(pts, prob_fun(op[0], op[1], pts ), label=op)    \n",
    "\n",
    "plt.legend(loc='center left', bbox_to_anchor=(1, 0.5))\n",
    "plt.xlabel('similarity')\n",
    "plt.ylabel('Probability')\n",
    "plt.title(\"legend: (r,b)\")\n",
    "plt.show()"
   ]
  },
  {
   "cell_type": "code",
   "execution_count": 53,
   "metadata": {},
   "outputs": [
    {
     "name": "stdout",
     "output_type": "stream",
     "text": [
      "6\n"
     ]
    },
    {
     "data": {
      "image/png": "[encoded data removed]",
      "text/plain": [
       "<Figure size 432x288 with 1 Axes>"
      ]
     },
     "metadata": {
      "needs_background": "light"
     },
     "output_type": "display_data"
    }
   ],
   "source": [
    "rows = np.linspace(2,7,6)\n",
    "probabilities = [0.95]\n",
    "similarities = [0.8]\n",
    "# similarities = np.linspace(0.5,0.9,5)\n",
    "ops = get_ops(similarities, rows, probabilities)\n",
    "print(len(ops))\n",
    "\n",
    "for op in ops:\n",
    "#     plt.subfigure(subfigsize=(10,5))\n",
    "    plt.plot(pts, prob_fun(op[0][1], op[0][0], pts ), label=(op[0][1], op[0][0]))    \n",
    "#     plt.plot(pts, prob_fun(op[0], op[1], pts ), label=op)    \n",
    "\n",
    "plt.legend(loc='center left', bbox_to_anchor=(1, 0.5))\n",
    "plt.xlabel('similarity')\n",
    "plt.ylabel('Probability')\n",
    "plt.title(\"legend: (r,b)\")\n",
    "plt.show()"
   ]
  },
  {
   "cell_type": "code",
   "execution_count": 57,
   "metadata": {},
   "outputs": [
    {
     "name": "stdout",
     "output_type": "stream",
     "text": [
      "5\n"
     ]
    },
    {
     "data": {
      "image/png": "[encoded data removed]",
      "text/plain": [
       "<Figure size 432x288 with 1 Axes>"
      ]
     },
     "metadata": {
      "needs_background": "light"
     },
     "output_type": "display_data"
    }
   ],
   "source": [
    "# rows = np.linspace(2,7,6)\n",
    "rows = [7]\n",
    "probabilities = [0.95]\n",
    "# similarities = [0.8]\n",
    "similarities = np.linspace(0.5,0.9,5)\n",
    "ops = get_ops(similarities, rows, probabilities)\n",
    "print(len(ops))\n",
    "\n",
    "for op in ops:\n",
    "#     plt.subfigure(subfigsize=(10,5))\n",
    "    plt.plot(pts, prob_fun(op[0][1], op[0][0], pts ), label=(op[0][1], op[0][0], op[1][0]))    \n",
    "#     plt.plot(pts, prob_fun(op[0], op[1], pts ), label=op)    \n",
    "\n",
    "plt.legend(loc='center left', bbox_to_anchor=(1, 0.5))\n",
    "plt.xlabel('similarity')\n",
    "plt.ylabel('Probability')\n",
    "plt.title(\"legend: (r,b, similarity)\")\n",
    "plt.show()"
   ]
  },
  {
   "cell_type": "code",
   "execution_count": null,
   "metadata": {},
   "outputs": [],
   "source": []
  },
  {
   "cell_type": "code",
   "execution_count": 49,
   "metadata": {},
   "outputs": [
    {
     "data": {
      "text/plain": [
       "[((94, 5), (0.5, 0.95)),\n",
       " ((37, 5), (0.6, 0.95)),\n",
       " ((16, 5), (0.7, 0.95)),\n",
       " ((8, 5), (0.8, 0.95)),\n",
       " ((3, 5), (0.9, 0.95))]"
      ]
     },
     "execution_count": 49,
     "metadata": {},
     "output_type": "execute_result"
    }
   ],
   "source": [
    "ops"
   ]
  },
  {
   "cell_type": "code",
   "execution_count": null,
   "metadata": {},
   "outputs": [],
   "source": []
  }
 ],
 "metadata": {
  "kernelspec": {
   "display_name": "Python 3",
   "language": "python",
   "name": "python3"
  },
  "language_info": {
   "codemirror_mode": {
    "name": "ipython",
    "version": 3
   },
   "file_extension": ".py",
   "mimetype": "text/x-python",
   "name": "python",
   "nbconvert_exporter": "python",
   "pygments_lexer": "ipython3",
   "version": "3.7.1"
  }
 },
 "nbformat": 4,
 "nbformat_minor": 1
}

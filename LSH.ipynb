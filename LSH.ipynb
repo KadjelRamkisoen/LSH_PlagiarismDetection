{
 "cells": [
  {
   "cell_type": "code",
   "execution_count": 2,
   "metadata": {},
   "outputs": [],
   "source": [
    "import pandas as pd\n",
    "import re\n",
    "import time\n",
    "import binascii\n",
    "import random\n",
    "import numpy as np\n",
    "import matplotlib.pyplot as plt"
   ]
  },
  {
   "cell_type": "code",
   "execution_count": 3,
   "metadata": {
    "pycharm": {
     "name": "#%%\n"
    }
   },
   "outputs": [],
   "source": [
    "small_dataset = 'data/news_articles_small.csv'\n",
    "df_small_dataset = pd.read_csv(small_dataset)"
   ]
  },
  {
   "cell_type": "code",
   "execution_count": 4,
   "metadata": {
    "pycharm": {
     "name": "#%%\n"
    }
   },
   "outputs": [],
   "source": [
    "\"\"\"\n",
    "    Pre-process data:\n",
    "        1. convert all to lowercase\n",
    "        2. remove punctuation\n",
    "\"\"\"\n",
    "\n",
    "#Convert to lowercase.\n",
    "df_small_dataset['article'] = df_small_dataset['article'].str.lower()\n",
    "\n",
    "#Remove punctuation\n",
    "p = re.compile(r'[^\\w\\s]+')\n",
    "df_small_dataset['article'] = [p.sub('', x) for x in df_small_dataset['article'].tolist()]"
   ]
  },
  {
   "cell_type": "code",
   "execution_count": 5,
   "metadata": {
    "pycharm": {
     "name": "#%%\n"
    }
   },
   "outputs": [],
   "source": [
    "\"\"\"\n",
    "    Split each document in a list of words\n",
    "\n",
    "    small_dataset_split = [\n",
    "        [documentID, document_text]\n",
    "    ]\n",
    "\"\"\"\n",
    "\n",
    "small_dataset_split = []\n",
    "for idx, row in df_small_dataset.iterrows():\n",
    "    small_dataset_split.append([row[0], row[1].split()])"
   ]
  },
  {
   "cell_type": "code",
   "execution_count": 6,
   "metadata": {
    "pycharm": {
     "name": "#%%\n"
    }
   },
   "outputs": [],
   "source": [
    "\"\"\"\n",
    "    createShingles\n",
    "\n",
    "    To create the shingles for the articles in the dataframe\n",
    "    @:param small_dataset_split - The dataframe with the articles\n",
    "\"\"\"\n",
    "\n",
    "def createShingles(small_dataset_split):\n",
    "#Add shingles with ngram 4\n",
    "#Source: https://github.com/chrisjmccormick/MinHash/blob/master/runMinHashExample.py\n",
    "    shingledDocs = {}\n",
    "    docIds = []\n",
    "\n",
    "    t0 = time.time()\n",
    "\n",
    "    totalShingles = 0\n",
    "    for docId, article in small_dataset_split:\n",
    "        shingles = set()\n",
    "        for i in range(0, len(article) - 3):\n",
    "            shingle = article[i]+ \" \" + article[i + 1] + \" \" + article[i + 2] + \" \" + article[i + 3]\n",
    "\n",
    "            crc =  binascii.crc32(shingle.encode()) & 0xffffffff\n",
    "            shingles.add(crc)\n",
    "\n",
    "        shingledDocs[docId]= shingles\n",
    "        docIds.append(docId)\n",
    "        totalShingles = totalShingles + (len(article) - 3)\n",
    "\n",
    "    t1 = time.time()\n",
    "    print('Time spent: ', t1-t0)\n",
    "    return shingledDocs, docIds, totalShingles"
   ]
  },
  {
   "cell_type": "code",
   "execution_count": 7,
   "metadata": {
    "pycharm": {
     "name": "#%%\n"
    }
   },
   "outputs": [],
   "source": [
    "\"\"\"\n",
    "    randomHash\n",
    "\n",
    "    To create random hash functions\n",
    "    @:param value\n",
    "    @:param rand_value\n",
    "\"\"\"\n",
    "def randomHash(value, rand_value):\n",
    "    return binascii.crc32(value.to_bytes(32, \"little\")) ^ rand_value\n",
    "\n",
    "\"\"\"\n",
    "    randomList\n",
    "\n",
    "    To create random hash functions\n",
    "    @:param value\n",
    "    @:param seed\n",
    "\"\"\"\n",
    "def randomList(n, seed=10):\n",
    "    random.seed(10)\n",
    "    l = []\n",
    "    for i in range(n):\n",
    "        r = random.getrandbits(32)\n",
    "        l.append(r)\n",
    "    return l\n"
   ]
  },
  {
   "cell_type": "code",
   "execution_count": 8,
   "metadata": {
    "pycharm": {
     "name": "#%%\n"
    }
   },
   "outputs": [
    {
     "name": "stdout",
     "output_type": "stream",
     "text": [
      "Time spent:  0.251326322555542\n"
     ]
    }
   ],
   "source": [
    "shingledDocs, docIds, totalShingles = createShingles(small_dataset_split)"
   ]
  },
  {
   "cell_type": "code",
   "execution_count": 9,
   "metadata": {
    "pycharm": {
     "name": "#%%\n"
    }
   },
   "outputs": [
    {
     "name": "stdout",
     "output_type": "stream",
     "text": [
      "Generating random hash functions...\n"
     ]
    }
   ],
   "source": [
    "print(\"Generating random hash functions...\")\n",
    "# Number of hash functions\n",
    "M = 200\n",
    "random_values = randomList(M)"
   ]
  },
  {
   "cell_type": "code",
   "execution_count": 10,
   "metadata": {
    "pycharm": {
     "name": "#%%\n"
    }
   },
   "outputs": [
    {
     "name": "stdout",
     "output_type": "stream",
     "text": [
      "Time spent:  30.15574049949646\n"
     ]
    }
   ],
   "source": [
    "\"\"\"\n",
    "    MinHashing from shingles\n",
    "\"\"\"\n",
    "signatures = []\n",
    "t0 = time.time()\n",
    "for doc in docIds:\n",
    "    signature = []\n",
    "#     print(shingledDocs[doc])\n",
    "    for hash_fun in range(M):\n",
    "        min_value = 1e11\n",
    "        random_value = random_values[hash_fun]\n",
    "        # print(\"random_value \", random_value)\n",
    "        for shingle in shingledDocs[doc]:\n",
    "            hash_value = randomHash(shingle, random_value)\n",
    "#             print(\"shingle\", shingle)\n",
    "#             print(\"h_value \", hash_value)\n",
    "            if hash_value < min_value:\n",
    "                min_value = hash_value\n",
    "        signature.append(min_value)\n",
    "        # print(min_value, \" hash number: \", hash_fun, \" sign\", signature)\n",
    "    signatures.append(signature)\n",
    "    # print(signatures)\n",
    "\n",
    "t1= time.time()\n",
    "\n",
    "print('Time spent: ', t1-t0)"
   ]
  },
  {
   "cell_type": "markdown",
   "metadata": {},
   "source": [
    "## Method 1\n"
   ]
  },
  {
   "cell_type": "code",
   "execution_count": 11,
   "metadata": {},
   "outputs": [],
   "source": [
    "def check_metrics(candidates, results):\n",
    "    sim = pd.DataFrame(list(candidates), columns=[\"doc1\", \"doc2\"])\n",
    "    sim['label'] = 1\n",
    "    merged = real_sim.merge(sim, left_on=['doc1','doc2'], right_on=['doc1','doc2'], suffixes=['_real', '_calc'], how=\"left\")\n",
    "    merged = merged.fillna(0)\n",
    "    metrics = calc_metrics(merged)\n",
    "    print(\" Accuracy: \", metrics[0], \"\\n Specificity: \", metrics[1],\n",
    "     \"\\n Sensitivity: \", metrics[2],\"\\n Precision: \", metrics[3], \n",
    "          \"\\n combined: \", (2*metrics[2] + 3*metrics[3])/5)\n",
    "    return float((2*metrics[2] + 3*metrics[3])/5)"
   ]
  },
  {
   "cell_type": "code",
   "execution_count": 17,
   "metadata": {},
   "outputs": [],
   "source": [
    "real_sim = pd.read_csv(\"LSH_PlagiarismDetection/real_sim.csv\")\n",
    "real_sim['label'] = np.where(real_sim['sim'] >= 0.8, 1, 0)\n",
    "real_sim.head()"
   ]
  },
  {
   "cell_type": "code",
   "execution_count": 36,
   "metadata": {
    "pycharm": {
     "name": "#%%\n"
    }
   },
   "outputs": [],
   "source": [
    "from numpy import long\n",
    "\n",
    "\"\"\"\n",
    "    LSH\n",
    "\"\"\"\n",
    "from itertools import combinations\n",
    "\n",
    "LARGE_PRIME = 433494437\n",
    "\n",
    "class LSH:\n",
    "    def __init__(self, b, r):\n",
    "        self.buckets = []\n",
    "        self.counter = 0\n",
    "        self.b = b\n",
    "        self.r = r\n",
    "        self.hash_tables= {}\n",
    "\n",
    "        self.create_hash_tables()\n",
    "        # print(self.hash_tables)\n",
    "        # for i in range(b):\n",
    "        #     self.buckets.append({})\n",
    "\n",
    "    def create_hash_tables(self):\n",
    "        #The hash function must be (s1, s2, p1, p2) sensitive\n",
    "        #We need to have r hash functions\n",
    "        #Per band we have a hash table\n",
    "\n",
    "        # Add hash tables\n",
    "        for i in range(self.b):\n",
    "            self.hash_tables[i] = {}\n",
    "\n",
    "    def hash(self, i, subvec):\n",
    "        acc = 0\n",
    "        for value in subvec:\n",
    "            acc += int(float(value))\n",
    "        return int((acc * LARGE_PRIME)%(i * self.b))\n",
    "\n",
    "    def add_to_hash_table(self, i, subvec):\n",
    "        if subvec not in self.hash_tables[i]:\n",
    "            self.hash_tables[i][subvec] = []\n",
    "            self.hash_tables[i][subvec].append(self.counter)\n",
    "        else:\n",
    "            self.hash_tables[i][subvec].append(self.counter)\n",
    "\n",
    "    def make_subvecs(self, signature):\n",
    "        l = len(signature)\n",
    "        assert l % self.b == 0\n",
    "        r = self.r\n",
    "        # break signature into subvectors\n",
    "        subvecs = []\n",
    "        for i in range(0, l, r):\n",
    "            subvecs.append(signature[i:i+r])\n",
    "        return np.stack(subvecs)\n",
    "\n",
    "    def add_hash(self, signature):\n",
    "        subvecs = self.make_subvecs(signature).astype(str)\n",
    "        for i, subvec in enumerate(subvecs):\n",
    "            #Hash every subvector using another hash function\n",
    "            #and add it to a different hash table that corresponds\n",
    "            #to that hash function\n",
    "            hashed_subvec = self.hash(i+1, subvec)\n",
    "            self.add_to_hash_table(i, hashed_subvec)\n",
    "        self.counter += 1\n",
    "\n",
    "    def check_candidates(self):\n",
    "        candidates = []\n",
    "        for i in self.hash_tables:\n",
    "            # print(i)\n",
    "            keys = self.hash_tables[i].keys()\n",
    "            for bucket in keys:\n",
    "                hits = self.hash_tables[i][bucket]\n",
    "                if len(hits) > 1:\n",
    "                    candidates.extend(combinations(hits, 2))\n",
    "        return set(candidates)"
   ]
  },
  {
   "cell_type": "code",
   "execution_count": 13,
   "metadata": {},
   "outputs": [
    {
     "data": {
      "text/plain": "1000"
     },
     "execution_count": 13,
     "metadata": {},
     "output_type": "execute_result"
    }
   ],
   "source": [
    "len(signatures)"
   ]
  },
  {
   "cell_type": "code",
   "execution_count": 14,
   "metadata": {},
   "outputs": [],
   "source": [
    "def parameters(tolerance, r, s2=0.8, p2=0.99):\n",
    "    s1 = round(s2 - tolerance, 2)\n",
    "    b = round(np.log(1-p2) / np.log(1-s2**r))\n",
    "    M = r * b\n",
    "    p1 = round(1 - (1 - s1 ** r) ** b, 2)\n",
    "    return (b,r), (s1,s2,p1,p2)"
   ]
  },
  {
   "cell_type": "code",
   "execution_count": 15,
   "metadata": {},
   "outputs": [
    {
     "name": "stdout",
     "output_type": "stream",
     "text": [
      "match\n",
      "match\n",
      "match\n",
      "match\n",
      "match\n",
      "match\n",
      "match\n",
      "match\n",
      "match\n",
      "match\n",
      "match\n",
      "match\n",
      "match\n",
      "match\n",
      "match\n",
      "match\n",
      "match\n",
      "match\n",
      "match\n",
      "match\n",
      "match\n"
     ]
    }
   ],
   "source": [
    "rows = np.linspace(2,10,9)\n",
    "tolerances = np.linspace(0.05,0.15,3)\n",
    "ops = []\n",
    "for i in tolerances:\n",
    "    for j in rows:\n",
    "        params, v = parameters(i, j)\n",
    "        if params[0] * params[1] <= len(signature):\n",
    "            print(\"match\")\n",
    "            ops.append([params, v])"
   ]
  },
  {
   "cell_type": "code",
   "execution_count": 16,
   "metadata": {},
   "outputs": [
    {
     "name": "stdout",
     "output_type": "stream",
     "text": [
      "5 2.0\n",
      "6 3.0\n",
      "9 4.0\n",
      "12 5.0\n",
      "15 6.0\n",
      "20 7.0\n",
      "25 8.0\n",
      "5 2.0\n",
      "6 3.0\n",
      "9 4.0\n",
      "12 5.0\n",
      "15 6.0\n",
      "20 7.0\n",
      "25 8.0\n",
      "5 2.0\n",
      "6 3.0\n",
      "9 4.0\n",
      "12 5.0\n",
      "15 6.0\n",
      "20 7.0\n",
      "25 8.0\n"
     ]
    },
    {
     "data": {
      "text/plain": "21"
     },
     "execution_count": 16,
     "metadata": {},
     "output_type": "execute_result"
    }
   ],
   "source": [
    "for op in ops:\n",
    "    print(op[0][0],op[0][1])\n",
    "\n",
    "len(ops)"
   ]
  },
  {
   "cell_type": "code",
   "execution_count": 37,
   "metadata": {
    "pycharm": {
     "name": "#%%\n"
    },
    "scrolled": true
   },
   "outputs": [
    {
     "name": "stdout",
     "output_type": "stream",
     "text": [
      "Candidate pairs for n=10 b=5 and r=2\n",
      "Number of candidate pairs are 192968\n",
      "Candidate pairs for n=18 b=6 and r=3\n",
      "Number of candidate pairs are 175835\n",
      "Candidate pairs for n=36 b=9 and r=4\n",
      "Number of candidate pairs are 138723\n",
      "Candidate pairs for n=60 b=12 and r=5\n",
      "Number of candidate pairs are 115945\n",
      "Candidate pairs for n=90 b=15 and r=6\n",
      "Number of candidate pairs are 101064\n",
      "Candidate pairs for n=140 b=20 and r=7\n",
      "Number of candidate pairs are 83139\n",
      "Candidate pairs for n=200 b=25 and r=8\n",
      "Number of candidate pairs are 71122\n",
      "Candidate pairs for n=10 b=5 and r=2\n",
      "Number of candidate pairs are 192968\n",
      "Candidate pairs for n=18 b=6 and r=3\n",
      "Number of candidate pairs are 175835\n",
      "Candidate pairs for n=36 b=9 and r=4\n",
      "Number of candidate pairs are 138723\n",
      "Candidate pairs for n=60 b=12 and r=5\n",
      "Number of candidate pairs are 115945\n",
      "Candidate pairs for n=90 b=15 and r=6\n",
      "Number of candidate pairs are 101064\n",
      "Candidate pairs for n=140 b=20 and r=7\n",
      "Number of candidate pairs are 83139\n",
      "Candidate pairs for n=200 b=25 and r=8\n",
      "Number of candidate pairs are 71122\n",
      "Candidate pairs for n=10 b=5 and r=2\n",
      "Number of candidate pairs are 192968\n",
      "Candidate pairs for n=18 b=6 and r=3\n",
      "Number of candidate pairs are 175835\n",
      "Candidate pairs for n=36 b=9 and r=4\n",
      "Number of candidate pairs are 138723\n",
      "Candidate pairs for n=60 b=12 and r=5\n",
      "Number of candidate pairs are 115945\n",
      "Candidate pairs for n=90 b=15 and r=6\n",
      "Number of candidate pairs are 101064\n",
      "Candidate pairs for n=140 b=20 and r=7\n",
      "Number of candidate pairs are 83139\n",
      "Candidate pairs for n=200 b=25 and r=8\n",
      "Number of candidate pairs are 71122\n"
     ]
    }
   ],
   "source": [
    "\n",
    "best_comb = 0\n",
    "res = []\n",
    "for op in ops:\n",
    "    b = int(op[0][0])\n",
    "    r = int(op[0][1])\n",
    "    lsh = LSH(b,r)\n",
    "    l = b * r\n",
    "    for signature in signatures:\n",
    "        lsh.add_hash(signature[:l])\n",
    "\n",
    "    candidate_pairs = lsh.check_candidates()\n",
    "    print(f\"Candidate pairs for n={l} b={b} and r={r}\")\n",
    "    print(f\"Number of candidate pairs are {len(candidate_pairs)}\")\n",
    "#     comb = check_metrics(candidate_pairs, real_sim)\n",
    "#     if comb > best_comb:\n",
    "#         best_comb = comb\n",
    "#     res.append([comb, b, r, l])\n",
    "#     print(\"=\"*100)\n",
    "# print(best_comb)"
   ]
  },
  {
   "cell_type": "code",
   "execution_count": 38,
   "metadata": {},
   "outputs": [],
   "source": [
    "# lsh.hash_tables"
   ]
  },
  {
   "cell_type": "code",
   "execution_count": 100,
   "metadata": {},
   "outputs": [
    {
     "data": {
      "image/png": "[encoded data removed]",
      "text/plain": [
       "<Figure size 432x288 with 1 Axes>"
      ]
     },
     "metadata": {
      "needs_background": "light"
     },
     "output_type": "display_data"
    }
   ],
   "source": [
    "## different b\n",
    "for sim in res:\n",
    "#     print(sim[1], sim[0])\n",
    "    plt.scatter(sim[1], sim[0])\n",
    "# plt.show()"
   ]
  },
  {
   "cell_type": "code",
   "execution_count": 101,
   "metadata": {},
   "outputs": [
    {
     "data": {
      "image/png": "[encoded data removed]",
      "text/plain": [
       "<Figure size 432x288 with 1 Axes>"
      ]
     },
     "metadata": {
      "needs_background": "light"
     },
     "output_type": "display_data"
    }
   ],
   "source": [
    "## different r\n",
    "for sim in res:\n",
    "#     print(sim[1], sim[0])\n",
    "    plt.scatter(sim[2], sim[0])\n",
    "# plt.show()"
   ]
  },
  {
   "cell_type": "code",
   "execution_count": 102,
   "metadata": {},
   "outputs": [
    {
     "data": {
      "image/png": "[encoded data removed]",
      "text/plain": [
       "<Figure size 432x288 with 1 Axes>"
      ]
     },
     "metadata": {
      "needs_background": "light"
     },
     "output_type": "display_data"
    }
   ],
   "source": [
    "## different l\n",
    "for sim in res:\n",
    "    plt.scatter(sim[3], sim[0])"
   ]
  },
  {
   "cell_type": "code",
   "execution_count": null,
   "metadata": {},
   "outputs": [],
   "source": []
  },
  {
   "cell_type": "code",
   "execution_count": 49,
   "metadata": {},
   "outputs": [
    {
     "data": {
      "text/html": [
       "<div>\n",
       "<style scoped>\n",
       "    .dataframe tbody tr th:only-of-type {\n",
       "        vertical-align: middle;\n",
       "    }\n",
       "\n",
       "    .dataframe tbody tr th {\n",
       "        vertical-align: top;\n",
       "    }\n",
       "\n",
       "    .dataframe thead th {\n",
       "        text-align: right;\n",
       "    }\n",
       "</style>\n",
       "<table border=\"1\" class=\"dataframe\">\n",
       "  <thead>\n",
       "    <tr style=\"text-align: right;\">\n",
       "      <th></th>\n",
       "      <th>Unnamed: 0</th>\n",
       "      <th>doc1</th>\n",
       "      <th>doc2</th>\n",
       "      <th>sim</th>\n",
       "      <th>label</th>\n",
       "    </tr>\n",
       "  </thead>\n",
       "  <tbody>\n",
       "    <tr>\n",
       "      <th>0</th>\n",
       "      <td>0</td>\n",
       "      <td>0</td>\n",
       "      <td>1</td>\n",
       "      <td>0.058333</td>\n",
       "      <td>0</td>\n",
       "    </tr>\n",
       "    <tr>\n",
       "      <th>1</th>\n",
       "      <td>1</td>\n",
       "      <td>0</td>\n",
       "      <td>2</td>\n",
       "      <td>0.058333</td>\n",
       "      <td>0</td>\n",
       "    </tr>\n",
       "    <tr>\n",
       "      <th>2</th>\n",
       "      <td>2</td>\n",
       "      <td>0</td>\n",
       "      <td>3</td>\n",
       "      <td>0.067669</td>\n",
       "      <td>0</td>\n",
       "    </tr>\n",
       "    <tr>\n",
       "      <th>3</th>\n",
       "      <td>3</td>\n",
       "      <td>0</td>\n",
       "      <td>4</td>\n",
       "      <td>0.054852</td>\n",
       "      <td>0</td>\n",
       "    </tr>\n",
       "    <tr>\n",
       "      <th>4</th>\n",
       "      <td>4</td>\n",
       "      <td>0</td>\n",
       "      <td>5</td>\n",
       "      <td>0.072650</td>\n",
       "      <td>0</td>\n",
       "    </tr>\n",
       "  </tbody>\n",
       "</table>\n",
       "</div>"
      ],
      "text/plain": [
       "   Unnamed: 0  doc1  doc2       sim  label\n",
       "0           0     0     1  0.058333      0\n",
       "1           1     0     2  0.058333      0\n",
       "2           2     0     3  0.067669      0\n",
       "3           3     0     4  0.054852      0\n",
       "4           4     0     5  0.072650      0"
      ]
     },
     "execution_count": 49,
     "metadata": {},
     "output_type": "execute_result"
    }
   ],
   "source": []
  },
  {
   "cell_type": "code",
   "execution_count": 80,
   "metadata": {
    "pycharm": {
     "name": "#%%\n"
    },
    "scrolled": true
   },
   "outputs": [],
   "source": []
  },
  {
   "cell_type": "markdown",
   "metadata": {
    "pycharm": {
     "name": "#%% md\n"
    }
   },
   "source": [
    "## Method 2"
   ]
  },
  {
   "cell_type": "code",
   "execution_count": null,
   "metadata": {},
   "outputs": [],
   "source": [
    "inverted_signs = []\n",
    "\n",
    "for i in range(len(signatures[0])):\n",
    "    invert = []\n",
    "    for signature in signatures:\n",
    "        invert.append(signature[0])\n",
    "    inverted_signs.append(invert)\n"
   ]
  },
  {
   "cell_type": "code",
   "execution_count": 35,
   "metadata": {
    "pycharm": {
     "name": "#%%\n"
    }
   },
   "outputs": [],
   "source": [
    "def bandedCandidatePair(col1, col2, b, r):\n",
    "    \"\"\"Returns a boolean if the two columns are a candidate pair\n",
    "    inputs must obey n=len(col1)=len(col2)=b*r\"\"\"\n",
    "    n = len(col1)\n",
    "    assert(n==b*r)\n",
    "    assert(n==len(col2))\n",
    "    truth_array = (col1==col2)\n",
    "    return any(all(band) for band in np.array_split(truth_array,b))\n",
    "\n",
    "def bandedCandidatePairs(sig_mat, b, r):\n",
    "    d = sig_mat.shape[1]\n",
    "    idxs = range(d)\n",
    "    cols = [sig_mat[:,i] for i in range(d)]\n",
    "    pairs = set()\n",
    "    for (i,col1), (j,col2) in combinations(zip(idxs,cols),2):\n",
    "        if bandedCandidatePair(col1,col2,b,r):\n",
    "            pairs.add((i,j))\n",
    "    return pairs"
   ]
  },
  {
   "cell_type": "code",
   "execution_count": 36,
   "metadata": {
    "pycharm": {
     "name": "#%%\n"
    }
   },
   "outputs": [
    {
     "name": "stdout",
     "output_type": "stream",
     "text": [
      "Candidate pairs for n=100 b=5 and r=20.0\n",
      "Number of candidate pairs are 88\n",
      "Candidate pairs for n=100 b=10 and r=10.0\n",
      "Number of candidate pairs are 88\n",
      "Candidate pairs for n=100 b=20 and r=5.0\n",
      "Number of candidate pairs are 88\n",
      "Candidate pairs for n=100 b=25 and r=4.0\n",
      "Number of candidate pairs are 88\n"
     ]
    }
   ],
   "source": [
    "bs = [5, 10, 20, 25]\n",
    "n = 100\n",
    "\n",
    "matrix = np.array(inverted_signs)\n",
    "\n",
    "for b in bs:\n",
    "    r=n/b\n",
    "    pairs = bandedCandidatePairs(matrix, b, r)\n",
    "    print(f\"Candidate pairs for n=100 b={b} and r={100/b}\")\n",
    "    print(f\"Number of candidate pairs are {len(pairs)}\")"
   ]
  },
  {
   "cell_type": "code",
   "execution_count": 37,
   "metadata": {
    "pycharm": {
     "name": "#%%\n"
    }
   },
   "outputs": [
    {
     "data": {
      "text/plain": [
       "(100, 1000)"
      ]
     },
     "execution_count": 37,
     "metadata": {},
     "output_type": "execute_result"
    }
   ],
   "source": [
    "matrix.shape\n"
   ]
  },
  {
   "cell_type": "markdown",
   "metadata": {
    "pycharm": {
     "name": "#%%\n"
    }
   },
   "source": [
    "### compare with real results"
   ]
  },
  {
   "cell_type": "code",
   "execution_count": 23,
   "metadata": {},
   "outputs": [
    {
     "data": {
      "text/html": [
       "<div>\n",
       "<style scoped>\n",
       "    .dataframe tbody tr th:only-of-type {\n",
       "        vertical-align: middle;\n",
       "    }\n",
       "\n",
       "    .dataframe tbody tr th {\n",
       "        vertical-align: top;\n",
       "    }\n",
       "\n",
       "    .dataframe thead th {\n",
       "        text-align: right;\n",
       "    }\n",
       "</style>\n",
       "<table border=\"1\" class=\"dataframe\">\n",
       "  <thead>\n",
       "    <tr style=\"text-align: right;\">\n",
       "      <th></th>\n",
       "      <th>Unnamed: 0</th>\n",
       "      <th>doc1</th>\n",
       "      <th>doc2</th>\n",
       "      <th>sim</th>\n",
       "    </tr>\n",
       "  </thead>\n",
       "  <tbody>\n",
       "    <tr>\n",
       "      <th>0</th>\n",
       "      <td>0</td>\n",
       "      <td>0</td>\n",
       "      <td>1</td>\n",
       "      <td>0.058333</td>\n",
       "    </tr>\n",
       "    <tr>\n",
       "      <th>1</th>\n",
       "      <td>1</td>\n",
       "      <td>0</td>\n",
       "      <td>2</td>\n",
       "      <td>0.058333</td>\n",
       "    </tr>\n",
       "    <tr>\n",
       "      <th>2</th>\n",
       "      <td>2</td>\n",
       "      <td>0</td>\n",
       "      <td>3</td>\n",
       "      <td>0.067669</td>\n",
       "    </tr>\n",
       "    <tr>\n",
       "      <th>3</th>\n",
       "      <td>3</td>\n",
       "      <td>0</td>\n",
       "      <td>4</td>\n",
       "      <td>0.054852</td>\n",
       "    </tr>\n",
       "    <tr>\n",
       "      <th>4</th>\n",
       "      <td>4</td>\n",
       "      <td>0</td>\n",
       "      <td>5</td>\n",
       "      <td>0.072650</td>\n",
       "    </tr>\n",
       "  </tbody>\n",
       "</table>\n",
       "</div>"
      ],
      "text/plain": [
       "   Unnamed: 0  doc1  doc2       sim\n",
       "0           0     0     1  0.058333\n",
       "1           1     0     2  0.058333\n",
       "2           2     0     3  0.067669\n",
       "3           3     0     4  0.054852\n",
       "4           4     0     5  0.072650"
      ]
     },
     "execution_count": 23,
     "metadata": {},
     "output_type": "execute_result"
    }
   ],
   "source": []
  },
  {
   "cell_type": "code",
   "execution_count": 44,
   "metadata": {},
   "outputs": [
    {
     "name": "stdout",
     "output_type": "stream",
     "text": [
      "Confusion Matrix : \n",
      " [[499434     41]\n",
      " [     2     23]]\n",
      "Accuracy:  0.9999139139139139 \n",
      " Specificity:  0.9999179138095 \n",
      " Sensitivity:  0.92 \n",
      " Precision:  0.359375\n"
     ]
    }
   ],
   "source": [
    "#Confusion matrix, Accuracy, sensitivity and specificity\n",
    "from sklearn.metrics import confusion_matrix\n"
   ]
  },
  {
   "cell_type": "code",
   "execution_count": 42,
   "metadata": {},
   "outputs": [],
   "source": [
    "def calc_metrics(df):\n",
    "\n",
    "    cm = confusion_matrix(df[['label_real']],df[['label_calc']])\n",
    "    print('Confusion Matrix : \\n', cm)\n",
    "\n",
    "    total=sum(sum(cm))\n",
    "    #####from confusion matrix calculate accuracy\n",
    "    accuracy=(cm[0,0]+cm[1,1])/total\n",
    "    specificity = cm[0,0]/(cm[0,0]+cm[0,1])\n",
    "    sensitivity = cm[1,1]/(cm[1,0]+cm[1,1])\n",
    "    precision = cm[1,1]/(cm[0,1]+cm[1,1])\n",
    "    \n",
    "    return accuracy, specificity, sensitivity, precision"
   ]
  },
  {
   "cell_type": "code",
   "execution_count": 4,
   "metadata": {
    "pycharm": {
     "name": "#%%\n"
    }
   },
   "outputs": [
    {
     "name": "stdout",
     "output_type": "stream",
     "text": [
      "0.1\n"
     ]
    }
   ],
   "source": [
    "r = 2\n",
    "b = 100\n",
    "\n",
    "S = float((1/b)**(1/r))\n",
    "\n",
    "print(S)\n"
   ]
  }
 ],
 "metadata": {
  "kernelspec": {
   "name": "pycharm-4c4f150c",
   "language": "python",
   "display_name": "PyCharm (LSH_PlagiarismDetection)"
  },
  "language_info": {
   "codemirror_mode": {
    "name": "ipython",
    "version": 3
   },
   "file_extension": ".py",
   "mimetype": "text/x-python",
   "name": "python",
   "nbconvert_exporter": "python",
   "pygments_lexer": "ipython3",
   "version": "3.7.1"
  }
 },
 "nbformat": 4,
 "nbformat_minor": 1
}
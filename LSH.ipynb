{
 "cells": [
  {
   "cell_type": "code",
   "execution_count": 2,
   "metadata": {},
   "outputs": [],
   "source": [
    "import pandas as pd\n",
    "import re\n",
    "import time\n",
    "import binascii\n",
    "import random\n",
    "import numpy as np\n",
    "import matplotlib.pyplot as plt"
   ]
  },
  {
   "cell_type": "code",
   "execution_count": 3,
   "metadata": {
    "pycharm": {
     "name": "#%%\n"
    }
   },
   "outputs": [],
   "source": [
    "small_dataset = 'data/news_articles_small.csv'\n",
    "df_small_dataset = pd.read_csv(small_dataset)"
   ]
  },
  {
   "cell_type": "code",
   "execution_count": 4,
   "metadata": {
    "pycharm": {
     "name": "#%%\n"
    }
   },
   "outputs": [],
   "source": [
    "\"\"\"\n",
    "    Pre-process data:\n",
    "        1. convert all to lowercase\n",
    "        2. remove punctuation\n",
    "\"\"\"\n",
    "\n",
    "#Convert to lowercase.\n",
    "df_small_dataset['article'] = df_small_dataset['article'].str.lower()\n",
    "\n",
    "#Remove punctuation\n",
    "p = re.compile(r'[^\\w\\s]+')\n",
    "df_small_dataset['article'] = [p.sub('', x) for x in df_small_dataset['article'].tolist()]"
   ]
  },
  {
   "cell_type": "code",
   "execution_count": 5,
   "metadata": {
    "pycharm": {
     "name": "#%%\n"
    }
   },
   "outputs": [],
   "source": [
    "\"\"\"\n",
    "    Split each document in a list of words\n",
    "\n",
    "    small_dataset_split = [\n",
    "        [documentID, document_text]\n",
    "    ]\n",
    "\"\"\"\n",
    "\n",
    "small_dataset_split = []\n",
    "for idx, row in df_small_dataset.iterrows():\n",
    "    small_dataset_split.append([row[0], row[1].split()])"
   ]
  },
  {
   "cell_type": "code",
   "execution_count": 6,
   "metadata": {
    "pycharm": {
     "name": "#%%\n"
    }
   },
   "outputs": [],
   "source": [
    "\"\"\"\n",
    "    createShingles\n",
    "\n",
    "    To create the shingles for the articles in the dataframe\n",
    "    @:param small_dataset_split - The dataframe with the articles\n",
    "\"\"\"\n",
    "\n",
    "def createShingles(small_dataset_split):\n",
    "#Add shingles with ngram 4\n",
    "#Source: https://github.com/chrisjmccormick/MinHash/blob/master/runMinHashExample.py\n",
    "    shingledDocs = {}\n",
    "    docIds = []\n",
    "\n",
    "    t0 = time.time()\n",
    "\n",
    "    totalShingles = 0\n",
    "    for docId, article in small_dataset_split:\n",
    "        shingles = set()\n",
    "        for i in range(0, len(article) - 3):\n",
    "            shingle = article[i]+ \" \" + article[i + 1] + \" \" + article[i + 2] + \" \" + article[i + 3]\n",
    "\n",
    "            crc =  binascii.crc32(shingle.encode()) & 0xffffffff\n",
    "            shingles.add(crc)\n",
    "\n",
    "        shingledDocs[docId]= shingles\n",
    "        docIds.append(docId)\n",
    "        totalShingles = totalShingles + (len(article) - 3)\n",
    "\n",
    "    t1 = time.time()\n",
    "    print('Time spent: ', t1-t0)\n",
    "    return shingledDocs, docIds, totalShingles"
   ]
  },
  {
   "cell_type": "code",
   "execution_count": 7,
   "metadata": {
    "pycharm": {
     "name": "#%%\n"
    }
   },
   "outputs": [],
   "source": [
    "\"\"\"\n",
    "    randomHash\n",
    "\n",
    "    To create random hash functions\n",
    "    @:param value\n",
    "    @:param rand_value\n",
    "\"\"\"\n",
    "def randomHash(value, rand_value):\n",
    "    return binascii.crc32(value.to_bytes(32, \"little\")) ^ rand_value\n",
    "\n",
    "\"\"\"\n",
    "    randomList\n",
    "\n",
    "    To create random hash functions\n",
    "    @:param value\n",
    "    @:param seed\n",
    "\"\"\"\n",
    "def randomList(n, seed=10):\n",
    "    random.seed(10)\n",
    "    l = []\n",
    "    for i in range(n):\n",
    "        r = random.getrandbits(32)\n",
    "        l.append(r)\n",
    "    return l\n"
   ]
  },
  {
   "cell_type": "code",
   "execution_count": 8,
   "metadata": {
    "pycharm": {
     "name": "#%%\n"
    }
   },
   "outputs": [
    {
     "name": "stdout",
     "output_type": "stream",
     "text": [
      "Time spent:  0.251326322555542\n"
     ]
    }
   ],
   "source": [
    "shingledDocs, docIds, totalShingles = createShingles(small_dataset_split)"
   ]
  },
  {
   "cell_type": "code",
   "execution_count": 9,
   "metadata": {
    "pycharm": {
     "name": "#%%\n"
    }
   },
   "outputs": [
    {
     "name": "stdout",
     "output_type": "stream",
     "text": [
      "Generating random hash functions...\n"
     ]
    }
   ],
   "source": [
    "print(\"Generating random hash functions...\")\n",
    "# Number of hash functions\n",
    "M = 200\n",
    "random_values = randomList(M)"
   ]
  },
  {
   "cell_type": "code",
   "execution_count": 10,
   "metadata": {
    "pycharm": {
     "name": "#%%\n"
    }
   },
   "outputs": [
    {
     "name": "stdout",
     "output_type": "stream",
     "text": [
      "Time spent:  30.15574049949646\n"
     ]
    }
   ],
   "source": [
    "\"\"\"\n",
    "    MinHashing from shingles\n",
    "\"\"\"\n",
    "signatures = []\n",
    "t0 = time.time()\n",
    "for doc in docIds:\n",
    "    signature = []\n",
    "#     print(shingledDocs[doc])\n",
    "    for hash_fun in range(M):\n",
    "        min_value = 1e11\n",
    "        random_value = random_values[hash_fun]\n",
    "        # print(\"random_value \", random_value)\n",
    "        for shingle in shingledDocs[doc]:\n",
    "            hash_value = randomHash(shingle, random_value)\n",
    "#             print(\"shingle\", shingle)\n",
    "#             print(\"h_value \", hash_value)\n",
    "            if hash_value < min_value:\n",
    "                min_value = hash_value\n",
    "        signature.append(min_value)\n",
    "        # print(min_value, \" hash number: \", hash_fun, \" sign\", signature)\n",
    "    signatures.append(signature)\n",
    "    # print(signatures)\n",
    "\n",
    "t1= time.time()\n",
    "\n",
    "print('Time spent: ', t1-t0)"
   ]
  },
  {
   "cell_type": "markdown",
   "metadata": {},
   "source": [
    "## Method 1\n"
   ]
  },
  {
   "cell_type": "code",
   "execution_count": 11,
   "metadata": {},
   "outputs": [],
   "source": [
    "def check_metrics(candidates, results):\n",
    "    sim = pd.DataFrame(list(candidates), columns=[\"doc1\", \"doc2\"])\n",
    "    sim['label'] = 1\n",
    "    merged = real_sim.merge(sim, left_on=['doc1','doc2'], right_on=['doc1','doc2'], suffixes=['_real', '_calc'], how=\"left\")\n",
    "    merged = merged.fillna(0)\n",
    "    metrics = calc_metrics(merged)\n",
    "    print(\" Accuracy: \", metrics[0], \"\\n Specificity: \", metrics[1],\n",
    "     \"\\n Sensitivity: \", metrics[2],\"\\n Precision: \", metrics[3], \n",
    "          \"\\n combined: \", (2*metrics[2] + 3*metrics[3])/5)\n",
    "    return float((2*metrics[2] + 3*metrics[3])/5)"
   ]
  },
  {
   "cell_type": "code",
   "execution_count": 17,
   "metadata": {},
   "outputs": [],
   "source": [
    "real_sim = pd.read_csv(\"LSH_PlagiarismDetection/real_sim.csv\")\n",
    "real_sim['label'] = np.where(real_sim['sim'] >= 0.8, 1, 0)\n",
    "real_sim.head()"
   ]
  },
  {
   "cell_type": "code",
   "execution_count": 36,
   "metadata": {
    "pycharm": {
     "name": "#%%\n"
    }
   },
   "outputs": [],
   "source": [
    "from numpy import long\n",
    "\n",
    "\"\"\"\n",
    "    LSH\n",
    "\"\"\"\n",
    "from itertools import combinations\n",
    "\n",
    "LARGE_PRIME = 433494437\n",
    "\n",
    "class LSH:\n",
    "    def __init__(self, b, r):\n",
    "        self.buckets = []\n",
    "        self.counter = 0\n",
    "        self.b = b\n",
    "        self.r = r\n",
    "        self.hash_tables= {}\n",
    "\n",
    "        self.create_hash_tables()\n",
    "        # print(self.hash_tables)\n",
    "        # for i in range(b):\n",
    "        #     self.buckets.append({})\n",
    "\n",
    "    def create_hash_tables(self):\n",
    "        #The hash function must be (s1, s2, p1, p2) sensitive\n",
    "        #We need to have r hash functions\n",
    "        #Per band we have a hash table\n",
    "\n",
    "        # Add hash tables\n",
    "        for i in range(self.b):\n",
    "            self.hash_tables[i] = {}\n",
    "\n",
    "    def hash(self, i, subvec):\n",
    "        acc = 0\n",
    "        for value in subvec:\n",
    "            acc += int(float(value))\n",
    "        return int((acc * LARGE_PRIME)%(i * self.b))\n",
    "\n",
    "    def add_to_hash_table(self, i, subvec):\n",
    "        if subvec not in self.hash_tables[i]:\n",
    "            self.hash_tables[i][subvec] = []\n",
    "            self.hash_tables[i][subvec].append(self.counter)\n",
    "        else:\n",
    "            self.hash_tables[i][subvec].append(self.counter)\n",
    "\n",
    "    def make_subvecs(self, signature):\n",
    "        l = len(signature)\n",
    "        assert l % self.b == 0\n",
    "        r = self.r\n",
    "        # break signature into subvectors\n",
    "        subvecs = []\n",
    "        for i in range(0, l, r):\n",
    "            subvecs.append(signature[i:i+r])\n",
    "        return np.stack(subvecs)\n",
    "\n",
    "    def add_hash(self, signature):\n",
    "        subvecs = self.make_subvecs(signature).astype(str)\n",
    "        for i, subvec in enumerate(subvecs):\n",
    "            #Hash every subvector using another hash function\n",
    "            #and add it to a different hash table that corresponds\n",
    "            #to that hash function\n",
    "            hashed_subvec = self.hash(i+1, subvec)\n",
    "            self.add_to_hash_table(i, hashed_subvec)\n",
    "        self.counter += 1\n",
    "\n",
    "    def check_candidates(self):\n",
    "        candidates = []\n",
    "        for i in self.hash_tables:\n",
    "            # print(i)\n",
    "            keys = self.hash_tables[i].keys()\n",
    "            for bucket in keys:\n",
    "                hits = self.hash_tables[i][bucket]\n",
    "                if len(hits) > 1:\n",
    "                    candidates.extend(combinations(hits, 2))\n",
    "        return set(candidates)"
   ]
  },
  {
   "cell_type": "code",
   "execution_count": 13,
   "metadata": {},
   "outputs": [
    {
     "data": {
      "text/plain": "1000"
     },
     "execution_count": 13,
     "metadata": {},
     "output_type": "execute_result"
    }
   ],
   "source": [
    "len(signatures)"
   ]
  },
  {
   "cell_type": "code",
   "execution_count": 14,
   "metadata": {},
   "outputs": [],
   "source": [
    "def parameters(tolerance, r, s2=0.8, p2=0.99):\n",
    "    s1 = round(s2 - tolerance, 2)\n",
    "    b = round(np.log(1-p2) / np.log(1-s2**r))\n",
    "    M = r * b\n",
    "    p1 = round(1 - (1 - s1 ** r) ** b, 2)\n",
    "    return (b,r), (s1,s2,p1,p2)"
   ]
  },
  {
   "cell_type": "code",
   "execution_count": 15,
   "metadata": {},
   "outputs": [
    {
     "name": "stdout",
     "output_type": "stream",
     "text": [
      "match\n",
      "match\n",
      "match\n",
      "match\n",
      "match\n",
      "match\n",
      "match\n",
      "match\n",
      "match\n",
      "match\n",
      "match\n",
      "match\n",
      "match\n",
      "match\n",
      "match\n",
      "match\n",
      "match\n",
      "match\n",
      "match\n",
      "match\n",
      "match\n"
     ]
    }
   ],
   "source": [
    "rows = np.linspace(2,10,9)\n",
    "tolerances = np.linspace(0.05,0.15,3)\n",
    "ops = []\n",
    "for i in tolerances:\n",
    "    for j in rows:\n",
    "        params, v = parameters(i, j)\n",
    "        if params[0] * params[1] <= len(signature):\n",
    "            print(\"match\")\n",
    "            ops.append([params, v])"
   ]
  },
  {
   "cell_type": "code",
   "execution_count": 16,
   "metadata": {},
   "outputs": [
    {
     "name": "stdout",
     "output_type": "stream",
     "text": [
      "5 2.0\n",
      "6 3.0\n",
      "9 4.0\n",
      "12 5.0\n",
      "15 6.0\n",
      "20 7.0\n",
      "25 8.0\n",
      "5 2.0\n",
      "6 3.0\n",
      "9 4.0\n",
      "12 5.0\n",
      "15 6.0\n",
      "20 7.0\n",
      "25 8.0\n",
      "5 2.0\n",
      "6 3.0\n",
      "9 4.0\n",
      "12 5.0\n",
      "15 6.0\n",
      "20 7.0\n",
      "25 8.0\n"
     ]
    },
    {
     "data": {
      "text/plain": "21"
     },
     "execution_count": 16,
     "metadata": {},
     "output_type": "execute_result"
    }
   ],
   "source": [
    "for op in ops:\n",
    "    print(op[0][0],op[0][1])\n",
    "\n",
    "len(ops)"
   ]
  },
  {
   "cell_type": "code",
   "execution_count": 37,
   "metadata": {
    "pycharm": {
     "name": "#%%\n"
    },
    "scrolled": true
   },
   "outputs": [
    {
     "name": "stdout",
     "output_type": "stream",
     "text": [
      "Candidate pairs for n=10 b=5 and r=2\n",
      "Number of candidate pairs are 192968\n",
      "Candidate pairs for n=18 b=6 and r=3\n",
      "Number of candidate pairs are 175835\n",
      "Candidate pairs for n=36 b=9 and r=4\n",
      "Number of candidate pairs are 138723\n",
      "Candidate pairs for n=60 b=12 and r=5\n",
      "Number of candidate pairs are 115945\n",
      "Candidate pairs for n=90 b=15 and r=6\n",
      "Number of candidate pairs are 101064\n",
      "Candidate pairs for n=140 b=20 and r=7\n",
      "Number of candidate pairs are 83139\n",
      "Candidate pairs for n=200 b=25 and r=8\n",
      "Number of candidate pairs are 71122\n",
      "Candidate pairs for n=10 b=5 and r=2\n",
      "Number of candidate pairs are 192968\n",
      "Candidate pairs for n=18 b=6 and r=3\n",
      "Number of candidate pairs are 175835\n",
      "Candidate pairs for n=36 b=9 and r=4\n",
      "Number of candidate pairs are 138723\n",
      "Candidate pairs for n=60 b=12 and r=5\n",
      "Number of candidate pairs are 115945\n",
      "Candidate pairs for n=90 b=15 and r=6\n",
      "Number of candidate pairs are 101064\n",
      "Candidate pairs for n=140 b=20 and r=7\n",
      "Number of candidate pairs are 83139\n",
      "Candidate pairs for n=200 b=25 and r=8\n",
      "Number of candidate pairs are 71122\n",
      "Candidate pairs for n=10 b=5 and r=2\n",
      "Number of candidate pairs are 192968\n",
      "Candidate pairs for n=18 b=6 and r=3\n",
      "Number of candidate pairs are 175835\n",
      "Candidate pairs for n=36 b=9 and r=4\n",
      "Number of candidate pairs are 138723\n",
      "Candidate pairs for n=60 b=12 and r=5\n",
      "Number of candidate pairs are 115945\n",
      "Candidate pairs for n=90 b=15 and r=6\n",
      "Number of candidate pairs are 101064\n",
      "Candidate pairs for n=140 b=20 and r=7\n",
      "Number of candidate pairs are 83139\n",
      "Candidate pairs for n=200 b=25 and r=8\n",
      "Number of candidate pairs are 71122\n"
     ]
    }
   ],
   "source": [
    "\n",
    "best_comb = 0\n",
    "res = []\n",
    "for op in ops:\n",
    "    b = int(op[0][0])\n",
    "    r = int(op[0][1])\n",
    "    lsh = LSH(b,r)\n",
    "    l = b * r\n",
    "    for signature in signatures:\n",
    "        lsh.add_hash(signature[:l])\n",
    "\n",
    "    candidate_pairs = lsh.check_candidates()\n",
    "    print(f\"Candidate pairs for n={l} b={b} and r={r}\")\n",
    "    print(f\"Number of candidate pairs are {len(candidate_pairs)}\")\n",
    "#     comb = check_metrics(candidate_pairs, real_sim)\n",
    "#     if comb > best_comb:\n",
    "#         best_comb = comb\n",
    "#     res.append([comb, b, r, l])\n",
    "#     print(\"=\"*100)\n",
    "# print(best_comb)"
   ]
  },
  {
   "cell_type": "code",
   "execution_count": 27,
   "metadata": {},
   "outputs": [
    {
     "data": {
      "text/plain": "{0: {1: [0,\n   5,\n   13,\n   15,\n   16,\n   19,\n   25,\n   26,\n   28,\n   29,\n   33,\n   34,\n   45,\n   46,\n   51,\n   58,\n   65,\n   68,\n   71,\n   73,\n   76,\n   88,\n   91,\n   100,\n   102,\n   107,\n   109,\n   111,\n   115,\n   117,\n   120,\n   128,\n   132,\n   136,\n   141,\n   150,\n   155,\n   161,\n   173,\n   180,\n   181,\n   184,\n   189,\n   190,\n   192,\n   197,\n   200,\n   204,\n   211,\n   235,\n   237,\n   245,\n   264,\n   268,\n   269,\n   272,\n   275,\n   277,\n   286,\n   287,\n   288,\n   290,\n   294,\n   301,\n   304,\n   310,\n   319,\n   332,\n   334,\n   336,\n   340,\n   341,\n   343,\n   347,\n   351,\n   363,\n   376,\n   377,\n   379,\n   381,\n   385,\n   386,\n   387,\n   391,\n   394,\n   399,\n   402,\n   408,\n   416,\n   421,\n   422,\n   427,\n   439,\n   441,\n   442,\n   445,\n   447,\n   466,\n   470,\n   476,\n   487,\n   496,\n   506,\n   507,\n   508,\n   516,\n   517,\n   518,\n   519,\n   526,\n   532,\n   545,\n   546,\n   549,\n   562,\n   570,\n   572,\n   573,\n   579,\n   580,\n   584,\n   594,\n   595,\n   599,\n   602,\n   611,\n   615,\n   620,\n   625,\n   628,\n   630,\n   632,\n   635,\n   640,\n   642,\n   647,\n   662,\n   668,\n   670,\n   675,\n   693,\n   700,\n   701,\n   704,\n   705,\n   721,\n   725,\n   729,\n   735,\n   747,\n   753,\n   756,\n   782,\n   797,\n   806,\n   817,\n   822,\n   824,\n   833,\n   836,\n   840,\n   845,\n   852,\n   853,\n   862,\n   870,\n   872,\n   880,\n   883,\n   892,\n   895,\n   900,\n   906,\n   910,\n   912,\n   913,\n   915,\n   917,\n   927,\n   928,\n   932,\n   934,\n   937,\n   938,\n   944,\n   950,\n   955,\n   956,\n   962,\n   963,\n   965,\n   967,\n   973,\n   976,\n   978,\n   983,\n   988,\n   991,\n   998],\n  4: [1,\n   2,\n   4,\n   14,\n   17,\n   18,\n   27,\n   30,\n   36,\n   55,\n   61,\n   62,\n   69,\n   75,\n   78,\n   81,\n   82,\n   89,\n   95,\n   96,\n   99,\n   105,\n   112,\n   113,\n   116,\n   118,\n   121,\n   122,\n   129,\n   140,\n   148,\n   153,\n   156,\n   160,\n   162,\n   168,\n   172,\n   185,\n   186,\n   194,\n   196,\n   199,\n   201,\n   202,\n   203,\n   205,\n   208,\n   214,\n   225,\n   226,\n   230,\n   231,\n   236,\n   244,\n   246,\n   248,\n   252,\n   257,\n   278,\n   279,\n   292,\n   300,\n   307,\n   314,\n   324,\n   335,\n   337,\n   339,\n   353,\n   356,\n   360,\n   368,\n   396,\n   417,\n   420,\n   429,\n   435,\n   443,\n   448,\n   450,\n   458,\n   459,\n   460,\n   463,\n   472,\n   480,\n   483,\n   489,\n   492,\n   512,\n   520,\n   523,\n   538,\n   554,\n   585,\n   590,\n   604,\n   606,\n   612,\n   622,\n   627,\n   629,\n   631,\n   637,\n   638,\n   641,\n   650,\n   655,\n   663,\n   664,\n   673,\n   674,\n   676,\n   678,\n   679,\n   681,\n   682,\n   687,\n   692,\n   695,\n   696,\n   698,\n   699,\n   707,\n   712,\n   713,\n   715,\n   718,\n   719,\n   723,\n   727,\n   730,\n   731,\n   733,\n   734,\n   742,\n   745,\n   765,\n   767,\n   769,\n   774,\n   781,\n   786,\n   788,\n   789,\n   790,\n   793,\n   794,\n   801,\n   804,\n   807,\n   814,\n   816,\n   818,\n   835,\n   837,\n   842,\n   846,\n   856,\n   858,\n   866,\n   867,\n   874,\n   884,\n   890,\n   891,\n   897,\n   902,\n   908,\n   918,\n   921,\n   923,\n   924,\n   935,\n   936,\n   942,\n   943,\n   945,\n   947,\n   951,\n   957,\n   958,\n   960,\n   964,\n   970,\n   980,\n   981,\n   986,\n   987,\n   990,\n   995,\n   999],\n  0: [3,\n   9,\n   10,\n   11,\n   22,\n   31,\n   32,\n   41,\n   43,\n   47,\n   54,\n   57,\n   60,\n   67,\n   70,\n   77,\n   80,\n   86,\n   93,\n   97,\n   101,\n   126,\n   133,\n   134,\n   135,\n   137,\n   138,\n   145,\n   147,\n   152,\n   158,\n   159,\n   163,\n   165,\n   166,\n   169,\n   174,\n   183,\n   187,\n   209,\n   212,\n   218,\n   220,\n   232,\n   233,\n   238,\n   249,\n   253,\n   254,\n   258,\n   259,\n   265,\n   270,\n   281,\n   283,\n   284,\n   285,\n   296,\n   306,\n   312,\n   316,\n   318,\n   320,\n   323,\n   325,\n   328,\n   330,\n   333,\n   348,\n   354,\n   355,\n   359,\n   361,\n   366,\n   372,\n   373,\n   374,\n   378,\n   380,\n   383,\n   384,\n   393,\n   398,\n   400,\n   403,\n   404,\n   405,\n   406,\n   411,\n   412,\n   414,\n   430,\n   431,\n   432,\n   436,\n   440,\n   444,\n   446,\n   451,\n   453,\n   455,\n   468,\n   474,\n   475,\n   477,\n   488,\n   494,\n   505,\n   509,\n   510,\n   513,\n   514,\n   533,\n   540,\n   541,\n   542,\n   543,\n   547,\n   548,\n   550,\n   551,\n   552,\n   555,\n   556,\n   560,\n   565,\n   566,\n   574,\n   577,\n   582,\n   586,\n   588,\n   598,\n   600,\n   607,\n   609,\n   610,\n   621,\n   624,\n   626,\n   633,\n   636,\n   643,\n   645,\n   652,\n   656,\n   657,\n   665,\n   666,\n   667,\n   686,\n   689,\n   691,\n   702,\n   706,\n   714,\n   717,\n   720,\n   732,\n   738,\n   739,\n   740,\n   746,\n   750,\n   752,\n   755,\n   757,\n   761,\n   763,\n   766,\n   771,\n   778,\n   795,\n   811,\n   813,\n   819,\n   827,\n   828,\n   839,\n   844,\n   847,\n   849,\n   851,\n   854,\n   857,\n   859,\n   860,\n   861,\n   865,\n   868,\n   869,\n   875,\n   878,\n   882,\n   886,\n   889,\n   899,\n   904,\n   909,\n   919,\n   922,\n   925,\n   931,\n   939,\n   949,\n   953,\n   971,\n   974,\n   977,\n   979,\n   992,\n   993],\n  2: [6,\n   7,\n   23,\n   24,\n   37,\n   38,\n   42,\n   48,\n   49,\n   50,\n   52,\n   56,\n   59,\n   63,\n   64,\n   66,\n   72,\n   74,\n   79,\n   83,\n   85,\n   87,\n   90,\n   104,\n   127,\n   130,\n   131,\n   142,\n   143,\n   164,\n   171,\n   175,\n   176,\n   195,\n   210,\n   213,\n   216,\n   219,\n   223,\n   234,\n   240,\n   247,\n   250,\n   251,\n   261,\n   266,\n   271,\n   274,\n   276,\n   280,\n   289,\n   293,\n   297,\n   298,\n   303,\n   305,\n   308,\n   313,\n   327,\n   329,\n   338,\n   342,\n   344,\n   345,\n   346,\n   349,\n   350,\n   357,\n   358,\n   364,\n   369,\n   370,\n   382,\n   388,\n   389,\n   395,\n   424,\n   428,\n   434,\n   437,\n   438,\n   449,\n   452,\n   454,\n   456,\n   457,\n   461,\n   462,\n   464,\n   465,\n   467,\n   471,\n   481,\n   484,\n   485,\n   491,\n   493,\n   499,\n   511,\n   515,\n   521,\n   522,\n   524,\n   527,\n   529,\n   530,\n   531,\n   534,\n   535,\n   536,\n   539,\n   544,\n   557,\n   561,\n   563,\n   564,\n   567,\n   571,\n   587,\n   589,\n   591,\n   596,\n   597,\n   601,\n   603,\n   605,\n   608,\n   614,\n   616,\n   619,\n   623,\n   639,\n   644,\n   648,\n   649,\n   659,\n   660,\n   669,\n   671,\n   680,\n   683,\n   684,\n   685,\n   690,\n   697,\n   708,\n   711,\n   722,\n   724,\n   728,\n   736,\n   737,\n   741,\n   743,\n   751,\n   759,\n   764,\n   768,\n   770,\n   773,\n   775,\n   776,\n   780,\n   784,\n   798,\n   799,\n   802,\n   803,\n   809,\n   810,\n   820,\n   825,\n   826,\n   830,\n   831,\n   841,\n   843,\n   848,\n   864,\n   876,\n   887,\n   898,\n   914,\n   916,\n   926,\n   929,\n   930,\n   940,\n   941,\n   946,\n   948,\n   954,\n   959,\n   961,\n   968,\n   969,\n   972,\n   975,\n   984,\n   994,\n   996],\n  3: [8,\n   12,\n   20,\n   21,\n   35,\n   39,\n   40,\n   44,\n   53,\n   84,\n   92,\n   94,\n   98,\n   103,\n   106,\n   108,\n   110,\n   114,\n   119,\n   123,\n   124,\n   125,\n   139,\n   144,\n   146,\n   149,\n   151,\n   154,\n   157,\n   167,\n   170,\n   177,\n   178,\n   179,\n   182,\n   188,\n   191,\n   193,\n   198,\n   206,\n   207,\n   215,\n   217,\n   221,\n   222,\n   224,\n   227,\n   228,\n   229,\n   239,\n   241,\n   242,\n   243,\n   255,\n   256,\n   260,\n   262,\n   263,\n   267,\n   273,\n   282,\n   291,\n   295,\n   299,\n   302,\n   309,\n   311,\n   315,\n   317,\n   321,\n   322,\n   326,\n   331,\n   352,\n   362,\n   365,\n   367,\n   371,\n   375,\n   390,\n   392,\n   397,\n   401,\n   407,\n   409,\n   410,\n   413,\n   415,\n   418,\n   419,\n   423,\n   425,\n   426,\n   433,\n   469,\n   473,\n   478,\n   479,\n   482,\n   486,\n   490,\n   495,\n   497,\n   498,\n   500,\n   501,\n   502,\n   503,\n   504,\n   525,\n   528,\n   537,\n   553,\n   558,\n   559,\n   568,\n   569,\n   575,\n   576,\n   578,\n   581,\n   583,\n   592,\n   593,\n   613,\n   617,\n   618,\n   634,\n   646,\n   651,\n   653,\n   654,\n   658,\n   661,\n   672,\n   677,\n   688,\n   694,\n   703,\n   709,\n   710,\n   716,\n   726,\n   744,\n   748,\n   749,\n   754,\n   758,\n   760,\n   762,\n   772,\n   777,\n   779,\n   783,\n   785,\n   787,\n   791,\n   792,\n   796,\n   800,\n   805,\n   808,\n   812,\n   815,\n   821,\n   823,\n   829,\n   832,\n   834,\n   838,\n   850,\n   855,\n   863,\n   871,\n   873,\n   877,\n   879,\n   881,\n   885,\n   888,\n   893,\n   894,\n   896,\n   901,\n   903,\n   905,\n   907,\n   911,\n   920,\n   933,\n   952,\n   966,\n   982,\n   985,\n   989,\n   997]},\n 1: {3: [0,\n   16,\n   18,\n   24,\n   35,\n   40,\n   81,\n   83,\n   93,\n   113,\n   114,\n   139,\n   144,\n   160,\n   170,\n   174,\n   179,\n   180,\n   181,\n   184,\n   191,\n   194,\n   197,\n   200,\n   221,\n   222,\n   239,\n   244,\n   249,\n   253,\n   261,\n   271,\n   274,\n   283,\n   291,\n   308,\n   328,\n   350,\n   362,\n   376,\n   384,\n   388,\n   393,\n   400,\n   406,\n   422,\n   441,\n   459,\n   471,\n   473,\n   500,\n   513,\n   516,\n   519,\n   524,\n   536,\n   543,\n   547,\n   563,\n   570,\n   571,\n   574,\n   620,\n   630,\n   637,\n   645,\n   649,\n   654,\n   672,\n   680,\n   697,\n   702,\n   712,\n   721,\n   743,\n   745,\n   748,\n   753,\n   757,\n   759,\n   795,\n   806,\n   810,\n   826,\n   827,\n   834,\n   835,\n   851,\n   854,\n   867,\n   868,\n   893,\n   911,\n   919,\n   928,\n   935,\n   942,\n   944,\n   956,\n   957,\n   958,\n   963,\n   967,\n   975,\n   979],\n  0: [1,\n   6,\n   10,\n   12,\n   29,\n   44,\n   46,\n   50,\n   56,\n   59,\n   69,\n   74,\n   77,\n   82,\n   84,\n   97,\n   111,\n   118,\n   121,\n   124,\n   129,\n   132,\n   140,\n   167,\n   189,\n   204,\n   233,\n   248,\n   250,\n   252,\n   269,\n   295,\n   324,\n   331,\n   341,\n   356,\n   365,\n   369,\n   392,\n   399,\n   404,\n   412,\n   427,\n   433,\n   439,\n   457,\n   483,\n   486,\n   495,\n   497,\n   517,\n   521,\n   530,\n   552,\n   561,\n   607,\n   614,\n   615,\n   619,\n   623,\n   631,\n   633,\n   646,\n   650,\n   651,\n   662,\n   670,\n   679,\n   682,\n   685,\n   691,\n   705,\n   714,\n   727,\n   733,\n   749,\n   752,\n   763,\n   764,\n   775,\n   779,\n   780,\n   782,\n   791,\n   793,\n   809,\n   823,\n   824,\n   833,\n   840,\n   844,\n   864,\n   869,\n   874,\n   892,\n   894,\n   902,\n   906,\n   921,\n   930,\n   934,\n   940,\n   955,\n   982,\n   996],\n  5: [2,\n   13,\n   21,\n   47,\n   52,\n   75,\n   78,\n   80,\n   89,\n   92,\n   102,\n   110,\n   117,\n   148,\n   149,\n   157,\n   159,\n   161,\n   164,\n   173,\n   183,\n   186,\n   192,\n   196,\n   198,\n   202,\n   232,\n   243,\n   257,\n   263,\n   285,\n   299,\n   301,\n   321,\n   322,\n   327,\n   329,\n   330,\n   336,\n   344,\n   348,\n   385,\n   386,\n   405,\n   414,\n   420,\n   421,\n   475,\n   476,\n   484,\n   489,\n   501,\n   505,\n   506,\n   507,\n   515,\n   518,\n   544,\n   551,\n   554,\n   572,\n   577,\n   578,\n   601,\n   613,\n   634,\n   657,\n   665,\n   667,\n   668,\n   671,\n   675,\n   681,\n   692,\n   696,\n   704,\n   710,\n   711,\n   716,\n   729,\n   756,\n   772,\n   786,\n   792,\n   802,\n   805,\n   819,\n   820,\n   837,\n   839,\n   853,\n   865,\n   871,\n   881,\n   883,\n   895,\n   912,\n   913,\n   924,\n   925,\n   936,\n   941,\n   949,\n   961,\n   972,\n   983,\n   988],\n  8: [3,\n   7,\n   8,\n   30,\n   33,\n   37,\n   39,\n   53,\n   66,\n   85,\n   87,\n   99,\n   101,\n   105,\n   107,\n   116,\n   154,\n   166,\n   199,\n   207,\n   211,\n   223,\n   225,\n   240,\n   254,\n   275,\n   276,\n   294,\n   318,\n   334,\n   342,\n   354,\n   355,\n   363,\n   370,\n   373,\n   387,\n   413,\n   417,\n   435,\n   446,\n   460,\n   465,\n   472,\n   496,\n   499,\n   502,\n   503,\n   504,\n   509,\n   514,\n   522,\n   527,\n   566,\n   581,\n   582,\n   585,\n   595,\n   605,\n   606,\n   610,\n   612,\n   621,\n   625,\n   632,\n   638,\n   663,\n   684,\n   698,\n   701,\n   720,\n   755,\n   768,\n   773,\n   790,\n   803,\n   855,\n   858,\n   878,\n   901,\n   916,\n   917,\n   929,\n   939,\n   962,\n   965,\n   990,\n   992,\n   993],\n  9: [4,\n   11,\n   14,\n   15,\n   20,\n   49,\n   88,\n   138,\n   143,\n   155,\n   165,\n   171,\n   172,\n   175,\n   177,\n   178,\n   182,\n   190,\n   193,\n   195,\n   201,\n   206,\n   210,\n   214,\n   226,\n   231,\n   237,\n   246,\n   251,\n   268,\n   272,\n   287,\n   289,\n   298,\n   305,\n   310,\n   312,\n   319,\n   343,\n   346,\n   349,\n   353,\n   372,\n   394,\n   402,\n   403,\n   418,\n   442,\n   454,\n   455,\n   458,\n   461,\n   480,\n   498,\n   520,\n   538,\n   549,\n   558,\n   559,\n   564,\n   579,\n   588,\n   591,\n   593,\n   604,\n   609,\n   611,\n   616,\n   640,\n   674,\n   700,\n   706,\n   715,\n   717,\n   722,\n   734,\n   738,\n   747,\n   750,\n   758,\n   767,\n   770,\n   784,\n   811,\n   817,\n   841,\n   843,\n   866,\n   877,\n   891,\n   896,\n   899,\n   903,\n   907,\n   909,\n   920,\n   927,\n   951,\n   952,\n   981,\n   989],\n  1: [5,\n   22,\n   28,\n   43,\n   51,\n   57,\n   64,\n   68,\n   71,\n   72,\n   86,\n   90,\n   123,\n   127,\n   130,\n   131,\n   134,\n   142,\n   156,\n   168,\n   203,\n   205,\n   212,\n   213,\n   215,\n   218,\n   227,\n   230,\n   238,\n   247,\n   260,\n   267,\n   292,\n   296,\n   297,\n   300,\n   303,\n   304,\n   311,\n   323,\n   332,\n   335,\n   339,\n   340,\n   347,\n   359,\n   360,\n   361,\n   364,\n   381,\n   396,\n   410,\n   425,\n   434,\n   437,\n   445,\n   450,\n   452,\n   467,\n   469,\n   485,\n   492,\n   523,\n   532,\n   560,\n   568,\n   569,\n   576,\n   592,\n   603,\n   656,\n   660,\n   666,\n   687,\n   694,\n   719,\n   731,\n   740,\n   741,\n   761,\n   762,\n   794,\n   807,\n   818,\n   821,\n   829,\n   848,\n   849,\n   859,\n   862,\n   890,\n   910,\n   947,\n   954,\n   964,\n   973,\n   974,\n   976,\n   998,\n   999],\n  4: [9,\n   19,\n   23,\n   27,\n   36,\n   42,\n   45,\n   48,\n   54,\n   58,\n   67,\n   76,\n   104,\n   106,\n   108,\n   109,\n   112,\n   126,\n   128,\n   137,\n   150,\n   152,\n   158,\n   208,\n   216,\n   220,\n   235,\n   245,\n   265,\n   277,\n   280,\n   284,\n   286,\n   306,\n   333,\n   351,\n   357,\n   358,\n   366,\n   371,\n   378,\n   382,\n   390,\n   395,\n   407,\n   419,\n   424,\n   426,\n   432,\n   440,\n   448,\n   449,\n   456,\n   463,\n   466,\n   482,\n   490,\n   526,\n   529,\n   531,\n   541,\n   545,\n   546,\n   548,\n   553,\n   555,\n   575,\n   580,\n   584,\n   598,\n   599,\n   602,\n   617,\n   639,\n   644,\n   652,\n   661,\n   664,\n   689,\n   690,\n   699,\n   709,\n   713,\n   726,\n   751,\n   760,\n   766,\n   769,\n   776,\n   781,\n   783,\n   785,\n   808,\n   815,\n   838,\n   850,\n   852,\n   857,\n   873,\n   886,\n   897,\n   898,\n   908,\n   918,\n   937,\n   938,\n   945,\n   948,\n   969,\n   970,\n   971,\n   987,\n   991,\n   994,\n   995,\n   997],\n  2: [17,\n   25,\n   32,\n   41,\n   55,\n   73,\n   95,\n   96,\n   115,\n   119,\n   136,\n   147,\n   163,\n   187,\n   209,\n   217,\n   228,\n   229,\n   241,\n   266,\n   290,\n   302,\n   313,\n   316,\n   317,\n   320,\n   338,\n   345,\n   352,\n   367,\n   375,\n   379,\n   380,\n   389,\n   411,\n   416,\n   423,\n   429,\n   431,\n   443,\n   447,\n   462,\n   508,\n   510,\n   512,\n   534,\n   539,\n   542,\n   556,\n   573,\n   586,\n   587,\n   597,\n   608,\n   627,\n   635,\n   647,\n   648,\n   653,\n   669,\n   673,\n   678,\n   708,\n   718,\n   724,\n   725,\n   730,\n   736,\n   739,\n   744,\n   746,\n   774,\n   797,\n   799,\n   804,\n   813,\n   825,\n   828,\n   842,\n   876,\n   882,\n   900,\n   904,\n   905,\n   914,\n   923,\n   931,\n   953,\n   959,\n   960,\n   966,\n   980,\n   985,\n   986],\n  6: [26,\n   31,\n   61,\n   70,\n   79,\n   91,\n   103,\n   133,\n   145,\n   146,\n   162,\n   169,\n   185,\n   234,\n   236,\n   256,\n   258,\n   262,\n   270,\n   279,\n   281,\n   282,\n   293,\n   307,\n   309,\n   315,\n   325,\n   326,\n   368,\n   377,\n   391,\n   401,\n   409,\n   436,\n   438,\n   444,\n   451,\n   453,\n   468,\n   470,\n   477,\n   479,\n   481,\n   487,\n   494,\n   511,\n   525,\n   533,\n   565,\n   583,\n   589,\n   596,\n   618,\n   626,\n   629,\n   641,\n   643,\n   658,\n   659,\n   676,\n   683,\n   688,\n   707,\n   723,\n   735,\n   765,\n   777,\n   778,\n   787,\n   789,\n   796,\n   801,\n   814,\n   816,\n   831,\n   832,\n   845,\n   846,\n   860,\n   863,\n   870,\n   872,\n   875,\n   884,\n   887,\n   888,\n   977,\n   978],\n  7: [34,\n   38,\n   60,\n   62,\n   63,\n   65,\n   94,\n   98,\n   100,\n   120,\n   122,\n   125,\n   135,\n   141,\n   151,\n   153,\n   176,\n   188,\n   219,\n   224,\n   242,\n   255,\n   259,\n   264,\n   273,\n   278,\n   288,\n   314,\n   337,\n   374,\n   383,\n   397,\n   398,\n   408,\n   415,\n   428,\n   430,\n   464,\n   474,\n   478,\n   488,\n   491,\n   493,\n   528,\n   535,\n   537,\n   540,\n   550,\n   557,\n   562,\n   567,\n   590,\n   594,\n   600,\n   622,\n   624,\n   628,\n   636,\n   642,\n   655,\n   677,\n   686,\n   693,\n   695,\n   703,\n   728,\n   732,\n   737,\n   742,\n   754,\n   771,\n   788,\n   798,\n   800,\n   812,\n   822,\n   830,\n   836,\n   847,\n   856,\n   861,\n   879,\n   880,\n   885,\n   889,\n   915,\n   922,\n   926,\n   932,\n   933,\n   943,\n   946,\n   950,\n   968,\n   984]},\n 2: {13: [0,\n   10,\n   24,\n   33,\n   53,\n   97,\n   105,\n   115,\n   120,\n   130,\n   134,\n   143,\n   146,\n   151,\n   163,\n   192,\n   199,\n   218,\n   228,\n   267,\n   313,\n   326,\n   370,\n   378,\n   399,\n   404,\n   427,\n   434,\n   436,\n   451,\n   456,\n   465,\n   476,\n   482,\n   493,\n   498,\n   507,\n   602,\n   619,\n   620,\n   621,\n   641,\n   665,\n   666,\n   680,\n   695,\n   713,\n   715,\n   717,\n   750,\n   758,\n   764,\n   775,\n   777,\n   787,\n   794,\n   804,\n   809,\n   818,\n   842,\n   857,\n   915,\n   919,\n   933,\n   978],\n  14: [1,\n   14,\n   28,\n   32,\n   40,\n   46,\n   52,\n   71,\n   75,\n   84,\n   88,\n   95,\n   106,\n   112,\n   116,\n   119,\n   140,\n   208,\n   225,\n   229,\n   231,\n   277,\n   292,\n   293,\n   305,\n   328,\n   337,\n   341,\n   356,\n   373,\n   396,\n   421,\n   426,\n   438,\n   439,\n   458,\n   463,\n   487,\n   508,\n   539,\n   546,\n   560,\n   568,\n   574,\n   595,\n   623,\n   632,\n   653,\n   656,\n   678,\n   687,\n   706,\n   710,\n   722,\n   748,\n   810,\n   825,\n   829,\n   833,\n   877,\n   879,\n   945,\n   954],\n  10: [2,\n   4,\n   60,\n   61,\n   64,\n   70,\n   118,\n   128,\n   144,\n   194,\n   202,\n   210,\n   213,\n   234,\n   236,\n   242,\n   249,\n   271,\n   315,\n   316,\n   320,\n   344,\n   377,\n   397,\n   409,\n   418,\n   429,\n   450,\n   497,\n   500,\n   512,\n   525,\n   584,\n   585,\n   586,\n   607,\n   625,\n   652,\n   654,\n   697,\n   716,\n   725,\n   741,\n   752,\n   760,\n   768,\n   774,\n   780,\n   782,\n   802,\n   819,\n   856,\n   859,\n   865,\n   866,\n   881,\n   887,\n   888,\n   903,\n   906,\n   914,\n   963,\n   968,\n   970,\n   975,\n   995,\n   997],\n  11: [3,\n   27,\n   35,\n   38,\n   41,\n   49,\n   56,\n   73,\n   79,\n   101,\n   103,\n   109,\n   126,\n   129,\n   139,\n   141,\n   150,\n   160,\n   186,\n   245,\n   256,\n   257,\n   265,\n   276,\n   291,\n   333,\n   354,\n   355,\n   380,\n   442,\n   444,\n   448,\n   459,\n   460,\n   461,\n   505,\n   509,\n   513,\n   520,\n   526,\n   528,\n   544,\n   569,\n   576,\n   589,\n   591,\n   597,\n   615,\n   629,\n   667,\n   669,\n   681,\n   682,\n   698,\n   705,\n   761,\n   808,\n   832,\n   843,\n   845,\n   849,\n   862,\n   880,\n   893,\n   897,\n   913,\n   955,\n   988],\n  1: [5,\n   6,\n   31,\n   66,\n   68,\n   90,\n   104,\n   117,\n   123,\n   152,\n   156,\n   170,\n   177,\n   241,\n   260,\n   285,\n   311,\n   318,\n   319,\n   325,\n   350,\n   351,\n   359,\n   411,\n   425,\n   440,\n   455,\n   472,\n   489,\n   502,\n   510,\n   540,\n   541,\n   596,\n   604,\n   605,\n   617,\n   672,\n   702,\n   707,\n   727,\n   736,\n   743,\n   751,\n   753,\n   757,\n   792,\n   797,\n   803,\n   816,\n   844,\n   910,\n   911,\n   936,\n   937,\n   944,\n   947,\n   949,\n   957,\n   967,\n   979],\n  6: [7,\n   17,\n   23,\n   26,\n   51,\n   86,\n   122,\n   127,\n   159,\n   161,\n   165,\n   205,\n   206,\n   221,\n   224,\n   227,\n   230,\n   232,\n   240,\n   263,\n   269,\n   272,\n   287,\n   338,\n   401,\n   424,\n   428,\n   431,\n   432,\n   437,\n   454,\n   485,\n   486,\n   491,\n   552,\n   554,\n   590,\n   609,\n   624,\n   634,\n   659,\n   660,\n   700,\n   703,\n   709,\n   776,\n   778,\n   783,\n   811,\n   822,\n   852,\n   853,\n   860,\n   874,\n   885,\n   923,\n   940,\n   958,\n   962,\n   964,\n   972,\n   974,\n   990],\n  0: [8,\n   12,\n   16,\n   25,\n   39,\n   85,\n   124,\n   145,\n   154,\n   162,\n   167,\n   169,\n   171,\n   179,\n   182,\n   187,\n   223,\n   248,\n   281,\n   331,\n   340,\n   342,\n   345,\n   371,\n   379,\n   385,\n   389,\n   391,\n   398,\n   402,\n   412,\n   462,\n   474,\n   490,\n   495,\n   518,\n   522,\n   533,\n   608,\n   610,\n   630,\n   633,\n   637,\n   649,\n   676,\n   677,\n   728,\n   729,\n   767,\n   789,\n   790,\n   805,\n   815,\n   821,\n   838,\n   841,\n   864,\n   884,\n   894,\n   902,\n   941,\n   960,\n   971,\n   980,\n   992,\n   996],\n  7: [9,\n   43,\n   45,\n   55,\n   81,\n   102,\n   133,\n   135,\n   138,\n   142,\n   158,\n   174,\n   183,\n   193,\n   237,\n   243,\n   252,\n   255,\n   259,\n   278,\n   284,\n   288,\n   290,\n   302,\n   336,\n   352,\n   353,\n   365,\n   381,\n   386,\n   407,\n   420,\n   435,\n   453,\n   457,\n   470,\n   480,\n   483,\n   492,\n   494,\n   538,\n   542,\n   551,\n   562,\n   579,\n   587,\n   612,\n   631,\n   635,\n   643,\n   692,\n   731,\n   737,\n   742,\n   744,\n   756,\n   766,\n   786,\n   828,\n   858,\n   867,\n   883,\n   891,\n   895,\n   899,\n   916,\n   918,\n   927,\n   928,\n   935,\n   939,\n   942,\n   956,\n   969,\n   977,\n   981,\n   982],\n  4: [11,\n   19,\n   21,\n   37,\n   67,\n   89,\n   99,\n   157,\n   180,\n   189,\n   220,\n   235,\n   258,\n   268,\n   298,\n   299,\n   303,\n   307,\n   348,\n   361,\n   369,\n   430,\n   441,\n   449,\n   479,\n   501,\n   515,\n   521,\n   534,\n   536,\n   553,\n   563,\n   572,\n   583,\n   588,\n   592,\n   611,\n   639,\n   670,\n   686,\n   691,\n   711,\n   762,\n   763,\n   801,\n   807,\n   812,\n   817,\n   823,\n   826,\n   831,\n   836,\n   851,\n   868,\n   870,\n   904,\n   917,\n   943,\n   985,\n   989],\n  2: [13,\n   18,\n   30,\n   34,\n   44,\n   48,\n   59,\n   92,\n   100,\n   107,\n   110,\n   149,\n   175,\n   176,\n   178,\n   201,\n   203,\n   209,\n   282,\n   296,\n   304,\n   314,\n   335,\n   339,\n   367,\n   368,\n   419,\n   443,\n   514,\n   575,\n   577,\n   581,\n   594,\n   614,\n   627,\n   638,\n   671,\n   683,\n   689,\n   723,\n   746,\n   791,\n   795,\n   800,\n   814,\n   830,\n   834,\n   835,\n   886,\n   900,\n   921,\n   925,\n   931,\n   959,\n   999],\n  12: [15,\n   42,\n   47,\n   72,\n   76,\n   87,\n   93,\n   113,\n   125,\n   131,\n   136,\n   147,\n   153,\n   200,\n   207,\n   211,\n   214,\n   238,\n   250,\n   251,\n   309,\n   310,\n   330,\n   347,\n   372,\n   374,\n   384,\n   390,\n   400,\n   405,\n   410,\n   416,\n   423,\n   433,\n   447,\n   503,\n   504,\n   530,\n   549,\n   555,\n   564,\n   580,\n   628,\n   636,\n   642,\n   648,\n   655,\n   663,\n   673,\n   685,\n   690,\n   699,\n   718,\n   726,\n   730,\n   735,\n   785,\n   839,\n   846,\n   889,\n   905,\n   922,\n   932,\n   938,\n   951,\n   953,\n   961,\n   984,\n   987],\n  5: [20,\n   22,\n   50,\n   62,\n   63,\n   80,\n   94,\n   98,\n   168,\n   184,\n   195,\n   197,\n   212,\n   216,\n   219,\n   222,\n   244,\n   261,\n   266,\n   270,\n   273,\n   275,\n   279,\n   294,\n   308,\n   321,\n   323,\n   329,\n   343,\n   346,\n   349,\n   362,\n   413,\n   417,\n   452,\n   471,\n   473,\n   478,\n   481,\n   523,\n   529,\n   537,\n   543,\n   556,\n   561,\n   567,\n   582,\n   593,\n   598,\n   599,\n   606,\n   626,\n   658,\n   661,\n   664,\n   668,\n   688,\n   712,\n   714,\n   720,\n   721,\n   759,\n   772,\n   784,\n   798,\n   799,\n   820,\n   837,\n   847,\n   854,\n   871,\n   873,\n   882,\n   926,\n   946,\n   948,\n   952,\n   986,\n   998],\n  3: [29,\n   54,\n   57,\n   69,\n   78,\n   91,\n   108,\n   164,\n   172,\n   181,\n   188,\n   190,\n   196,\n   217,\n   254,\n   283,\n   286,\n   289,\n   295,\n   301,\n   312,\n   324,\n   363,\n   382,\n   387,\n   392,\n   408,\n   422,\n   445,\n   468,\n   469,\n   477,\n   488,\n   516,\n   517,\n   524,\n   548,\n   558,\n   559,\n   565,\n   571,\n   573,\n   578,\n   622,\n   640,\n   644,\n   646,\n   657,\n   662,\n   679,\n   724,\n   734,\n   739,\n   747,\n   770,\n   788,\n   793,\n   850,\n   861,\n   869,\n   876,\n   878,\n   898,\n   909,\n   950,\n   991,\n   993],\n  8: [36,\n   58,\n   77,\n   82,\n   96,\n   111,\n   121,\n   166,\n   173,\n   198,\n   226,\n   233,\n   239,\n   247,\n   253,\n   262,\n   300,\n   317,\n   322,\n   327,\n   332,\n   334,\n   357,\n   364,\n   366,\n   383,\n   388,\n   393,\n   394,\n   403,\n   415,\n   446,\n   464,\n   466,\n   499,\n   506,\n   511,\n   519,\n   532,\n   550,\n   600,\n   616,\n   650,\n   651,\n   684,\n   696,\n   704,\n   708,\n   719,\n   733,\n   749,\n   754,\n   765,\n   781,\n   806,\n   824,\n   855,\n   875,\n   892,\n   896,\n   901,\n   908,\n   912,\n   924,\n   930,\n   934],\n  9: [65,\n   74,\n   83,\n   114,\n   132,\n   137,\n   148,\n   155,\n   185,\n   191,\n   204,\n   215,\n   246,\n   264,\n   274,\n   280,\n   297,\n   306,\n   358,\n   360,\n   375,\n   376,\n   395,\n   406,\n   414,\n   467,\n   475,\n   484,\n   496,\n   527,\n   531,\n   535,\n   545,\n   547,\n   557,\n   566,\n   570,\n   601,\n   603,\n   613,\n   618,\n   645,\n   647,\n   674,\n   675,\n   693,\n   694,\n   701,\n   732,\n   738,\n   740,\n   745,\n   755,\n   769,\n   771,\n   773,\n   779,\n   796,\n   813,\n   827,\n   840,\n   848,\n   863,\n   872,\n   890,\n   907,\n   920,\n   929,\n   965,\n   966,\n   973,\n   976,\n   983,\n   994]},\n 3: {0: [0,\n   1,\n   47,\n   55,\n   124,\n   136,\n   207,\n   211,\n   220,\n   230,\n   234,\n   261,\n   300,\n   328,\n   339,\n   366,\n   396,\n   431,\n   450,\n   454,\n   480,\n   484,\n   487,\n   494,\n   514,\n   522,\n   543,\n   545,\n   552,\n   562,\n   576,\n   584,\n   588,\n   596,\n   607,\n   616,\n   624,\n   651,\n   663,\n   666,\n   667,\n   670,\n   681,\n   690,\n   701,\n   721,\n   737,\n   767,\n   782,\n   798,\n   854,\n   867,\n   874,\n   878,\n   887,\n   894,\n   899,\n   912,\n   920],\n  18: [2,\n   8,\n   16,\n   17,\n   28,\n   52,\n   76,\n   86,\n   87,\n   100,\n   117,\n   143,\n   158,\n   215,\n   238,\n   241,\n   258,\n   263,\n   314,\n   350,\n   378,\n   409,\n   427,\n   429,\n   430,\n   461,\n   464,\n   473,\n   488,\n   490,\n   517,\n   548,\n   561,\n   597,\n   626,\n   648,\n   705,\n   711,\n   715,\n   717,\n   720,\n   728,\n   735,\n   790,\n   797,\n   824,\n   831,\n   884,\n   976],\n  2: [3,\n   11,\n   90,\n   131,\n   135,\n   178,\n   185,\n   187,\n   200,\n   201,\n   245,\n   271,\n   286,\n   294,\n   325,\n   333,\n   341,\n   379,\n   485,\n   486,\n   556,\n   557,\n   619,\n   692,\n   693,\n   727,\n   731,\n   751,\n   753,\n   771,\n   815,\n   820,\n   837,\n   882,\n   891,\n   958,\n   980],\n  14: [4,\n   104,\n   119,\n   221,\n   243,\n   289,\n   296,\n   302,\n   318,\n   340,\n   359,\n   361,\n   368,\n   387,\n   413,\n   423,\n   440,\n   492,\n   505,\n   516,\n   547,\n   555,\n   570,\n   605,\n   606,\n   618,\n   645,\n   674,\n   722,\n   748,\n   770,\n   783,\n   789,\n   819,\n   825,\n   850,\n   865,\n   868,\n   889,\n   895,\n   909,\n   942,\n   948,\n   954,\n   973,\n   978],\n  17: [5,\n   19,\n   51,\n   72,\n   108,\n   144,\n   151,\n   157,\n   165,\n   179,\n   195,\n   206,\n   213,\n   222,\n   226,\n   248,\n   269,\n   329,\n   352,\n   364,\n   376,\n   381,\n   402,\n   420,\n   432,\n   463,\n   470,\n   509,\n   535,\n   539,\n   541,\n   573,\n   580,\n   647,\n   658,\n   676,\n   689,\n   729,\n   768,\n   780,\n   818,\n   830,\n   844,\n   869,\n   881,\n   883,\n   904,\n   910,\n   960,\n   970],\n  15: [6,\n   42,\n   50,\n   59,\n   96,\n   120,\n   127,\n   149,\n   159,\n   172,\n   217,\n   219,\n   224,\n   233,\n   237,\n   246,\n   266,\n   374,\n   382,\n   389,\n   443,\n   447,\n   456,\n   466,\n   472,\n   501,\n   504,\n   512,\n   546,\n   574,\n   586,\n   594,\n   657,\n   675,\n   698,\n   740,\n   764,\n   775,\n   893,\n   913,\n   935,\n   969,\n   971,\n   994],\n  9: [7,\n   23,\n   31,\n   63,\n   68,\n   89,\n   95,\n   118,\n   133,\n   153,\n   169,\n   189,\n   199,\n   209,\n   257,\n   262,\n   320,\n   322,\n   349,\n   386,\n   390,\n   400,\n   442,\n   446,\n   474,\n   479,\n   483,\n   498,\n   538,\n   542,\n   544,\n   571,\n   590,\n   592,\n   609,\n   610,\n   629,\n   642,\n   644,\n   653,\n   695,\n   716,\n   723,\n   741,\n   745,\n   757,\n   793,\n   795,\n   799,\n   804,\n   816,\n   900,\n   903,\n   907,\n   914,\n   921,\n   923,\n   952,\n   963],\n  7: [9,\n   37,\n   41,\n   48,\n   58,\n   65,\n   121,\n   163,\n   228,\n   239,\n   260,\n   267,\n   316,\n   336,\n   346,\n   369,\n   373,\n   384,\n   397,\n   412,\n   416,\n   417,\n   425,\n   436,\n   460,\n   478,\n   503,\n   515,\n   520,\n   529,\n   534,\n   558,\n   566,\n   600,\n   620,\n   704,\n   712,\n   738,\n   744,\n   752,\n   756,\n   800,\n   832,\n   843,\n   853,\n   861,\n   888,\n   905,\n   926,\n   928,\n   940,\n   955,\n   962,\n   975],\n  13: [10,\n   39,\n   43,\n   73,\n   79,\n   98,\n   134,\n   155,\n   161,\n   183,\n   193,\n   227,\n   251,\n   273,\n   279,\n   281,\n   284,\n   304,\n   312,\n   317,\n   323,\n   337,\n   345,\n   394,\n   418,\n   453,\n   469,\n   497,\n   508,\n   638,\n   650,\n   679,\n   683,\n   685,\n   697,\n   699,\n   747,\n   762,\n   765,\n   791,\n   841,\n   856,\n   862,\n   876,\n   916,\n   939,\n   943,\n   950,\n   979,\n   987],\n  5: [12,\n   54,\n   64,\n   75,\n   88,\n   103,\n   139,\n   140,\n   173,\n   188,\n   192,\n   202,\n   229,\n   264,\n   270,\n   274,\n   309,\n   324,\n   327,\n   383,\n   401,\n   414,\n   419,\n   444,\n   465,\n   476,\n   482,\n   518,\n   608,\n   634,\n   639,\n   655,\n   677,\n   709,\n   710,\n   713,\n   718,\n   732,\n   733,\n   742,\n   754,\n   755,\n   759,\n   781,\n   787,\n   805,\n   806,\n   810,\n   842,\n   846,\n   851,\n   852,\n   859,\n   965,\n   982,\n   999],\n  19: [13,\n   21,\n   70,\n   74,\n   82,\n   112,\n   138,\n   168,\n   177,\n   180,\n   208,\n   231,\n   242,\n   275,\n   282,\n   305,\n   358,\n   399,\n   405,\n   424,\n   481,\n   489,\n   530,\n   532,\n   554,\n   565,\n   601,\n   615,\n   622,\n   633,\n   636,\n   637,\n   656,\n   707,\n   743,\n   769,\n   786,\n   803,\n   811,\n   822,\n   829,\n   870,\n   915,\n   930,\n   991],\n  1: [14,\n   24,\n   34,\n   71,\n   78,\n   80,\n   83,\n   93,\n   101,\n   115,\n   116,\n   162,\n   175,\n   176,\n   182,\n   203,\n   351,\n   360,\n   421,\n   422,\n   449,\n   459,\n   510,\n   524,\n   540,\n   550,\n   575,\n   585,\n   599,\n   661,\n   686,\n   725,\n   734,\n   739,\n   761,\n   776,\n   857,\n   871,\n   877,\n   880,\n   902,\n   968,\n   983,\n   988,\n   996,\n   998],\n  8: [15,\n   27,\n   30,\n   66,\n   81,\n   102,\n   111,\n   147,\n   210,\n   223,\n   249,\n   276,\n   290,\n   295,\n   298,\n   299,\n   301,\n   342,\n   343,\n   365,\n   371,\n   392,\n   395,\n   406,\n   445,\n   448,\n   462,\n   513,\n   525,\n   564,\n   568,\n   583,\n   595,\n   617,\n   630,\n   631,\n   654,\n   660,\n   672,\n   696,\n   730,\n   758,\n   774,\n   778,\n   809,\n   821,\n   839,\n   863,\n   897,\n   898,\n   908,\n   919,\n   934,\n   985,\n   995],\n  10: [18,\n   22,\n   32,\n   35,\n   45,\n   46,\n   62,\n   91,\n   110,\n   145,\n   204,\n   218,\n   236,\n   272,\n   293,\n   306,\n   307,\n   326,\n   348,\n   385,\n   408,\n   410,\n   439,\n   457,\n   475,\n   499,\n   511,\n   521,\n   527,\n   528,\n   536,\n   553,\n   572,\n   598,\n   614,\n   625,\n   628,\n   632,\n   635,\n   641,\n   643,\n   652,\n   682,\n   687,\n   688,\n   714,\n   726,\n   784,\n   823,\n   826,\n   879,\n   911,\n   989],\n  4: [20,\n   53,\n   85,\n   92,\n   97,\n   105,\n   113,\n   126,\n   128,\n   160,\n   174,\n   191,\n   198,\n   205,\n   265,\n   288,\n   292,\n   313,\n   330,\n   335,\n   367,\n   370,\n   391,\n   393,\n   434,\n   438,\n   500,\n   502,\n   506,\n   537,\n   581,\n   587,\n   612,\n   646,\n   691,\n   700,\n   703,\n   749,\n   785,\n   802,\n   848,\n   873,\n   875,\n   892,\n   917,\n   918,\n   924,\n   927,\n   933,\n   961,\n   966,\n   974,\n   984],\n  11: [25,\n   61,\n   67,\n   123,\n   132,\n   148,\n   150,\n   156,\n   253,\n   268,\n   280,\n   297,\n   310,\n   311,\n   315,\n   344,\n   354,\n   355,\n   441,\n   491,\n   493,\n   533,\n   549,\n   602,\n   640,\n   649,\n   662,\n   669,\n   673,\n   750,\n   779,\n   808,\n   827,\n   835,\n   836,\n   840,\n   845,\n   847,\n   849,\n   860,\n   864,\n   890,\n   896,\n   922,\n   931,\n   936,\n   959],\n  16: [26,\n   33,\n   69,\n   99,\n   129,\n   130,\n   146,\n   167,\n   184,\n   197,\n   216,\n   225,\n   244,\n   252,\n   254,\n   259,\n   283,\n   334,\n   353,\n   363,\n   380,\n   388,\n   411,\n   415,\n   468,\n   471,\n   495,\n   526,\n   551,\n   563,\n   578,\n   589,\n   593,\n   603,\n   627,\n   664,\n   668,\n   694,\n   724,\n   773,\n   796,\n   855,\n   858,\n   885,\n   886,\n   951,\n   953,\n   957],\n  6: [29,\n   36,\n   56,\n   77,\n   84,\n   109,\n   141,\n   181,\n   186,\n   212,\n   235,\n   247,\n   250,\n   255,\n   331,\n   338,\n   356,\n   357,\n   362,\n   377,\n   398,\n   451,\n   458,\n   519,\n   531,\n   559,\n   611,\n   623,\n   760,\n   777,\n   792,\n   807,\n   812,\n   814,\n   828,\n   838,\n   866,\n   901,\n   925,\n   944,\n   956,\n   972,\n   990],\n  12: [38,\n   44,\n   49,\n   94,\n   122,\n   125,\n   137,\n   154,\n   166,\n   171,\n   190,\n   196,\n   277,\n   278,\n   285,\n   291,\n   303,\n   308,\n   347,\n   403,\n   404,\n   407,\n   452,\n   455,\n   467,\n   523,\n   579,\n   582,\n   659,\n   665,\n   680,\n   702,\n   706,\n   708,\n   736,\n   763,\n   766,\n   788,\n   817,\n   833,\n   834,\n   872,\n   929,\n   932,\n   941,\n   946,\n   949,\n   981,\n   986,\n   993],\n  3: [40,\n   57,\n   60,\n   106,\n   107,\n   114,\n   142,\n   152,\n   164,\n   170,\n   194,\n   214,\n   232,\n   240,\n   256,\n   287,\n   319,\n   321,\n   332,\n   372,\n   375,\n   426,\n   428,\n   433,\n   435,\n   437,\n   477,\n   496,\n   507,\n   560,\n   567,\n   569,\n   577,\n   591,\n   604,\n   613,\n   621,\n   671,\n   678,\n   684,\n   719,\n   746,\n   772,\n   794,\n   801,\n   813,\n   906,\n   937,\n   938,\n   945,\n   947,\n   964,\n   967,\n   977,\n   992,\n   997]},\n 4: {4: [0,\n   12,\n   27,\n   101,\n   186,\n   224,\n   263,\n   307,\n   366,\n   372,\n   406,\n   436,\n   498,\n   503,\n   562,\n   614,\n   619,\n   625,\n   638,\n   655,\n   739,\n   863,\n   897,\n   914,\n   935,\n   953,\n   954,\n   985],\n  23: [1,\n   45,\n   65,\n   82,\n   148,\n   153,\n   202,\n   215,\n   232,\n   271,\n   288,\n   296,\n   300,\n   302,\n   310,\n   336,\n   348,\n   355,\n   365,\n   417,\n   437,\n   441,\n   446,\n   473,\n   476,\n   485,\n   569,\n   613,\n   615,\n   621,\n   635,\n   636,\n   639,\n   640,\n   668,\n   671,\n   693,\n   734,\n   772,\n   782,\n   816,\n   876,\n   919,\n   924,\n   928,\n   929],\n  7: [2,\n   41,\n   77,\n   102,\n   108,\n   166,\n   183,\n   198,\n   244,\n   273,\n   304,\n   308,\n   313,\n   351,\n   377,\n   428,\n   464,\n   481,\n   484,\n   520,\n   539,\n   556,\n   561,\n   705,\n   715,\n   719,\n   755,\n   762,\n   769,\n   776,\n   785,\n   853,\n   860,\n   933],\n  2: [3,\n   8,\n   36,\n   70,\n   76,\n   135,\n   177,\n   203,\n   209,\n   211,\n   212,\n   219,\n   252,\n   367,\n   449,\n   460,\n   462,\n   467,\n   469,\n   488,\n   497,\n   505,\n   514,\n   534,\n   550,\n   585,\n   595,\n   601,\n   611,\n   691,\n   703,\n   721,\n   727,\n   743,\n   773,\n   793,\n   821,\n   859,\n   932,\n   946,\n   963,\n   994],\n  15: [4,\n   62,\n   87,\n   89,\n   142,\n   144,\n   187,\n   207,\n   213,\n   231,\n   251,\n   289,\n   318,\n   319,\n   335,\n   341,\n   346,\n   350,\n   356,\n   395,\n   493,\n   604,\n   642,\n   652,\n   702,\n   713,\n   717,\n   751,\n   777,\n   778,\n   789,\n   838,\n   842,\n   909,\n   913,\n   934,\n   940,\n   942,\n   958,\n   995],\n  21: [5,\n   48,\n   63,\n   66,\n   67,\n   73,\n   118,\n   130,\n   149,\n   152,\n   154,\n   167,\n   204,\n   218,\n   240,\n   247,\n   284,\n   294,\n   309,\n   330,\n   354,\n   376,\n   411,\n   416,\n   499,\n   500,\n   529,\n   573,\n   647,\n   654,\n   666,\n   674,\n   677,\n   694,\n   729,\n   747,\n   750,\n   791,\n   839,\n   840,\n   892,\n   903,\n   916,\n   955,\n   981,\n   993],\n  13: [6,\n   178,\n   184,\n   225,\n   258,\n   262,\n   292,\n   312,\n   320,\n   382,\n   398,\n   412,\n   431,\n   474,\n   490,\n   522,\n   535,\n   592,\n   600,\n   610,\n   622,\n   720,\n   736,\n   765,\n   774,\n   800,\n   910,\n   917,\n   923,\n   966,\n   971,\n   987],\n  12: [7,\n   10,\n   60,\n   78,\n   100,\n   103,\n   110,\n   122,\n   128,\n   156,\n   159,\n   176,\n   188,\n   196,\n   237,\n   265,\n   274,\n   299,\n   317,\n   385,\n   421,\n   495,\n   512,\n   596,\n   599,\n   649,\n   657,\n   687,\n   692,\n   733,\n   738,\n   754,\n   771,\n   803,\n   811,\n   837,\n   871,\n   896,\n   901],\n  8: [9,\n   26,\n   68,\n   90,\n   115,\n   138,\n   150,\n   173,\n   174,\n   261,\n   277,\n   293,\n   297,\n   301,\n   324,\n   338,\n   394,\n   414,\n   422,\n   433,\n   551,\n   589,\n   597,\n   620,\n   624,\n   679,\n   700,\n   714,\n   745,\n   792,\n   797,\n   802,\n   831,\n   925,\n   945,\n   986,\n   988],\n  5: [11,\n   43,\n   50,\n   53,\n   56,\n   57,\n   75,\n   98,\n   104,\n   120,\n   126,\n   137,\n   205,\n   222,\n   253,\n   255,\n   325,\n   333,\n   344,\n   362,\n   378,\n   379,\n   400,\n   405,\n   427,\n   440,\n   519,\n   544,\n   545,\n   617,\n   629,\n   664,\n   665,\n   667,\n   675,\n   746,\n   813,\n   843,\n   874,\n   941,\n   978],\n  10: [13,\n   64,\n   69,\n   72,\n   86,\n   88,\n   112,\n   124,\n   151,\n   158,\n   181,\n   189,\n   206,\n   208,\n   266,\n   283,\n   375,\n   407,\n   445,\n   457,\n   479,\n   524,\n   528,\n   563,\n   577,\n   608,\n   651,\n   662,\n   663,\n   669,\n   672,\n   676,\n   716,\n   741,\n   760,\n   828,\n   834,\n   868,\n   872,\n   937,\n   948,\n   991],\n  18: [14,\n   22,\n   32,\n   71,\n   145,\n   172,\n   199,\n   226,\n   257,\n   357,\n   359,\n   368,\n   397,\n   401,\n   419,\n   454,\n   509,\n   523,\n   538,\n   540,\n   574,\n   581,\n   598,\n   612,\n   644,\n   660,\n   697,\n   707,\n   724,\n   766,\n   770,\n   804,\n   808,\n   823,\n   855,\n   867,\n   878,\n   880,\n   904,\n   930,\n   951,\n   956,\n   959,\n   967],\n  22: [15,\n   16,\n   29,\n   107,\n   140,\n   192,\n   276,\n   282,\n   327,\n   328,\n   339,\n   361,\n   402,\n   425,\n   426,\n   526,\n   527,\n   558,\n   564,\n   567,\n   572,\n   576,\n   588,\n   593,\n   659,\n   696,\n   847,\n   864,\n   877,\n   895,\n   906,\n   911,\n   912,\n   960,\n   965,\n   992],\n  6: [17,\n   117,\n   146,\n   164,\n   175,\n   210,\n   267,\n   278,\n   280,\n   286,\n   290,\n   305,\n   311,\n   363,\n   418,\n   435,\n   448,\n   478,\n   510,\n   587,\n   698,\n   732,\n   768,\n   786,\n   817,\n   829,\n   835,\n   850,\n   861,\n   890,\n   931],\n  0: [18,\n   24,\n   34,\n   39,\n   83,\n   84,\n   91,\n   94,\n   95,\n   123,\n   133,\n   134,\n   155,\n   169,\n   200,\n   221,\n   248,\n   270,\n   279,\n   298,\n   322,\n   342,\n   349,\n   389,\n   403,\n   432,\n   444,\n   458,\n   466,\n   507,\n   513,\n   590,\n   606,\n   607,\n   609,\n   628,\n   632,\n   646,\n   658,\n   682,\n   725,\n   748,\n   794,\n   795,\n   796,\n   818,\n   832,\n   848,\n   851,\n   856,\n   875,\n   920,\n   922],\n  14: [19,\n   28,\n   30,\n   33,\n   61,\n   125,\n   157,\n   160,\n   234,\n   260,\n   281,\n   285,\n   291,\n   314,\n   340,\n   370,\n   396,\n   415,\n   470,\n   501,\n   518,\n   530,\n   555,\n   560,\n   605,\n   616,\n   634,\n   704,\n   735,\n   763,\n   857,\n   869,\n   891,\n   898,\n   905,\n   962,\n   996,\n   998],\n  16: [20,\n   38,\n   49,\n   55,\n   58,\n   80,\n   92,\n   113,\n   114,\n   131,\n   136,\n   165,\n   195,\n   228,\n   242,\n   329,\n   331,\n   430,\n   439,\n   442,\n   475,\n   480,\n   487,\n   496,\n   537,\n   549,\n   568,\n   575,\n   579,\n   641,\n   711,\n   718,\n   799,\n   807,\n   846,\n   854,\n   884,\n   886,\n   907,\n   926,\n   936,\n   939,\n   947,\n   949,\n   977,\n   979,\n   983],\n  24: [21,\n   54,\n   85,\n   93,\n   96,\n   121,\n   179,\n   185,\n   254,\n   343,\n   374,\n   399,\n   434,\n   443,\n   531,\n   536,\n   680,\n   690,\n   709,\n   728,\n   780,\n   788,\n   812,\n   849,\n   852,\n   870,\n   888,\n   943,\n   970,\n   982],\n  19: [23,\n   25,\n   31,\n   35,\n   47,\n   59,\n   127,\n   191,\n   197,\n   235,\n   238,\n   256,\n   269,\n   321,\n   334,\n   369,\n   371,\n   373,\n   380,\n   404,\n   453,\n   459,\n   471,\n   515,\n   532,\n   542,\n   543,\n   553,\n   584,\n   591,\n   627,\n   688,\n   753,\n   757,\n   798,\n   815,\n   841,\n   844,\n   879,\n   921,\n   952],\n  17: [37,\n   119,\n   230,\n   239,\n   250,\n   259,\n   268,\n   287,\n   315,\n   323,\n   352,\n   358,\n   387,\n   388,\n   390,\n   392,\n   413,\n   452,\n   456,\n   468,\n   482,\n   504,\n   516,\n   541,\n   554,\n   578,\n   594,\n   633,\n   661,\n   678,\n   683,\n   685,\n   686,\n   699,\n   722,\n   742,\n   758,\n   767,\n   781,\n   784,\n   801,\n   809,\n   881,\n   915,\n   927,\n   944,\n   964,\n   973,\n   989,\n   999],\n  11: [40,\n   46,\n   51,\n   99,\n   111,\n   132,\n   163,\n   194,\n   201,\n   229,\n   241,\n   246,\n   272,\n   306,\n   337,\n   345,\n   360,\n   384,\n   386,\n   393,\n   409,\n   410,\n   455,\n   477,\n   491,\n   508,\n   546,\n   547,\n   548,\n   552,\n   618,\n   637,\n   643,\n   650,\n   730,\n   731,\n   775,\n   779,\n   783,\n   822,\n   825,\n   827,\n   833,\n   862,\n   866,\n   873,\n   887,\n   889,\n   893,\n   894,\n   957,\n   969,\n   980,\n   997],\n  20: [42,\n   109,\n   129,\n   143,\n   161,\n   220,\n   223,\n   227,\n   275,\n   316,\n   420,\n   423,\n   429,\n   461,\n   472,\n   486,\n   492,\n   494,\n   502,\n   525,\n   559,\n   565,\n   582,\n   602,\n   631,\n   670,\n   673,\n   681,\n   684,\n   701,\n   706,\n   752,\n   836,\n   902,\n   990],\n  3: [44,\n   52,\n   74,\n   97,\n   139,\n   147,\n   168,\n   171,\n   190,\n   303,\n   332,\n   391,\n   424,\n   451,\n   483,\n   506,\n   557,\n   566,\n   580,\n   583,\n   603,\n   630,\n   648,\n   689,\n   710,\n   712,\n   759,\n   761,\n   790,\n   814,\n   824,\n   830,\n   899,\n   974,\n   976],\n  9: [79,\n   105,\n   116,\n   141,\n   182,\n   193,\n   217,\n   233,\n   243,\n   249,\n   295,\n   326,\n   364,\n   381,\n   438,\n   450,\n   463,\n   511,\n   517,\n   533,\n   570,\n   571,\n   586,\n   623,\n   653,\n   656,\n   695,\n   723,\n   726,\n   749,\n   756,\n   805,\n   806,\n   810,\n   858,\n   882,\n   885,\n   900,\n   938,\n   961,\n   972,\n   975,\n   984],\n  1: [81,\n   106,\n   162,\n   170,\n   180,\n   214,\n   216,\n   236,\n   245,\n   264,\n   347,\n   353,\n   383,\n   408,\n   447,\n   465,\n   489,\n   521,\n   626,\n   645,\n   708,\n   737,\n   740,\n   744,\n   764,\n   787,\n   819,\n   820,\n   826,\n   845,\n   865,\n   883,\n   908,\n   918,\n   950,\n   968]}}"
     },
     "execution_count": 27,
     "metadata": {},
     "output_type": "execute_result"
    }
   ],
   "source": [
    "lsh.hash_tables"
   ]
  },
  {
   "cell_type": "code",
   "execution_count": 100,
   "metadata": {},
   "outputs": [
    {
     "data": {
      "image/png": "[encoded data removed]",
      "text/plain": [
       "<Figure size 432x288 with 1 Axes>"
      ]
     },
     "metadata": {
      "needs_background": "light"
     },
     "output_type": "display_data"
    }
   ],
   "source": [
    "## different b\n",
    "for sim in res:\n",
    "#     print(sim[1], sim[0])\n",
    "    plt.scatter(sim[1], sim[0])\n",
    "# plt.show()"
   ]
  },
  {
   "cell_type": "code",
   "execution_count": 101,
   "metadata": {},
   "outputs": [
    {
     "data": {
      "image/png": "[encoded data removed]",
      "text/plain": [
       "<Figure size 432x288 with 1 Axes>"
      ]
     },
     "metadata": {
      "needs_background": "light"
     },
     "output_type": "display_data"
    }
   ],
   "source": [
    "## different r\n",
    "for sim in res:\n",
    "#     print(sim[1], sim[0])\n",
    "    plt.scatter(sim[2], sim[0])\n",
    "# plt.show()"
   ]
  },
  {
   "cell_type": "code",
   "execution_count": 102,
   "metadata": {},
   "outputs": [
    {
     "data": {
      "image/png": "[encoded data removed]",
      "text/plain": [
       "<Figure size 432x288 with 1 Axes>"
      ]
     },
     "metadata": {
      "needs_background": "light"
     },
     "output_type": "display_data"
    }
   ],
   "source": [
    "## different l\n",
    "for sim in res:\n",
    "    plt.scatter(sim[3], sim[0])"
   ]
  },
  {
   "cell_type": "code",
   "execution_count": null,
   "metadata": {},
   "outputs": [],
   "source": []
  },
  {
   "cell_type": "code",
   "execution_count": 49,
   "metadata": {},
   "outputs": [
    {
     "data": {
      "text/html": [
       "<div>\n",
       "<style scoped>\n",
       "    .dataframe tbody tr th:only-of-type {\n",
       "        vertical-align: middle;\n",
       "    }\n",
       "\n",
       "    .dataframe tbody tr th {\n",
       "        vertical-align: top;\n",
       "    }\n",
       "\n",
       "    .dataframe thead th {\n",
       "        text-align: right;\n",
       "    }\n",
       "</style>\n",
       "<table border=\"1\" class=\"dataframe\">\n",
       "  <thead>\n",
       "    <tr style=\"text-align: right;\">\n",
       "      <th></th>\n",
       "      <th>Unnamed: 0</th>\n",
       "      <th>doc1</th>\n",
       "      <th>doc2</th>\n",
       "      <th>sim</th>\n",
       "      <th>label</th>\n",
       "    </tr>\n",
       "  </thead>\n",
       "  <tbody>\n",
       "    <tr>\n",
       "      <th>0</th>\n",
       "      <td>0</td>\n",
       "      <td>0</td>\n",
       "      <td>1</td>\n",
       "      <td>0.058333</td>\n",
       "      <td>0</td>\n",
       "    </tr>\n",
       "    <tr>\n",
       "      <th>1</th>\n",
       "      <td>1</td>\n",
       "      <td>0</td>\n",
       "      <td>2</td>\n",
       "      <td>0.058333</td>\n",
       "      <td>0</td>\n",
       "    </tr>\n",
       "    <tr>\n",
       "      <th>2</th>\n",
       "      <td>2</td>\n",
       "      <td>0</td>\n",
       "      <td>3</td>\n",
       "      <td>0.067669</td>\n",
       "      <td>0</td>\n",
       "    </tr>\n",
       "    <tr>\n",
       "      <th>3</th>\n",
       "      <td>3</td>\n",
       "      <td>0</td>\n",
       "      <td>4</td>\n",
       "      <td>0.054852</td>\n",
       "      <td>0</td>\n",
       "    </tr>\n",
       "    <tr>\n",
       "      <th>4</th>\n",
       "      <td>4</td>\n",
       "      <td>0</td>\n",
       "      <td>5</td>\n",
       "      <td>0.072650</td>\n",
       "      <td>0</td>\n",
       "    </tr>\n",
       "  </tbody>\n",
       "</table>\n",
       "</div>"
      ],
      "text/plain": [
       "   Unnamed: 0  doc1  doc2       sim  label\n",
       "0           0     0     1  0.058333      0\n",
       "1           1     0     2  0.058333      0\n",
       "2           2     0     3  0.067669      0\n",
       "3           3     0     4  0.054852      0\n",
       "4           4     0     5  0.072650      0"
      ]
     },
     "execution_count": 49,
     "metadata": {},
     "output_type": "execute_result"
    }
   ],
   "source": []
  },
  {
   "cell_type": "code",
   "execution_count": 80,
   "metadata": {
    "pycharm": {
     "name": "#%%\n"
    },
    "scrolled": true
   },
   "outputs": [],
   "source": []
  },
  {
   "cell_type": "markdown",
   "metadata": {
    "pycharm": {
     "name": "#%% md\n"
    }
   },
   "source": [
    "## Method 2"
   ]
  },
  {
   "cell_type": "code",
   "execution_count": null,
   "metadata": {},
   "outputs": [],
   "source": [
    "inverted_signs = []\n",
    "\n",
    "for i in range(len(signatures[0])):\n",
    "    invert = []\n",
    "    for signature in signatures:\n",
    "        invert.append(signature[0])\n",
    "    inverted_signs.append(invert)\n"
   ]
  },
  {
   "cell_type": "code",
   "execution_count": 35,
   "metadata": {
    "pycharm": {
     "name": "#%%\n"
    }
   },
   "outputs": [],
   "source": [
    "def bandedCandidatePair(col1, col2, b, r):\n",
    "    \"\"\"Returns a boolean if the two columns are a candidate pair\n",
    "    inputs must obey n=len(col1)=len(col2)=b*r\"\"\"\n",
    "    n = len(col1)\n",
    "    assert(n==b*r)\n",
    "    assert(n==len(col2))\n",
    "    truth_array = (col1==col2)\n",
    "    return any(all(band) for band in np.array_split(truth_array,b))\n",
    "\n",
    "def bandedCandidatePairs(sig_mat, b, r):\n",
    "    d = sig_mat.shape[1]\n",
    "    idxs = range(d)\n",
    "    cols = [sig_mat[:,i] for i in range(d)]\n",
    "    pairs = set()\n",
    "    for (i,col1), (j,col2) in combinations(zip(idxs,cols),2):\n",
    "        if bandedCandidatePair(col1,col2,b,r):\n",
    "            pairs.add((i,j))\n",
    "    return pairs"
   ]
  },
  {
   "cell_type": "code",
   "execution_count": 36,
   "metadata": {
    "pycharm": {
     "name": "#%%\n"
    }
   },
   "outputs": [
    {
     "name": "stdout",
     "output_type": "stream",
     "text": [
      "Candidate pairs for n=100 b=5 and r=20.0\n",
      "Number of candidate pairs are 88\n",
      "Candidate pairs for n=100 b=10 and r=10.0\n",
      "Number of candidate pairs are 88\n",
      "Candidate pairs for n=100 b=20 and r=5.0\n",
      "Number of candidate pairs are 88\n",
      "Candidate pairs for n=100 b=25 and r=4.0\n",
      "Number of candidate pairs are 88\n"
     ]
    }
   ],
   "source": [
    "bs = [5, 10, 20, 25]\n",
    "n = 100\n",
    "\n",
    "matrix = np.array(inverted_signs)\n",
    "\n",
    "for b in bs:\n",
    "    r=n/b\n",
    "    pairs = bandedCandidatePairs(matrix, b, r)\n",
    "    print(f\"Candidate pairs for n=100 b={b} and r={100/b}\")\n",
    "    print(f\"Number of candidate pairs are {len(pairs)}\")"
   ]
  },
  {
   "cell_type": "code",
   "execution_count": 37,
   "metadata": {
    "pycharm": {
     "name": "#%%\n"
    }
   },
   "outputs": [
    {
     "data": {
      "text/plain": [
       "(100, 1000)"
      ]
     },
     "execution_count": 37,
     "metadata": {},
     "output_type": "execute_result"
    }
   ],
   "source": [
    "matrix.shape\n"
   ]
  },
  {
   "cell_type": "markdown",
   "metadata": {
    "pycharm": {
     "name": "#%%\n"
    }
   },
   "source": [
    "### compare with real results"
   ]
  },
  {
   "cell_type": "code",
   "execution_count": 23,
   "metadata": {},
   "outputs": [
    {
     "data": {
      "text/html": [
       "<div>\n",
       "<style scoped>\n",
       "    .dataframe tbody tr th:only-of-type {\n",
       "        vertical-align: middle;\n",
       "    }\n",
       "\n",
       "    .dataframe tbody tr th {\n",
       "        vertical-align: top;\n",
       "    }\n",
       "\n",
       "    .dataframe thead th {\n",
       "        text-align: right;\n",
       "    }\n",
       "</style>\n",
       "<table border=\"1\" class=\"dataframe\">\n",
       "  <thead>\n",
       "    <tr style=\"text-align: right;\">\n",
       "      <th></th>\n",
       "      <th>Unnamed: 0</th>\n",
       "      <th>doc1</th>\n",
       "      <th>doc2</th>\n",
       "      <th>sim</th>\n",
       "    </tr>\n",
       "  </thead>\n",
       "  <tbody>\n",
       "    <tr>\n",
       "      <th>0</th>\n",
       "      <td>0</td>\n",
       "      <td>0</td>\n",
       "      <td>1</td>\n",
       "      <td>0.058333</td>\n",
       "    </tr>\n",
       "    <tr>\n",
       "      <th>1</th>\n",
       "      <td>1</td>\n",
       "      <td>0</td>\n",
       "      <td>2</td>\n",
       "      <td>0.058333</td>\n",
       "    </tr>\n",
       "    <tr>\n",
       "      <th>2</th>\n",
       "      <td>2</td>\n",
       "      <td>0</td>\n",
       "      <td>3</td>\n",
       "      <td>0.067669</td>\n",
       "    </tr>\n",
       "    <tr>\n",
       "      <th>3</th>\n",
       "      <td>3</td>\n",
       "      <td>0</td>\n",
       "      <td>4</td>\n",
       "      <td>0.054852</td>\n",
       "    </tr>\n",
       "    <tr>\n",
       "      <th>4</th>\n",
       "      <td>4</td>\n",
       "      <td>0</td>\n",
       "      <td>5</td>\n",
       "      <td>0.072650</td>\n",
       "    </tr>\n",
       "  </tbody>\n",
       "</table>\n",
       "</div>"
      ],
      "text/plain": [
       "   Unnamed: 0  doc1  doc2       sim\n",
       "0           0     0     1  0.058333\n",
       "1           1     0     2  0.058333\n",
       "2           2     0     3  0.067669\n",
       "3           3     0     4  0.054852\n",
       "4           4     0     5  0.072650"
      ]
     },
     "execution_count": 23,
     "metadata": {},
     "output_type": "execute_result"
    }
   ],
   "source": []
  },
  {
   "cell_type": "code",
   "execution_count": 44,
   "metadata": {},
   "outputs": [
    {
     "name": "stdout",
     "output_type": "stream",
     "text": [
      "Confusion Matrix : \n",
      " [[499434     41]\n",
      " [     2     23]]\n",
      "Accuracy:  0.9999139139139139 \n",
      " Specificity:  0.9999179138095 \n",
      " Sensitivity:  0.92 \n",
      " Precision:  0.359375\n"
     ]
    }
   ],
   "source": [
    "#Confusion matrix, Accuracy, sensitivity and specificity\n",
    "from sklearn.metrics import confusion_matrix\n"
   ]
  },
  {
   "cell_type": "code",
   "execution_count": 42,
   "metadata": {},
   "outputs": [],
   "source": [
    "def calc_metrics(df):\n",
    "\n",
    "    cm = confusion_matrix(df[['label_real']],df[['label_calc']])\n",
    "    print('Confusion Matrix : \\n', cm)\n",
    "\n",
    "    total=sum(sum(cm))\n",
    "    #####from confusion matrix calculate accuracy\n",
    "    accuracy=(cm[0,0]+cm[1,1])/total\n",
    "    specificity = cm[0,0]/(cm[0,0]+cm[0,1])\n",
    "    sensitivity = cm[1,1]/(cm[1,0]+cm[1,1])\n",
    "    precision = cm[1,1]/(cm[0,1]+cm[1,1])\n",
    "    \n",
    "    return accuracy, specificity, sensitivity, precision"
   ]
  },
  {
   "cell_type": "code",
   "execution_count": 4,
   "metadata": {
    "pycharm": {
     "name": "#%%\n"
    }
   },
   "outputs": [
    {
     "name": "stdout",
     "output_type": "stream",
     "text": [
      "0.1\n"
     ]
    }
   ],
   "source": [
    "r = 2\n",
    "b = 100\n",
    "\n",
    "S = float((1/b)**(1/r))\n",
    "\n",
    "print(S)\n"
   ]
  }
 ],
 "metadata": {
  "kernelspec": {
   "name": "pycharm-4c4f150c",
   "language": "python",
   "display_name": "PyCharm (LSH_PlagiarismDetection)"
  },
  "language_info": {
   "codemirror_mode": {
    "name": "ipython",
    "version": 3
   },
   "file_extension": ".py",
   "mimetype": "text/x-python",
   "name": "python",
   "nbconvert_exporter": "python",
   "pygments_lexer": "ipython3",
   "version": "3.7.1"
  }
 },
 "nbformat": 4,
 "nbformat_minor": 1
}
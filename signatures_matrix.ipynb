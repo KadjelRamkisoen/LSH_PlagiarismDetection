{
 "cells": [
  {
   "cell_type": "markdown",
   "metadata": {
    "pycharm": {
     "name": "#%% md\n"
    }
   },
   "source": [
    "- Open the small file and prepare the data for creating shingles\n",
    "- n-gram = 4"
   ]
  },
  {
   "cell_type": "code",
   "execution_count": 169,
   "metadata": {
    "pycharm": {
     "name": "#%%\n"
    }
   },
   "outputs": [],
   "source": [
    "import pandas as pd\n",
    "import re\n",
    "import time\n",
    "import binascii\n",
    "import numpy as np\n",
    "import matplotlib.pyplot as plt"
   ]
  },
  {
   "cell_type": "code",
   "execution_count": 138,
   "metadata": {
    "pycharm": {
     "name": "#%%\n"
    }
   },
   "outputs": [],
   "source": [
    "small_dataset = 'data/news_articles_small.csv'\n",
    "df_small_dataset = pd.read_csv(small_dataset)"
   ]
  },
  {
   "cell_type": "code",
   "execution_count": 139,
   "metadata": {
    "pycharm": {
     "name": "#%%\n"
    }
   },
   "outputs": [
    {
     "data": {
      "text/html": [
       "<div>\n",
       "<style scoped>\n",
       "    .dataframe tbody tr th:only-of-type {\n",
       "        vertical-align: middle;\n",
       "    }\n",
       "\n",
       "    .dataframe tbody tr th {\n",
       "        vertical-align: top;\n",
       "    }\n",
       "\n",
       "    .dataframe thead th {\n",
       "        text-align: right;\n",
       "    }\n",
       "</style>\n",
       "<table border=\"1\" class=\"dataframe\">\n",
       "  <thead>\n",
       "    <tr style=\"text-align: right;\">\n",
       "      <th></th>\n",
       "      <th>News_ID</th>\n",
       "      <th>article</th>\n",
       "    </tr>\n",
       "  </thead>\n",
       "  <tbody>\n",
       "    <tr>\n",
       "      <th>0</th>\n",
       "      <td>0</td>\n",
       "      <td>russian foreign minister sergei kozyliev arriv...</td>\n",
       "    </tr>\n",
       "    <tr>\n",
       "      <th>1</th>\n",
       "      <td>1</td>\n",
       "      <td>''''' one one', and , the one theer , it was. ...</td>\n",
       "    </tr>\n",
       "    <tr>\n",
       "      <th>2</th>\n",
       "      <td>2</td>\n",
       "      <td>The threat of an opposition boycott and a smal...</td>\n",
       "    </tr>\n",
       "    <tr>\n",
       "      <th>3</th>\n",
       "      <td>3</td>\n",
       "      <td>The Bank of France increased its short-term in...</td>\n",
       "    </tr>\n",
       "    <tr>\n",
       "      <th>4</th>\n",
       "      <td>4</td>\n",
       "      <td>british foreign secretary douglas hurd said th...</td>\n",
       "    </tr>\n",
       "  </tbody>\n",
       "</table>\n",
       "</div>"
      ],
      "text/plain": [
       "   News_ID                                            article\n",
       "0        0  russian foreign minister sergei kozyliev arriv...\n",
       "1        1  ''''' one one', and , the one theer , it was. ...\n",
       "2        2  The threat of an opposition boycott and a smal...\n",
       "3        3  The Bank of France increased its short-term in...\n",
       "4        4  british foreign secretary douglas hurd said th..."
      ]
     },
     "execution_count": 139,
     "metadata": {},
     "output_type": "execute_result"
    }
   ],
   "source": [
    "df_small_dataset.head()"
   ]
  },
  {
   "cell_type": "code",
   "execution_count": 140,
   "metadata": {
    "pycharm": {
     "name": "#%%\n"
    }
   },
   "outputs": [],
   "source": [
    "#Pre-process data\n",
    "#Convert to lowercase.\n",
    "df_small_dataset['article'] = df_small_dataset['article'].str.lower()\n",
    "\n",
    "#Remove punctuation\n",
    "p = re.compile(r'[^\\w\\s]+')\n",
    "df_small_dataset['article'] = [p.sub('', x) for x in df_small_dataset['article'].tolist()]\n"
   ]
  },
  {
   "cell_type": "code",
   "execution_count": 141,
   "metadata": {
    "pycharm": {
     "name": "#%%\n"
    }
   },
   "outputs": [],
   "source": [
    "#Split each document in a list of words\n",
    "small_dataset_split = []\n",
    "for idx, row in df_small_dataset.iterrows():\n",
    "    small_dataset_split.append(row[1].split())\n",
    "\n",
    "df_small_dataset['splitted'] = small_dataset_split"
   ]
  },
  {
   "cell_type": "code",
   "execution_count": 278,
   "metadata": {},
   "outputs": [
    {
     "data": {
      "text/plain": [
       "['russian',\n",
       " 'foreign',\n",
       " 'minister',\n",
       " 'sergei',\n",
       " 'kozyliev',\n",
       " 'arrived',\n",
       " 'at',\n",
       " 'on',\n",
       " 'of',\n",
       " 'of',\n",
       " 'of',\n",
       " 'of',\n",
       " 'were',\n",
       " 'talks',\n",
       " 'on',\n",
       " 'the',\n",
       " 'extension',\n",
       " 'of',\n",
       " 'of',\n",
       " 'nuclear',\n",
       " 'non',\n",
       " 'proliferation',\n",
       " 'treaty',\n",
       " 'the',\n",
       " 'united',\n",
       " 'states',\n",
       " 'states',\n",
       " 'forces',\n",
       " 'opened',\n",
       " 'a',\n",
       " 'prison',\n",
       " 'in',\n",
       " 'to',\n",
       " 'to',\n",
       " 's',\n",
       " 'and',\n",
       " 'government',\n",
       " 'officials',\n",
       " 'say',\n",
       " 'to',\n",
       " 'bring',\n",
       " 'new',\n",
       " 'new',\n",
       " 'back',\n",
       " 'to',\n",
       " 'the',\n",
       " 'world',\n",
       " 'world',\n",
       " 'when',\n",
       " 'the',\n",
       " 'cubans',\n",
       " 'were',\n",
       " 'arrived',\n",
       " 'people',\n",
       " 'in',\n",
       " 'the',\n",
       " 'city',\n",
       " 'welcomed',\n",
       " 'housing',\n",
       " 'to',\n",
       " 'the',\n",
       " 'the',\n",
       " 'the',\n",
       " 'jobs',\n",
       " 'and',\n",
       " 'boosted',\n",
       " 'and',\n",
       " 'the',\n",
       " 'the',\n",
       " 'the',\n",
       " 'worlds',\n",
       " 's',\n",
       " 's',\n",
       " 'dependence',\n",
       " 'on',\n",
       " 'education',\n",
       " 'the',\n",
       " 'family',\n",
       " 'of',\n",
       " 'and',\n",
       " 'a',\n",
       " 'one',\n",
       " 'student',\n",
       " 'filed',\n",
       " 'a',\n",
       " 'a',\n",
       " 'suit',\n",
       " 'led',\n",
       " 'to',\n",
       " 'a',\n",
       " 'a',\n",
       " 'teachers',\n",
       " 'union',\n",
       " 'and',\n",
       " 'and',\n",
       " 'and',\n",
       " 'and',\n",
       " 'pressured',\n",
       " 'the',\n",
       " 'students',\n",
       " 'to',\n",
       " 'change',\n",
       " 'the',\n",
       " 'classroom',\n",
       " 'space',\n",
       " 'for',\n",
       " 'the',\n",
       " 'to',\n",
       " 'teachers',\n",
       " 'the',\n",
       " 'meanwhile',\n",
       " 'many',\n",
       " 'people',\n",
       " 'demonstrated',\n",
       " 'at',\n",
       " 'at',\n",
       " 'japanese',\n",
       " 'consulate',\n",
       " 'in',\n",
       " 'the',\n",
       " 'southern',\n",
       " 'chinese',\n",
       " 'city',\n",
       " 'of',\n",
       " 'beijing',\n",
       " 'hangzhou',\n",
       " 'american',\n",
       " 'american',\n",
       " 'diplomat',\n",
       " 'and',\n",
       " 'chang',\n",
       " 'and',\n",
       " 'and',\n",
       " 'in',\n",
       " 'beijing',\n",
       " 'the',\n",
       " 'loss',\n",
       " 'of',\n",
       " 'the',\n",
       " 'and',\n",
       " 'the',\n",
       " 'deadly',\n",
       " 'nuclear',\n",
       " 'of',\n",
       " 'of',\n",
       " 'this',\n",
       " 'weekend',\n",
       " 'proved',\n",
       " 'again',\n",
       " 'again',\n",
       " 'commuters',\n",
       " 'and',\n",
       " 'truckers',\n",
       " 'the',\n",
       " 'out',\n",
       " 'to',\n",
       " 'the',\n",
       " 'stretch',\n",
       " 'of',\n",
       " 'highway',\n",
       " 'that',\n",
       " 'handles',\n",
       " 'the',\n",
       " 'to',\n",
       " 'a',\n",
       " 'day',\n",
       " 'in',\n",
       " 'july',\n",
       " 'green',\n",
       " 'bay',\n",
       " 'packers',\n",
       " 'and',\n",
       " 'free',\n",
       " 'food',\n",
       " 'trade',\n",
       " 'food',\n",
       " 'in',\n",
       " 'western',\n",
       " 'europe',\n",
       " 'in',\n",
       " 'summer',\n",
       " 'vacation']"
      ]
     },
     "execution_count": 278,
     "metadata": {},
     "output_type": "execute_result"
    }
   ],
   "source": [
    "small_dataset_split[0]"
   ]
  },
  {
   "cell_type": "code",
   "execution_count": null,
   "metadata": {},
   "outputs": [],
   "source": [
    "def random_hash(value, rand_value):\n",
    "#     return int.from_bytes(hashlib.md5(str(value).encode()).digest(), \"big\")\n",
    "    return binascii.crc32(value.to_bytes(32, \"little\")) & rand_value"
   ]
  },
  {
   "cell_type": "code",
   "execution_count": null,
   "metadata": {},
   "outputs": [],
   "source": [
    "def random_list(n, seed=10):\n",
    "    random.seed(seed)\n",
    "    l = []\n",
    "    for i in range(n):\n",
    "        r = random.getrandbits(32)\n",
    "        l.append(r)\n",
    "    return l"
   ]
  },
  {
   "cell_type": "code",
   "execution_count": 144,
   "metadata": {
    "pycharm": {
     "name": "#%%#%%\n"
    },
    "scrolled": true
   },
   "outputs": [
    {
     "name": "stdout",
     "output_type": "stream",
     "text": [
      "Time spent:  23.920265197753906\n"
     ]
    }
   ],
   "source": [
    "#Add shingles with ngram 4\n",
    "#Source: https://github.com/chrisjmccormick/MinHash/blob/master/runMinHashExample.py\n",
    "shingleID = 0\n",
    "\n",
    "shingledDocs = {}\n",
    "docIds = []\n",
    "\n",
    "t0 = time.time()\n",
    "\n",
    "totalShingles = 0\n",
    "\n",
    "for idx, row in df_small_dataset.iterrows():\n",
    "    shingles = set()\n",
    "    for i in range(0, len(row[2]) - 3):\n",
    "        shingle = row[2][i]+ \" \" + row[2][i + 1] + \" \" + row[2][i + 2] + \" \" + row[2][i + 3]\n",
    "        crc =  binascii.crc32(bytes(shingle, 'utf-8')) & 0xffffffff\n",
    "            # may be replaces by a fingerprint function \n",
    "        shingles.add(crc)\n",
    "        \n",
    "    shingledDocs[row[0]]= shingles\n",
    "    docIds.append(row[0])\n",
    "    totalShingles = totalShingles + (len(row[2]) - 3)\n",
    "\n",
    "t1 = time.time()\n",
    "print('Time spent: ', t1-t0)"
   ]
  },
  {
   "cell_type": "code",
   "execution_count": 172,
   "metadata": {},
   "outputs": [
    {
     "name": "stdout",
     "output_type": "stream",
     "text": [
      "Generating random hash functions...\n",
      "[2454155475, 139951793, 1842064464, 2072586604, 2482883256, 63704871, 885185152, 1986768135, 3493188185, 2110102074, 3537287287, 1191942149, 2806643141, 3481581187, 688180719, 147762233, 2236257879, 2104901561, 1407773507, 326801271, 1073727536, 4090523526, 4092317458, 3202098662, 4280179695, 1551164510, 191368220, 1805587908, 3694363523, 595665893, 2590683945, 1525064232, 1638985225, 1809315075, 1218130959, 3551286111, 2898951949, 1126660590, 1962074861, 750204460, 2945752670, 1301826559, 2842608307, 1557301086, 571136778, 1962492619, 3297838288, 3693882924, 4219432797, 1028130498, 4163490463, 1888272822, 2634218640, 1611656385, 190097954, 2503671984, 17416711, 1012125923, 575407617, 837318074, 4041573968, 3906651747, 1300776207, 2303584948, 1572583374, 3315953022, 3857723518, 1031575033, 1350182240, 2863411522, 2357860530, 1935411051, 1872738711, 2018522846, 279147864, 2804517990, 2510606935, 1394525548, 3625244021, 2155717189, 671814141, 3617114575, 963356730, 4165189048, 1773264063, 1023808567, 158591132, 136350985, 2132895778, 1293490592, 3513209658, 2605658799, 2825620078, 309386978, 2291295182, 3969699439, 3672737108, 347675769, 642905655, 1651066438, 2436257803, 4061171041, 1607068580, 3921144417, 2582583383, 642791926, 484969234, 4139474593, 3330801671, 3320602952, 414918889, 1896446361, 714526826, 4217396966, 3467970294, 820021391, 4070314413, 1497573913, 1860715120, 4168208350, 1778463616, 1913868653, 1054336614, 2923968929, 1179842093, 616384544, 2651080454, 2241358555, 766481601, 3714642433, 513173442, 1146872517, 1957366328, 1299528385, 708402483, 2836489566, 2786251934, 4050263615, 3526407276, 748647062, 3339386002, 756298389, 2062157208, 3319362662, 1492807196, 1409023852, 1867067592, 960636741, 21511650, 2340115320, 3060478596, 187573865, 1424456923, 3852269455, 1371912370, 1042056481, 343275405, 1124281918, 1924385547, 1738570580, 2503317276, 679601457, 1677558143, 3954032936, 3734669679, 2129274161, 2892030038, 3837454326, 1036840490, 3162473954, 2256377574, 4261772741, 3910712991, 1166910959, 2233854120, 2072727796, 2586020714, 2146968301, 269610676, 714291923, 2101897365, 2896072754, 1981875124, 3856830654, 1722839737, 583087221, 1805756106, 2324833549, 2512276896, 1499933654, 2313557355, 1665675374, 2104086255, 3014016931, 712090285, 2399684258, 1895570172, 423703972, 4160441161, 4183223307]\n"
     ]
    }
   ],
   "source": [
    "print(\"Generating random hash functions...\")\n",
    "# Number of hash functions\n",
    "M = 200\n",
    "random_values = random_list(M)\n",
    "\n",
    "signatures = []"
   ]
  },
  {
   "cell_type": "code",
   "execution_count": 173,
   "metadata": {},
   "outputs": [
    {
     "name": "stdout",
     "output_type": "stream",
     "text": [
      "Time spent:  47.81720471382141\n"
     ]
    }
   ],
   "source": [
    "t0 = time.time()\n",
    "\n",
    "for doc in docIds:\n",
    "    signature = []\n",
    "#     print(shingledDocs[doc])\n",
    "    for hash_fun in range(M):\n",
    "        min_value = 1e11\n",
    "        random_value = random_values[hash_fun]\n",
    "#         print(\"random_value \", random_value)\n",
    "        for shingle in shingledDocs[doc]:\n",
    "            hash_value = random_hash(shingle, random_value)\n",
    "#             print(\"shingle\", shingle)\n",
    "#             print(\"h_value \", hash_value)\n",
    "            if hash_value < min_value:\n",
    "                min_value = hash_value\n",
    "        signature.append(min_value)\n",
    "#         print(min_value, \" hash number: \", hash_fun, \" sign\", signature)\n",
    "    signatures.append(signature)\n",
    "#     print(signatures)\n",
    "    \n",
    "t1 = time.time()\n",
    "print('Time spent: ', t1-t0)"
   ]
  },
  {
   "cell_type": "code",
   "execution_count": 252,
   "metadata": {},
   "outputs": [
    {
     "data": {
      "text/plain": [
       "200"
      ]
     },
     "execution_count": 252,
     "metadata": {},
     "output_type": "execute_result"
    }
   ],
   "source": [
    "len(signatures[0])"
   ]
  },
  {
   "cell_type": "code",
   "execution_count": 133,
   "metadata": {},
   "outputs": [],
   "source": []
  },
  {
   "cell_type": "code",
   "execution_count": 96,
   "metadata": {},
   "outputs": [],
   "source": []
  },
  {
   "cell_type": "code",
   "execution_count": null,
   "metadata": {},
   "outputs": [],
   "source": []
  },
  {
   "cell_type": "code",
   "execution_count": 7,
   "metadata": {
    "pycharm": {
     "name": "#%%\n"
    }
   },
   "outputs": [],
   "source": [
    "def jaccard(list1, list2):\n",
    "    intersection = len(list(set(list1).intersection(list2)))\n",
    "    union = (len(list1) + len(list2)) - intersection\n",
    "    return float(intersection) / union"
   ]
  },
  {
   "cell_type": "code",
   "execution_count": null,
   "metadata": {},
   "outputs": [],
   "source": []
  },
  {
   "cell_type": "code",
   "execution_count": 175,
   "metadata": {},
   "outputs": [
    {
     "name": "stdout",
     "output_type": "stream",
     "text": [
      "0 / 1000\n",
      "100 / 1000\n",
      "200 / 1000\n",
      "300 / 1000\n",
      "400 / 1000\n",
      "500 / 1000\n",
      "600 / 1000\n",
      "700 / 1000\n",
      "800 / 1000\n",
      "900 / 1000\n",
      "Time:  11.280529737472534\n"
     ]
    }
   ],
   "source": [
    "#Calculate Jaccard similarities\n",
    "t0 = time.time()\n",
    "\n",
    "JSim_list = []\n",
    "\n",
    "for i in range(0, len(signatures)):\n",
    "# Print progress every 100 documents.\n",
    "    if (i % 100) == 0:\n",
    "        print(str(i) + \" / \" + str(len(signatures)))\n",
    "\n",
    "    docId1 = i\n",
    "    s1 = signatures[i]\n",
    "\n",
    "    for j in range(i + 1, len(signatures)):\n",
    "        # Retrieve the set of shingles for document j.\n",
    "        docId2 = j\n",
    "        s2 = signatures[j]\n",
    "\n",
    "        # Calculate and store the actual Jaccard similarity.\n",
    "        similarity = jaccard(s1, s2)\n",
    "        JSim_list.append([docId1, docId2, similarity])\n",
    "\n",
    "t1= time.time()\n",
    "print('Time: ', t1-t0)"
   ]
  },
  {
   "cell_type": "code",
   "execution_count": null,
   "metadata": {},
   "outputs": [],
   "source": []
  },
  {
   "cell_type": "code",
   "execution_count": 253,
   "metadata": {},
   "outputs": [
    {
     "data": {
      "text/plain": [
       "[0, 1, 0.015228426395939087]"
      ]
     },
     "execution_count": 253,
     "metadata": {},
     "output_type": "execute_result"
    }
   ],
   "source": [
    "JSim_list[0]"
   ]
  },
  {
   "cell_type": "code",
   "execution_count": 260,
   "metadata": {},
   "outputs": [],
   "source": [
    "sim = pd.DataFrame(JSim_list, columns=[\"doc1\", \"doc2\", \"sim\"])\n",
    "sim['label'] = np.where(sim['sim'] >= 0.5, 1, 0)"
   ]
  },
  {
   "cell_type": "code",
   "execution_count": 171,
   "metadata": {},
   "outputs": [
    {
     "data": {
      "image/png": "[encoded data removed]",
      "text/plain": [
       "<Figure size 720x360 with 1 Axes>"
      ]
     },
     "metadata": {
      "needs_background": "light"
     },
     "output_type": "display_data"
    }
   ],
   "source": [
    "plt.figure(figsize=(10,5))\n",
    "plt.hist(df.sim, log=True, bins=20)\n",
    "plt.title(\"Number of articles and their similarity with each other (M=20)\")\n",
    "plt.xlabel(\"Similarity\")\n",
    "plt.ylabel(\"Frequency\")\n",
    "\n",
    "plt.show()"
   ]
  },
  {
   "cell_type": "code",
   "execution_count": 267,
   "metadata": {},
   "outputs": [
    {
     "data": {
      "image/png": "[encoded data removed]",
      "text/plain": [
       "<Figure size 720x360 with 1 Axes>"
      ]
     },
     "metadata": {
      "needs_background": "light"
     },
     "output_type": "display_data"
    }
   ],
   "source": [
    "plt.figure(figsize=(10,5))\n",
    "plt.hist(df.sim, log=True, bins=20)\n",
    "plt.title(\"Number of articles and their similarity with each other (M=200)\")\n",
    "plt.xlabel(\"Similarity\")\n",
    "plt.ylabel(\"Frequency\")\n",
    "\n",
    "plt.show()"
   ]
  },
  {
   "cell_type": "code",
   "execution_count": 182,
   "metadata": {},
   "outputs": [
    {
     "data": {
      "text/plain": [
       "array([0.        , 0.01010101, 0.02020202, 0.03030303, 0.04040404,\n",
       "       0.05050505, 0.06060606, 0.07070707, 0.08080808, 0.09090909,\n",
       "       0.1010101 , 0.11111111, 0.12121212, 0.13131313, 0.14141414,\n",
       "       0.15151515, 0.16161616, 0.17171717, 0.18181818, 0.19191919,\n",
       "       0.2020202 , 0.21212121, 0.22222222, 0.23232323, 0.24242424,\n",
       "       0.25252525, 0.26262626, 0.27272727, 0.28282828, 0.29292929,\n",
       "       0.3030303 , 0.31313131, 0.32323232, 0.33333333, 0.34343434,\n",
       "       0.35353535, 0.36363636, 0.37373737, 0.38383838, 0.39393939,\n",
       "       0.4040404 , 0.41414141, 0.42424242, 0.43434343, 0.44444444,\n",
       "       0.45454545, 0.46464646, 0.47474747, 0.48484848, 0.49494949,\n",
       "       0.50505051, 0.51515152, 0.52525253, 0.53535354, 0.54545455,\n",
       "       0.55555556, 0.56565657, 0.57575758, 0.58585859, 0.5959596 ,\n",
       "       0.60606061, 0.61616162, 0.62626263, 0.63636364, 0.64646465,\n",
       "       0.65656566, 0.66666667, 0.67676768, 0.68686869, 0.6969697 ,\n",
       "       0.70707071, 0.71717172, 0.72727273, 0.73737374, 0.74747475,\n",
       "       0.75757576, 0.76767677, 0.77777778, 0.78787879, 0.7979798 ,\n",
       "       0.80808081, 0.81818182, 0.82828283, 0.83838384, 0.84848485,\n",
       "       0.85858586, 0.86868687, 0.87878788, 0.88888889, 0.8989899 ,\n",
       "       0.90909091, 0.91919192, 0.92929293, 0.93939394, 0.94949495,\n",
       "       0.95959596, 0.96969697, 0.97979798, 0.98989899, 1.        ])"
      ]
     },
     "execution_count": 182,
     "metadata": {},
     "output_type": "execute_result"
    }
   ],
   "source": [
    "pts"
   ]
  },
  {
   "cell_type": "code",
   "execution_count": 184,
   "metadata": {},
   "outputs": [
    {
     "data": {
      "text/plain": [
       "<function __main__.<lambda>(p, r, b)>"
      ]
     },
     "execution_count": 184,
     "metadata": {},
     "output_type": "execute_result"
    }
   ],
   "source": [
    "yval"
   ]
  },
  {
   "cell_type": "code",
   "execution_count": 186,
   "metadata": {},
   "outputs": [],
   "source": [
    "def prob_fun(r,b,p):\n",
    "    return 1-(1-p**r)**b"
   ]
  },
  {
   "cell_type": "code",
   "execution_count": 188,
   "metadata": {
    "scrolled": false
   },
   "outputs": [
    {
     "name": "stdout",
     "output_type": "stream",
     "text": [
      "[0.         0.01015168 0.03999856 0.08777586 0.15073333 0.22539487\n",
      " 0.30787292 0.3941985  0.48062854 0.56389851 0.64139896 0.71126674\n",
      " 0.77239373 0.82436605 0.86735283 0.90196643 0.929115   0.94986451\n",
      " 0.96532239 0.97654905 0.98449876 0.98998742 0.99368213 0.99610683\n",
      " 0.99765794 0.998625   0.9992125  0.99956019 0.99976058 0.99987301\n",
      " 0.99993441 0.99996702 0.99998387 0.99999233 0.99999646 0.99999841\n",
      " 0.99999931 0.99999971 0.99999988 0.99999995 0.99999998 0.99999999\n",
      " 1.         1.         1.         1.         1.         1.\n",
      " 1.         1.         1.         1.         1.         1.\n",
      " 1.         1.         1.         1.         1.         1.\n",
      " 1.         1.         1.         1.         1.         1.\n",
      " 1.         1.         1.         1.         1.         1.\n",
      " 1.         1.         1.         1.         1.         1.\n",
      " 1.         1.         1.         1.         1.         1.\n",
      " 1.         1.         1.         1.         1.         1.\n",
      " 1.         1.         1.         1.         1.         1.\n",
      " 1.         1.         1.         1.        ]\n",
      "[0.00000000e+00 5.20510047e-07 8.32812886e-06 4.21604534e-05\n",
      " 1.33241906e-04 3.25267009e-04 6.74358259e-04 1.24897993e-03\n",
      " 2.12978393e-03 3.40935880e-03 5.19184825e-03 7.59240134e-03\n",
      " 1.07364130e-02 1.47585113e-02 1.98012467e-02 2.60134397e-02\n",
      " 3.35481463e-02 4.25602087e-02 5.32033643e-02 6.56269060e-02\n",
      " 7.99718981e-02 9.63669799e-02 1.14923812e-01 1.35732257e-01\n",
      " 1.58855405e-01 1.84324619e-01 2.12134774e-01 2.42239929e-01\n",
      " 2.74549671e-01 3.08926415e-01 3.45183921e-01 3.83087292e-01\n",
      " 4.22354693e-01 4.62660947e-01 5.03643123e-01 5.44908101e-01\n",
      " 5.86042000e-01 6.26621222e-01 6.66224713e-01 7.04446949e-01\n",
      " 7.40911009e-01 7.75281064e-01 8.07273537e-01 8.36666256e-01\n",
      " 8.63304991e-01 8.87106897e-01 9.08060605e-01 9.26222927e-01\n",
      " 9.41712381e-01 9.54700011e-01 9.65398141e-01 9.74047915e-01\n",
      " 9.80906474e-01 9.86234678e-01 9.90286139e-01 9.93298181e-01\n",
      " 9.95485105e-01 9.97033932e-01 9.98102509e-01 9.98819710e-01\n",
      " 9.99287298e-01 9.99582951e-01 9.99763942e-01 9.99871017e-01\n",
      " 9.99932111e-01 9.99965661e-01 9.99983350e-01 9.99992283e-01\n",
      " 9.99996591e-01 9.99998569e-01 9.99999432e-01 9.99999787e-01\n",
      " 9.99999925e-01 9.99999975e-01 9.99999993e-01 9.99999998e-01\n",
      " 9.99999999e-01 1.00000000e+00 1.00000000e+00 1.00000000e+00\n",
      " 1.00000000e+00 1.00000000e+00 1.00000000e+00 1.00000000e+00\n",
      " 1.00000000e+00 1.00000000e+00 1.00000000e+00 1.00000000e+00\n",
      " 1.00000000e+00 1.00000000e+00 1.00000000e+00 1.00000000e+00\n",
      " 1.00000000e+00 1.00000000e+00 1.00000000e+00 1.00000000e+00\n",
      " 1.00000000e+00 1.00000000e+00 1.00000000e+00 1.00000000e+00]\n",
      "[0.00000000e+00 0.00000000e+00 0.00000000e+00 1.33226763e-14\n",
      " 2.30926389e-13 2.16049401e-12 1.33715261e-11 6.24678087e-11\n",
      " 2.37452280e-10 7.71087638e-10 2.21145546e-09 5.73594505e-09\n",
      " 1.36927446e-08 3.04867815e-08 6.39673539e-08 1.27523615e-07\n",
      " 2.43151988e-07 4.45827827e-07 7.89592360e-07 1.35585666e-06\n",
      " 2.26452719e-06 3.68867367e-06 5.87359025e-06 9.16124547e-06\n",
      " 1.40212772e-05 2.10898643e-05 3.12180009e-05 4.55309067e-05\n",
      " 6.55005355e-05 9.30333878e-05 1.30576090e-04 1.81241479e-04\n",
      " 2.48958220e-04 3.38647270e-04 4.56428806e-04 6.09863515e-04\n",
      " 8.08232429e-04 1.06285969e-03 1.38748286e-03 1.79867540e-03\n",
      " 2.31632594e-03 2.96417874e-03 3.77043916e-03 4.76844725e-03\n",
      " 5.99742099e-03 7.50326917e-03 9.33947071e-03 1.15680138e-02\n",
      " 1.42603833e-02 1.74985773e-02 2.13761274e-02 2.59990833e-02\n",
      " 3.14869121e-02 3.79732435e-02 4.56063751e-02 5.45494257e-02\n",
      " 6.49800028e-02 7.70892169e-02 9.10798511e-02 1.07163464e-01\n",
      " 1.25556178e-01 1.46472905e-01 1.70119754e-01 1.96684401e-01\n",
      " 2.26324290e-01 2.59152649e-01 2.95222487e-01 3.34509050e-01\n",
      " 3.76891526e-01 4.22135270e-01 4.69876301e-01 5.19610316e-01\n",
      " 5.70688925e-01 6.22326006e-01 6.73616976e-01 7.23573073e-01\n",
      " 7.71171391e-01 8.15419288e-01 8.55428901e-01 8.90494355e-01\n",
      " 9.20161288e-01 9.44276605e-01 9.63006842e-01 9.76817108e-01\n",
      " 9.86409390e-01 9.92628020e-01 9.96349110e-01 9.98376357e-01\n",
      " 9.99364965e-01 9.99787343e-01 9.99941139e-01 9.99987161e-01\n",
      " 9.99997936e-01 9.99999778e-01 9.99999986e-01 1.00000000e+00\n",
      " 1.00000000e+00 1.00000000e+00 1.00000000e+00 1.00000000e+00]\n",
      "[0.00000000e+00 0.00000000e+00 0.00000000e+00 0.00000000e+00\n",
      " 0.00000000e+00 0.00000000e+00 0.00000000e+00 0.00000000e+00\n",
      " 0.00000000e+00 0.00000000e+00 0.00000000e+00 0.00000000e+00\n",
      " 0.00000000e+00 0.00000000e+00 0.00000000e+00 0.00000000e+00\n",
      " 1.11022302e-15 4.44089210e-15 1.55431223e-14 4.55191440e-14\n",
      " 1.27675648e-13 3.39728246e-13 8.62643290e-13 2.09832152e-12\n",
      " 4.91495733e-12 1.11199938e-11 2.43649545e-11 5.18285415e-11\n",
      " 1.07264198e-10 2.16399121e-10 4.26305657e-10 8.21352986e-10\n",
      " 1.54987134e-09 2.86797253e-09 5.21044097e-09 9.30372779e-09\n",
      " 1.63435397e-08 2.82703113e-08 4.81912322e-08 8.10192528e-08\n",
      " 1.34429910e-07 2.20279052e-07 3.56682536e-07 5.71038130e-07\n",
      " 9.04376901e-07 1.41757520e-06 2.20015011e-06 3.38261527e-06\n",
      " 5.15370847e-06 7.78423946e-06 1.16598756e-05 1.73259176e-05\n",
      " 2.55480635e-05 3.73943675e-05 5.43451364e-05 7.84394551e-05\n",
      " 1.12469475e-04 1.60236667e-04 2.26888056e-04 3.19355147e-04\n",
      " 4.46924082e-04 6.21972558e-04 8.60917602e-04 1.18542836e-03\n",
      " 1.62396999e-03 2.21375833e-03 3.00322016e-03 4.05506999e-03\n",
      " 5.45012987e-03 7.29203192e-03 9.71294904e-03 1.28804926e-02\n",
      " 1.70058843e-02 2.23534371e-02 2.92512460e-02 3.81027498e-02\n",
      " 4.93984434e-02 6.37264213e-02 8.17795451e-02 1.04355779e-01\n",
      " 1.32346561e-01 1.66706040e-01 2.08391815e-01 2.58266140e-01\n",
      " 3.16946691e-01 3.84600166e-01 4.60683721e-01 5.43662516e-01\n",
      " 6.30769528e-01 7.17923094e-01 7.99961353e-01 8.71349440e-01\n",
      " 9.27399076e-01 9.65753169e-01 9.87478376e-01 9.96873419e-01\n",
      " 9.99579529e-01 9.99982125e-01 9.99999956e-01 1.00000000e+00]\n",
      "[0.00000000e+00 0.00000000e+00 0.00000000e+00 0.00000000e+00\n",
      " 0.00000000e+00 0.00000000e+00 0.00000000e+00 0.00000000e+00\n",
      " 0.00000000e+00 0.00000000e+00 0.00000000e+00 0.00000000e+00\n",
      " 0.00000000e+00 0.00000000e+00 0.00000000e+00 0.00000000e+00\n",
      " 0.00000000e+00 0.00000000e+00 0.00000000e+00 0.00000000e+00\n",
      " 0.00000000e+00 0.00000000e+00 0.00000000e+00 0.00000000e+00\n",
      " 0.00000000e+00 0.00000000e+00 0.00000000e+00 0.00000000e+00\n",
      " 0.00000000e+00 0.00000000e+00 0.00000000e+00 0.00000000e+00\n",
      " 0.00000000e+00 0.00000000e+00 0.00000000e+00 0.00000000e+00\n",
      " 0.00000000e+00 0.00000000e+00 0.00000000e+00 0.00000000e+00\n",
      " 0.00000000e+00 0.00000000e+00 0.00000000e+00 0.00000000e+00\n",
      " 0.00000000e+00 0.00000000e+00 0.00000000e+00 4.44089210e-16\n",
      " 8.88178420e-16 2.22044605e-15 5.77315973e-15 1.59872116e-14\n",
      " 4.17443857e-14 1.08357767e-13 2.75335310e-13 6.89226454e-13\n",
      " 1.69686487e-12 4.11182199e-12 9.81081882e-12 2.30619968e-11\n",
      " 5.34394751e-11 1.22121424e-10 2.75349965e-10 6.12812467e-10\n",
      " 1.34678713e-09 2.92393754e-09 6.27331431e-09 1.33057817e-08\n",
      " 2.79091040e-08 5.79101634e-08 1.18905582e-07 2.41667171e-07\n",
      " 4.86323218e-07 9.69266292e-07 1.91375323e-06 3.74423261e-06\n",
      " 7.26070335e-06 1.39583552e-05 2.66088474e-05 5.03091098e-05\n",
      " 9.43591985e-05 1.75599229e-04 3.24294855e-04 5.94440029e-04\n",
      " 1.08165392e-03 1.95401579e-03 3.50470326e-03 6.24085345e-03\n",
      " 1.10313687e-02 1.93475173e-02 3.36412782e-02 5.79049586e-02\n",
      " 9.84019067e-02 1.64344298e-01 2.67671781e-01 4.19639618e-01\n",
      " 6.19657086e-01 8.32683529e-01 9.74889839e-01 1.00000000e+00]\n",
      "[0.00000000e+00 0.00000000e+00 0.00000000e+00 0.00000000e+00\n",
      " 0.00000000e+00 0.00000000e+00 0.00000000e+00 0.00000000e+00\n",
      " 0.00000000e+00 0.00000000e+00 0.00000000e+00 0.00000000e+00\n",
      " 0.00000000e+00 0.00000000e+00 0.00000000e+00 0.00000000e+00\n",
      " 0.00000000e+00 0.00000000e+00 0.00000000e+00 0.00000000e+00\n",
      " 0.00000000e+00 0.00000000e+00 0.00000000e+00 0.00000000e+00\n",
      " 0.00000000e+00 0.00000000e+00 0.00000000e+00 0.00000000e+00\n",
      " 0.00000000e+00 0.00000000e+00 0.00000000e+00 0.00000000e+00\n",
      " 0.00000000e+00 0.00000000e+00 0.00000000e+00 0.00000000e+00\n",
      " 0.00000000e+00 0.00000000e+00 0.00000000e+00 0.00000000e+00\n",
      " 0.00000000e+00 0.00000000e+00 0.00000000e+00 0.00000000e+00\n",
      " 0.00000000e+00 0.00000000e+00 0.00000000e+00 0.00000000e+00\n",
      " 0.00000000e+00 0.00000000e+00 0.00000000e+00 0.00000000e+00\n",
      " 0.00000000e+00 0.00000000e+00 0.00000000e+00 0.00000000e+00\n",
      " 0.00000000e+00 0.00000000e+00 0.00000000e+00 0.00000000e+00\n",
      " 0.00000000e+00 0.00000000e+00 0.00000000e+00 0.00000000e+00\n",
      " 0.00000000e+00 0.00000000e+00 0.00000000e+00 0.00000000e+00\n",
      " 0.00000000e+00 4.44089210e-16 1.77635684e-15 7.32747196e-15\n",
      " 2.95319325e-14 1.17461596e-13 4.57855975e-13 1.75237602e-12\n",
      " 6.58983978e-12 2.43547404e-11 8.85056473e-11 3.16387805e-10\n",
      " 1.11303611e-09 3.85489396e-09 1.31490923e-08 4.41895693e-08\n",
      " 1.46365637e-07 4.77972660e-07 1.53941422e-06 4.89142351e-06\n",
      " 1.53382597e-05 4.74794900e-05 1.45126166e-04 4.38129192e-04\n",
      " 1.30662612e-03 3.84934511e-03 1.11963157e-02 3.20881334e-02\n",
      " 9.00551320e-02 2.42949318e-01 5.93359751e-01 1.00000000e+00]\n"
     ]
    }
   ],
   "source": [
    "for op in ops:\n",
    "    print(prob_fun(op[0], op[1], pts ))"
   ]
  },
  {
   "cell_type": "code",
   "execution_count": 191,
   "metadata": {},
   "outputs": [
    {
     "data": {
      "image/png": "[encoded data removed]",
      "text/plain": [
       "<Figure size 432x288 with 1 Axes>"
      ]
     },
     "metadata": {
      "needs_background": "light"
     },
     "output_type": "display_data"
    }
   ],
   "source": [
    "import matplotlib.pyplot as plt\n",
    "n = 200\n",
    "ops = [(2,100),(4,50),(10,20),(20,10),(50,4),(100,2)]\n",
    "pts = np.linspace(0,1,100)\n",
    "\n",
    "for op in ops:\n",
    "    plt.plot(prob_fun(op[0], op[1], pts ), label=op)    \n",
    "\n",
    "# plt.plot(pts,0*pts+0.5,'k--', label=\"P=1/2\")\n",
    "plt.plot([80,80],[0,1], 'k-.')\n",
    "plt.legend()\n",
    "plt.xlabel('p')\n",
    "plt.ylabel('Probability')\n",
    "plt.title(\"legend: (r,b). p_true=0.8 (vertical line)\")\n",
    "plt.show()"
   ]
  },
  {
   "cell_type": "code",
   "execution_count": 226,
   "metadata": {},
   "outputs": [
    {
     "data": {
      "text/plain": [
       "10"
      ]
     },
     "execution_count": 226,
     "metadata": {},
     "output_type": "execute_result"
    }
   ],
   "source": [
    "M = 100\n",
    "bs = np.linspace(1,40,10)\n",
    "rs = M / bs\n",
    "\n",
    "ops = zip(rs, bs)\n",
    "len(bs)"
   ]
  },
  {
   "cell_type": "code",
   "execution_count": 227,
   "metadata": {},
   "outputs": [
    {
     "data": {
      "text/plain": [
       "array([ 1.        ,  5.33333333,  9.66666667, 14.        , 18.33333333,\n",
       "       22.66666667, 27.        , 31.33333333, 35.66666667, 40.        ])"
      ]
     },
     "execution_count": 227,
     "metadata": {},
     "output_type": "execute_result"
    }
   ],
   "source": [
    "bs"
   ]
  },
  {
   "cell_type": "code",
   "execution_count": 228,
   "metadata": {},
   "outputs": [
    {
     "data": {
      "image/png": "[encoded data removed]",
      "text/plain": [
       "<Figure size 432x288 with 1 Axes>"
      ]
     },
     "metadata": {
      "needs_background": "light"
     },
     "output_type": "display_data"
    }
   ],
   "source": [
    "\n",
    "for op in ops:\n",
    "#     plt.subfigure(subfigsize=(10,5))\n",
    "    plt.plot(prob_fun(op[0], op[1], pts ), label=op)    \n",
    "\n",
    "# plt.plot(pts,0*pts+0.5,'k--', label=\"P=1/2\")\n",
    "plt.plot([80,80],[0,1], 'k-.')\n",
    "plt.legend()\n",
    "plt.xlabel('p')\n",
    "plt.ylabel('Probability')\n",
    "plt.title(\"legend: (r,b). p_true=0.8 (vertical line)\")\n",
    "plt.show()"
   ]
  },
  {
   "cell_type": "code",
   "execution_count": null,
   "metadata": {},
   "outputs": [],
   "source": []
  },
  {
   "cell_type": "code",
   "execution_count": 48,
   "metadata": {
    "pycharm": {
     "name": "#%%\n"
    }
   },
   "outputs": [
    {
     "name": "stdout",
     "output_type": "stream",
     "text": [
      "0 / 1000\n",
      "100 / 1000\n",
      "200 / 1000\n",
      "300 / 1000\n",
      "400 / 1000\n",
      "500 / 1000\n",
      "600 / 1000\n",
      "700 / 1000\n",
      "800 / 1000\n",
      "900 / 1000\n",
      "Time:  7.503566741943359\n"
     ]
    }
   ],
   "source": [
    "#Calculate Jaccard similarities\n",
    "t0 = time.time()\n",
    "\n",
    "JSim = {}\n",
    "JSim_list = []\n",
    "\n",
    "for i in range(0, len(docIds)):\n",
    "# Print progress every 100 documents.\n",
    "    if (i % 100) == 0:\n",
    "        print(str(i) + \" / \" + str(len(docIds)))\n",
    "\n",
    "    s1 = shingledDocs[docIds[i]]\n",
    "    JSim[docIds[i]]= {}\n",
    "    JSim[docIds[i]]['Doc 2']  = []\n",
    "    JSim[docIds[i]]['JSim'] = []\n",
    "    for j in range(i + 1, len(docIds)):\n",
    "        # Retrieve the set of shingles for document j.\n",
    "        s2 = shingledDocs[docIds[j]]\n",
    "        JSim[docIds[i]]['Doc 2'] = docIds[i]\n",
    "        # Calculate and store the actual Jaccard similarity.\n",
    "        # similarity = len(s1.intersection(s2)) / len(s1.union(s2))\n",
    "        similarity = jaccard(s1, s2)\n",
    "        JSim_list.append(similarity)\n",
    "        JSim[docIds[i]]['JSim'].append(similarity)\n",
    "\n",
    "t1= time.time()\n",
    "print('Time: ', t1-t0)"
   ]
  },
  {
   "cell_type": "code",
   "execution_count": null,
   "metadata": {},
   "outputs": [],
   "source": []
  },
  {
   "cell_type": "markdown",
   "metadata": {},
   "source": [
    "## Compare with real similarity (based on min hash only)"
   ]
  },
  {
   "cell_type": "code",
   "execution_count": 268,
   "metadata": {
    "pycharm": {
     "name": "#%%\n"
    }
   },
   "outputs": [],
   "source": [
    "real_sim = pd.read_csv(\"real_sim.csv\")"
   ]
  },
  {
   "cell_type": "code",
   "execution_count": 269,
   "metadata": {},
   "outputs": [
    {
     "data": {
      "text/html": [
       "<div>\n",
       "<style scoped>\n",
       "    .dataframe tbody tr th:only-of-type {\n",
       "        vertical-align: middle;\n",
       "    }\n",
       "\n",
       "    .dataframe tbody tr th {\n",
       "        vertical-align: top;\n",
       "    }\n",
       "\n",
       "    .dataframe thead th {\n",
       "        text-align: right;\n",
       "    }\n",
       "</style>\n",
       "<table border=\"1\" class=\"dataframe\">\n",
       "  <thead>\n",
       "    <tr style=\"text-align: right;\">\n",
       "      <th></th>\n",
       "      <th>Unnamed: 0</th>\n",
       "      <th>doc1</th>\n",
       "      <th>doc2</th>\n",
       "      <th>sim</th>\n",
       "    </tr>\n",
       "  </thead>\n",
       "  <tbody>\n",
       "    <tr>\n",
       "      <th>0</th>\n",
       "      <td>0</td>\n",
       "      <td>0</td>\n",
       "      <td>1</td>\n",
       "      <td>0.058333</td>\n",
       "    </tr>\n",
       "    <tr>\n",
       "      <th>1</th>\n",
       "      <td>1</td>\n",
       "      <td>0</td>\n",
       "      <td>2</td>\n",
       "      <td>0.058333</td>\n",
       "    </tr>\n",
       "    <tr>\n",
       "      <th>2</th>\n",
       "      <td>2</td>\n",
       "      <td>0</td>\n",
       "      <td>3</td>\n",
       "      <td>0.067669</td>\n",
       "    </tr>\n",
       "    <tr>\n",
       "      <th>3</th>\n",
       "      <td>3</td>\n",
       "      <td>0</td>\n",
       "      <td>4</td>\n",
       "      <td>0.054852</td>\n",
       "    </tr>\n",
       "    <tr>\n",
       "      <th>4</th>\n",
       "      <td>4</td>\n",
       "      <td>0</td>\n",
       "      <td>5</td>\n",
       "      <td>0.072650</td>\n",
       "    </tr>\n",
       "  </tbody>\n",
       "</table>\n",
       "</div>"
      ],
      "text/plain": [
       "   Unnamed: 0  doc1  doc2       sim\n",
       "0           0     0     1  0.058333\n",
       "1           1     0     2  0.058333\n",
       "2           2     0     3  0.067669\n",
       "3           3     0     4  0.054852\n",
       "4           4     0     5  0.072650"
      ]
     },
     "execution_count": 269,
     "metadata": {},
     "output_type": "execute_result"
    }
   ],
   "source": [
    "real_sim.head()"
   ]
  },
  {
   "cell_type": "code",
   "execution_count": 270,
   "metadata": {},
   "outputs": [
    {
     "name": "stdout",
     "output_type": "stream",
     "text": [
      "0.005005005005005005\n"
     ]
    }
   ],
   "source": [
    "real_sim['label'] = np.where(real_sim['sim'] >= 0.8, 1, 0)\n",
    "print(real_sim['label'].mean()*100)"
   ]
  },
  {
   "cell_type": "code",
   "execution_count": 271,
   "metadata": {},
   "outputs": [],
   "source": [
    "merged = real_sim.merge(sim, left_on=['doc1','doc2'], right_on=['doc1','doc2'], suffixes=['_real', '_calc'])"
   ]
  },
  {
   "cell_type": "code",
   "execution_count": 272,
   "metadata": {},
   "outputs": [
    {
     "data": {
      "text/html": [
       "<div>\n",
       "<style scoped>\n",
       "    .dataframe tbody tr th:only-of-type {\n",
       "        vertical-align: middle;\n",
       "    }\n",
       "\n",
       "    .dataframe tbody tr th {\n",
       "        vertical-align: top;\n",
       "    }\n",
       "\n",
       "    .dataframe thead th {\n",
       "        text-align: right;\n",
       "    }\n",
       "</style>\n",
       "<table border=\"1\" class=\"dataframe\">\n",
       "  <thead>\n",
       "    <tr style=\"text-align: right;\">\n",
       "      <th></th>\n",
       "      <th>Unnamed: 0</th>\n",
       "      <th>doc1</th>\n",
       "      <th>doc2</th>\n",
       "      <th>sim_real</th>\n",
       "      <th>label_real</th>\n",
       "      <th>sim_calc</th>\n",
       "      <th>label_calc</th>\n",
       "    </tr>\n",
       "  </thead>\n",
       "  <tbody>\n",
       "    <tr>\n",
       "      <th>0</th>\n",
       "      <td>0</td>\n",
       "      <td>0</td>\n",
       "      <td>1</td>\n",
       "      <td>0.058333</td>\n",
       "      <td>0</td>\n",
       "      <td>0.015228</td>\n",
       "      <td>0</td>\n",
       "    </tr>\n",
       "    <tr>\n",
       "      <th>1</th>\n",
       "      <td>1</td>\n",
       "      <td>0</td>\n",
       "      <td>2</td>\n",
       "      <td>0.058333</td>\n",
       "      <td>0</td>\n",
       "      <td>0.033592</td>\n",
       "      <td>0</td>\n",
       "    </tr>\n",
       "    <tr>\n",
       "      <th>2</th>\n",
       "      <td>2</td>\n",
       "      <td>0</td>\n",
       "      <td>3</td>\n",
       "      <td>0.067669</td>\n",
       "      <td>0</td>\n",
       "      <td>0.030928</td>\n",
       "      <td>0</td>\n",
       "    </tr>\n",
       "    <tr>\n",
       "      <th>3</th>\n",
       "      <td>3</td>\n",
       "      <td>0</td>\n",
       "      <td>4</td>\n",
       "      <td>0.054852</td>\n",
       "      <td>0</td>\n",
       "      <td>0.025641</td>\n",
       "      <td>0</td>\n",
       "    </tr>\n",
       "    <tr>\n",
       "      <th>4</th>\n",
       "      <td>4</td>\n",
       "      <td>0</td>\n",
       "      <td>5</td>\n",
       "      <td>0.072650</td>\n",
       "      <td>0</td>\n",
       "      <td>0.020408</td>\n",
       "      <td>0</td>\n",
       "    </tr>\n",
       "  </tbody>\n",
       "</table>\n",
       "</div>"
      ],
      "text/plain": [
       "   Unnamed: 0  doc1  doc2  sim_real  label_real  sim_calc  label_calc\n",
       "0           0     0     1  0.058333           0  0.015228           0\n",
       "1           1     0     2  0.058333           0  0.033592           0\n",
       "2           2     0     3  0.067669           0  0.030928           0\n",
       "3           3     0     4  0.054852           0  0.025641           0\n",
       "4           4     0     5  0.072650           0  0.020408           0"
      ]
     },
     "execution_count": 272,
     "metadata": {},
     "output_type": "execute_result"
    }
   ],
   "source": [
    "merged.head()"
   ]
  },
  {
   "cell_type": "code",
   "execution_count": 273,
   "metadata": {},
   "outputs": [
    {
     "name": "stdout",
     "output_type": "stream",
     "text": [
      "Confusion Matrix : \n",
      " [[499474      1]\n",
      " [    17      8]]\n",
      "Accuracy :  0.9999639639639639\n",
      "Sensitivity :  0.9999979978977926\n",
      "Specificity :  0.32\n"
     ]
    }
   ],
   "source": [
    "#Confusion matrix, Accuracy, sensitivity and specificity\n",
    "from sklearn.metrics import confusion_matrix\n",
    "\n",
    "cm = confusion_matrix(merged[['label_real']],merged[['label_calc']])\n",
    "print('Confusion Matrix : \\n', cm)\n",
    "\n",
    "total=sum(sum(cm))\n",
    "#####from confusion matrix calculate accuracy\n",
    "accuracy=(cm[0,0]+cm[1,1])/total\n",
    "print ('Accuracy : ', accuracy)\n",
    "\n",
    "sensitivity = cm[0,0]/(cm[0,0]+cm[0,1])\n",
    "print('Sensitivity : ', sensitivity )\n",
    "\n",
    "specificity = cm[1,1]/(cm[1,0]+cm[1,1])\n",
    "print('Specificity : ', specificity)"
   ]
  },
  {
   "cell_type": "code",
   "execution_count": 275,
   "metadata": {},
   "outputs": [
    {
     "data": {
      "text/plain": [
       "label_real    25\n",
       "dtype: int64"
      ]
     },
     "execution_count": 275,
     "metadata": {},
     "output_type": "execute_result"
    }
   ],
   "source": [
    "merged[['label_real']].count()\n",
    "merged[['label_real']].sum()"
   ]
  },
  {
   "cell_type": "code",
   "execution_count": 277,
   "metadata": {},
   "outputs": [
    {
     "data": {
      "text/html": [
       "<div>\n",
       "<style scoped>\n",
       "    .dataframe tbody tr th:only-of-type {\n",
       "        vertical-align: middle;\n",
       "    }\n",
       "\n",
       "    .dataframe tbody tr th {\n",
       "        vertical-align: top;\n",
       "    }\n",
       "\n",
       "    .dataframe thead th {\n",
       "        text-align: right;\n",
       "    }\n",
       "</style>\n",
       "<table border=\"1\" class=\"dataframe\">\n",
       "  <thead>\n",
       "    <tr style=\"text-align: right;\">\n",
       "      <th></th>\n",
       "      <th>Unnamed: 0</th>\n",
       "      <th>doc1</th>\n",
       "      <th>doc2</th>\n",
       "      <th>sim_real</th>\n",
       "      <th>label_real</th>\n",
       "      <th>sim_calc</th>\n",
       "      <th>label_calc</th>\n",
       "    </tr>\n",
       "  </thead>\n",
       "  <tbody>\n",
       "    <tr>\n",
       "      <th>4955</th>\n",
       "      <td>4955</td>\n",
       "      <td>4</td>\n",
       "      <td>970</td>\n",
       "      <td>0.801105</td>\n",
       "      <td>1</td>\n",
       "      <td>0.342282</td>\n",
       "      <td>0</td>\n",
       "    </tr>\n",
       "    <tr>\n",
       "      <th>22678</th>\n",
       "      <td>22678</td>\n",
       "      <td>22</td>\n",
       "      <td>954</td>\n",
       "      <td>0.843023</td>\n",
       "      <td>1</td>\n",
       "      <td>0.307190</td>\n",
       "      <td>0</td>\n",
       "    </tr>\n",
       "    <tr>\n",
       "      <th>27491</th>\n",
       "      <td>27491</td>\n",
       "      <td>27</td>\n",
       "      <td>897</td>\n",
       "      <td>1.000000</td>\n",
       "      <td>1</td>\n",
       "      <td>0.834862</td>\n",
       "      <td>1</td>\n",
       "    </tr>\n",
       "    <tr>\n",
       "      <th>32901</th>\n",
       "      <td>32901</td>\n",
       "      <td>33</td>\n",
       "      <td>496</td>\n",
       "      <td>0.834356</td>\n",
       "      <td>1</td>\n",
       "      <td>0.515152</td>\n",
       "      <td>1</td>\n",
       "    </tr>\n",
       "    <tr>\n",
       "      <th>45495</th>\n",
       "      <td>45495</td>\n",
       "      <td>46</td>\n",
       "      <td>623</td>\n",
       "      <td>0.864000</td>\n",
       "      <td>1</td>\n",
       "      <td>0.351351</td>\n",
       "      <td>0</td>\n",
       "    </tr>\n",
       "    <tr>\n",
       "      <th>77554</th>\n",
       "      <td>77554</td>\n",
       "      <td>80</td>\n",
       "      <td>875</td>\n",
       "      <td>0.806667</td>\n",
       "      <td>1</td>\n",
       "      <td>0.111111</td>\n",
       "      <td>0</td>\n",
       "    </tr>\n",
       "    <tr>\n",
       "      <th>80803</th>\n",
       "      <td>80803</td>\n",
       "      <td>84</td>\n",
       "      <td>458</td>\n",
       "      <td>0.934211</td>\n",
       "      <td>1</td>\n",
       "      <td>0.606426</td>\n",
       "      <td>1</td>\n",
       "    </tr>\n",
       "    <tr>\n",
       "      <th>157215</th>\n",
       "      <td>157215</td>\n",
       "      <td>172</td>\n",
       "      <td>266</td>\n",
       "      <td>0.817143</td>\n",
       "      <td>1</td>\n",
       "      <td>0.459854</td>\n",
       "      <td>0</td>\n",
       "    </tr>\n",
       "    <tr>\n",
       "      <th>163368</th>\n",
       "      <td>163368</td>\n",
       "      <td>179</td>\n",
       "      <td>658</td>\n",
       "      <td>0.875706</td>\n",
       "      <td>1</td>\n",
       "      <td>0.544402</td>\n",
       "      <td>1</td>\n",
       "    </tr>\n",
       "    <tr>\n",
       "      <th>179033</th>\n",
       "      <td>179033</td>\n",
       "      <td>198</td>\n",
       "      <td>933</td>\n",
       "      <td>0.903846</td>\n",
       "      <td>1</td>\n",
       "      <td>0.544402</td>\n",
       "      <td>1</td>\n",
       "    </tr>\n",
       "    <tr>\n",
       "      <th>220289</th>\n",
       "      <td>220289</td>\n",
       "      <td>252</td>\n",
       "      <td>420</td>\n",
       "      <td>0.875862</td>\n",
       "      <td>1</td>\n",
       "      <td>0.242236</td>\n",
       "      <td>0</td>\n",
       "    </tr>\n",
       "    <tr>\n",
       "      <th>222466</th>\n",
       "      <td>222466</td>\n",
       "      <td>255</td>\n",
       "      <td>362</td>\n",
       "      <td>0.888889</td>\n",
       "      <td>1</td>\n",
       "      <td>0.673640</td>\n",
       "      <td>1</td>\n",
       "    </tr>\n",
       "    <tr>\n",
       "      <th>244908</th>\n",
       "      <td>244908</td>\n",
       "      <td>285</td>\n",
       "      <td>949</td>\n",
       "      <td>0.924051</td>\n",
       "      <td>1</td>\n",
       "      <td>0.639344</td>\n",
       "      <td>1</td>\n",
       "    </tr>\n",
       "    <tr>\n",
       "      <th>248926</th>\n",
       "      <td>248926</td>\n",
       "      <td>291</td>\n",
       "      <td>704</td>\n",
       "      <td>0.850877</td>\n",
       "      <td>1</td>\n",
       "      <td>0.374570</td>\n",
       "      <td>0</td>\n",
       "    </tr>\n",
       "    <tr>\n",
       "      <th>259615</th>\n",
       "      <td>259615</td>\n",
       "      <td>306</td>\n",
       "      <td>893</td>\n",
       "      <td>0.846715</td>\n",
       "      <td>1</td>\n",
       "      <td>0.190476</td>\n",
       "      <td>0</td>\n",
       "    </tr>\n",
       "    <tr>\n",
       "      <th>263075</th>\n",
       "      <td>263075</td>\n",
       "      <td>311</td>\n",
       "      <td>903</td>\n",
       "      <td>0.851190</td>\n",
       "      <td>1</td>\n",
       "      <td>0.324503</td>\n",
       "      <td>0</td>\n",
       "    </tr>\n",
       "    <tr>\n",
       "      <th>266739</th>\n",
       "      <td>266739</td>\n",
       "      <td>317</td>\n",
       "      <td>460</td>\n",
       "      <td>0.831683</td>\n",
       "      <td>1</td>\n",
       "      <td>0.212121</td>\n",
       "      <td>0</td>\n",
       "    </tr>\n",
       "    <tr>\n",
       "      <th>268244</th>\n",
       "      <td>268244</td>\n",
       "      <td>319</td>\n",
       "      <td>604</td>\n",
       "      <td>0.868852</td>\n",
       "      <td>1</td>\n",
       "      <td>0.423488</td>\n",
       "      <td>0</td>\n",
       "    </tr>\n",
       "    <tr>\n",
       "      <th>272139</th>\n",
       "      <td>272139</td>\n",
       "      <td>325</td>\n",
       "      <td>440</td>\n",
       "      <td>0.931034</td>\n",
       "      <td>1</td>\n",
       "      <td>0.454545</td>\n",
       "      <td>0</td>\n",
       "    </tr>\n",
       "    <tr>\n",
       "      <th>302463</th>\n",
       "      <td>302463</td>\n",
       "      <td>371</td>\n",
       "      <td>841</td>\n",
       "      <td>0.832168</td>\n",
       "      <td>1</td>\n",
       "      <td>0.307190</td>\n",
       "      <td>0</td>\n",
       "    </tr>\n",
       "    <tr>\n",
       "      <th>363640</th>\n",
       "      <td>363640</td>\n",
       "      <td>478</td>\n",
       "      <td>600</td>\n",
       "      <td>0.848000</td>\n",
       "      <td>1</td>\n",
       "      <td>0.311475</td>\n",
       "      <td>0</td>\n",
       "    </tr>\n",
       "    <tr>\n",
       "      <th>378800</th>\n",
       "      <td>378800</td>\n",
       "      <td>508</td>\n",
       "      <td>595</td>\n",
       "      <td>0.948276</td>\n",
       "      <td>1</td>\n",
       "      <td>0.515152</td>\n",
       "      <td>1</td>\n",
       "    </tr>\n",
       "    <tr>\n",
       "      <th>464646</th>\n",
       "      <td>464646</td>\n",
       "      <td>735</td>\n",
       "      <td>862</td>\n",
       "      <td>0.842424</td>\n",
       "      <td>1</td>\n",
       "      <td>0.355932</td>\n",
       "      <td>0</td>\n",
       "    </tr>\n",
       "    <tr>\n",
       "      <th>473270</th>\n",
       "      <td>473270</td>\n",
       "      <td>770</td>\n",
       "      <td>876</td>\n",
       "      <td>0.800000</td>\n",
       "      <td>1</td>\n",
       "      <td>0.273885</td>\n",
       "      <td>0</td>\n",
       "    </tr>\n",
       "    <tr>\n",
       "      <th>483255</th>\n",
       "      <td>483255</td>\n",
       "      <td>819</td>\n",
       "      <td>865</td>\n",
       "      <td>0.826087</td>\n",
       "      <td>1</td>\n",
       "      <td>0.311475</td>\n",
       "      <td>0</td>\n",
       "    </tr>\n",
       "  </tbody>\n",
       "</table>\n",
       "</div>"
      ],
      "text/plain": [
       "        Unnamed: 0  doc1  doc2  sim_real  label_real  sim_calc  label_calc\n",
       "4955          4955     4   970  0.801105           1  0.342282           0\n",
       "22678        22678    22   954  0.843023           1  0.307190           0\n",
       "27491        27491    27   897  1.000000           1  0.834862           1\n",
       "32901        32901    33   496  0.834356           1  0.515152           1\n",
       "45495        45495    46   623  0.864000           1  0.351351           0\n",
       "77554        77554    80   875  0.806667           1  0.111111           0\n",
       "80803        80803    84   458  0.934211           1  0.606426           1\n",
       "157215      157215   172   266  0.817143           1  0.459854           0\n",
       "163368      163368   179   658  0.875706           1  0.544402           1\n",
       "179033      179033   198   933  0.903846           1  0.544402           1\n",
       "220289      220289   252   420  0.875862           1  0.242236           0\n",
       "222466      222466   255   362  0.888889           1  0.673640           1\n",
       "244908      244908   285   949  0.924051           1  0.639344           1\n",
       "248926      248926   291   704  0.850877           1  0.374570           0\n",
       "259615      259615   306   893  0.846715           1  0.190476           0\n",
       "263075      263075   311   903  0.851190           1  0.324503           0\n",
       "266739      266739   317   460  0.831683           1  0.212121           0\n",
       "268244      268244   319   604  0.868852           1  0.423488           0\n",
       "272139      272139   325   440  0.931034           1  0.454545           0\n",
       "302463      302463   371   841  0.832168           1  0.307190           0\n",
       "363640      363640   478   600  0.848000           1  0.311475           0\n",
       "378800      378800   508   595  0.948276           1  0.515152           1\n",
       "464646      464646   735   862  0.842424           1  0.355932           0\n",
       "473270      473270   770   876  0.800000           1  0.273885           0\n",
       "483255      483255   819   865  0.826087           1  0.311475           0"
      ]
     },
     "execution_count": 277,
     "metadata": {},
     "output_type": "execute_result"
    }
   ],
   "source": [
    "merged[merged['label_real'] == 1]"
   ]
  },
  {
   "cell_type": "code",
   "execution_count": null,
   "metadata": {},
   "outputs": [],
   "source": []
  }
 ],
 "metadata": {
  "kernelspec": {
   "display_name": "Python 3",
   "language": "python",
   "name": "python3"
  },
  "language_info": {
   "codemirror_mode": {
    "name": "ipython",
    "version": 3
   },
   "file_extension": ".py",
   "mimetype": "text/x-python",
   "name": "python",
   "nbconvert_exporter": "python",
   "pygments_lexer": "ipython3",
   "version": "3.7.1"
  }
 },
 "nbformat": 4,
 "nbformat_minor": 1
}

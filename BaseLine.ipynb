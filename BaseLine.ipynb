{
 "cells": [
  {
   "cell_type": "markdown",
   "source": [
    "- Open the small file and prepare the data for creating shingles\n",
    "- n-gram = 4"
   ],
   "metadata": {
    "collapsed": false,
    "pycharm": {
     "name": "#%% md\n"
    }
   }
  },
  {
   "cell_type": "code",
   "execution_count": 28,
   "outputs": [],
   "source": [
    "import pandas as pd\n",
    "import re\n",
    "import time\n",
    "import binascii"
   ],
   "metadata": {
    "collapsed": false,
    "pycharm": {
     "name": "#%%\n"
    }
   }
  },
  {
   "cell_type": "code",
   "source": [
    "small_dataset = 'data/news_articles_small.csv'\n",
    "df_small_dataset = pd.read_csv(small_dataset)"
   ],
   "metadata": {
    "collapsed": false,
    "pycharm": {
     "name": "#%%\n"
    }
   },
   "execution_count": 2,
   "outputs": []
  },
  {
   "cell_type": "code",
   "execution_count": 3,
   "outputs": [
    {
     "data": {
      "text/plain": "   News_ID                                            article\n0        0  russian foreign minister sergei kozyliev arriv...\n1        1  ''''' one one', and , the one theer , it was. ...\n2        2  The threat of an opposition boycott and a smal...\n3        3  The Bank of France increased its short-term in...\n4        4  british foreign secretary douglas hurd said th...",
      "text/html": "<div>\n<style scoped>\n    .dataframe tbody tr th:only-of-type {\n        vertical-align: middle;\n    }\n\n    .dataframe tbody tr th {\n        vertical-align: top;\n    }\n\n    .dataframe thead th {\n        text-align: right;\n    }\n</style>\n<table border=\"1\" class=\"dataframe\">\n  <thead>\n    <tr style=\"text-align: right;\">\n      <th></th>\n      <th>News_ID</th>\n      <th>article</th>\n    </tr>\n  </thead>\n  <tbody>\n    <tr>\n      <th>0</th>\n      <td>0</td>\n      <td>russian foreign minister sergei kozyliev arriv...</td>\n    </tr>\n    <tr>\n      <th>1</th>\n      <td>1</td>\n      <td>''''' one one', and , the one theer , it was. ...</td>\n    </tr>\n    <tr>\n      <th>2</th>\n      <td>2</td>\n      <td>The threat of an opposition boycott and a smal...</td>\n    </tr>\n    <tr>\n      <th>3</th>\n      <td>3</td>\n      <td>The Bank of France increased its short-term in...</td>\n    </tr>\n    <tr>\n      <th>4</th>\n      <td>4</td>\n      <td>british foreign secretary douglas hurd said th...</td>\n    </tr>\n  </tbody>\n</table>\n</div>"
     },
     "execution_count": 3,
     "metadata": {},
     "output_type": "execute_result"
    }
   ],
   "source": [
    "df_small_dataset.head()"
   ],
   "metadata": {
    "collapsed": false,
    "pycharm": {
     "name": "#%%\n"
    }
   }
  },
  {
   "cell_type": "code",
   "execution_count": 4,
   "outputs": [],
   "source": [
    "#Pre-process data\n",
    "#Convert to lowercase.\n",
    "df_small_dataset['article'] = df_small_dataset['article'].str.lower()\n",
    "\n",
    "#Remove punctuation\n",
    "p = re.compile(r'[^\\w\\s]+')\n",
    "df_small_dataset['article'] = [p.sub('', x) for x in df_small_dataset['article'].tolist()]\n"
   ],
   "metadata": {
    "collapsed": false,
    "pycharm": {
     "name": "#%%\n"
    }
   }
  },
  {
   "cell_type": "code",
   "execution_count": 23,
   "outputs": [],
   "source": [
    "#Split each document in a list of words\n",
    "small_dataset_split = []\n",
    "for idx, row in df_small_dataset.iterrows():\n",
    "    small_dataset_split.append(row[1].split())\n",
    "\n",
    "df_small_dataset['splitted'] = small_dataset_split"
   ],
   "metadata": {
    "collapsed": false,
    "pycharm": {
     "name": "#%%\n"
    }
   }
  },
  {
   "cell_type": "code",
   "execution_count": 32,
   "outputs": [
    {
     "name": "stdout",
     "output_type": "stream",
     "text": [
      "Time spent:  4.519388437271118\n"
     ]
    }
   ],
   "source": [
    "#Add shingles with ngram 4\n",
    "#Source: https://github.com/chrisjmccormick/MinHash/blob/master/runMinHashExample.py\n",
    "shingleID = 0\n",
    "\n",
    "shingledDocs = {}\n",
    "docIds = []\n",
    "\n",
    "t0 = time.time()\n",
    "\n",
    "totalShingles = 0\n",
    "\n",
    "for idx, row in df_small_dataset.iterrows():\n",
    "    shingles = set()\n",
    "\n",
    "    for i in range(0, len(row[2]) - 3):\n",
    "        shingle = row[2][i]+ \" \" + row[2][i + 1] + \" \" + row[2][i + 2] + row[2][i + 3]\n",
    "        crc =  binascii.crc32(bytes(shingle, 'utf-8')) & 0xffffffff\n",
    "        shingles.add(crc)\n",
    "\n",
    "    shingledDocs[row[0]]= shingles\n",
    "    docIds.append(row[0])\n",
    "    totalShingles = totalShingles + (len(row[2]) - 3)\n",
    "\n",
    "t1 = time.time()\n",
    "print('Time spent: ', t1-t0)"
   ],
   "metadata": {
    "collapsed": false,
    "pycharm": {
     "name": "#%%#%%\n"
    }
   }
  },
  {
   "cell_type": "code",
   "execution_count": 47,
   "outputs": [],
   "source": [
    "def jaccard(list1, list2):\n",
    "    intersection = len(list(set(list1).intersection(list2)))\n",
    "    union = (len(list1) + len(list2)) - intersection\n",
    "    return float(intersection) / union"
   ],
   "metadata": {
    "collapsed": false,
    "pycharm": {
     "name": "#%%\n"
    }
   }
  },
  {
   "cell_type": "code",
   "execution_count": 48,
   "outputs": [
    {
     "name": "stdout",
     "output_type": "stream",
     "text": [
      "0 / 1000\n",
      "100 / 1000\n",
      "200 / 1000\n",
      "300 / 1000\n",
      "400 / 1000\n",
      "500 / 1000\n",
      "600 / 1000\n",
      "700 / 1000\n",
      "800 / 1000\n",
      "900 / 1000\n",
      "Time:  7.503566741943359\n"
     ]
    }
   ],
   "source": [
    "#Calculate Jaccard similarities\n",
    "t0 = time.time()\n",
    "\n",
    "JSim = {}\n",
    "JSim_list = []\n",
    "\n",
    "for i in range(0, len(docIds)):\n",
    "# Print progress every 100 documents.\n",
    "    if (i % 100) == 0:\n",
    "        print(str(i) + \" / \" + str(len(docIds)))\n",
    "\n",
    "    s1 = shingledDocs[docIds[i]]\n",
    "    JSim[docIds[i]]= {}\n",
    "    JSim[docIds[i]]['Doc 2']  = []\n",
    "    JSim[docIds[i]]['JSim'] = []\n",
    "    for j in range(i + 1, len(docIds)):\n",
    "        # Retrieve the set of shingles for document j.\n",
    "        s2 = shingledDocs[docIds[j]]\n",
    "        JSim[docIds[i]]['Doc 2'] = docIds[i]\n",
    "        # Calculate and store the actual Jaccard similarity.\n",
    "        # similarity = len(s1.intersection(s2)) / len(s1.union(s2))\n",
    "        similarity = jaccard(s1, s2)\n",
    "        JSim_list.append(similarity)\n",
    "        JSim[docIds[i]]['JSim'].append(similarity)\n",
    "\n",
    "t1= time.time()\n",
    "print('Time: ', t1-t0)"
   ],
   "metadata": {
    "collapsed": false,
    "pycharm": {
     "name": "#%%\n"
    }
   }
  },
  {
   "cell_type": "code",
   "execution_count": 49,
   "outputs": [],
   "source": [
    "count_grouped = [0,0,0,0,0,0,0,0,0,0]\n",
    "for i in JSim_list:\n",
    "    if i > 0.0 and i <= 0.1:\n",
    "        count_grouped[0] += 1\n",
    "    if i > 0.1 and i <= 0.2:\n",
    "        count_grouped[1] += 1\n",
    "    if i > 0.2 and i <= 0.3:\n",
    "        count_grouped[2] += 1\n",
    "    if i > 0.3 and i <= 0.4:\n",
    "        count_grouped[3] += 1\n",
    "    if i > 0.4 and i <= 0.5:\n",
    "        count_grouped[4] += 1\n",
    "    if i > 0.5 and i <= 0.6:\n",
    "        count_grouped[5] += 1\n",
    "    if i > 0.6 and i <= 0.7:\n",
    "        count_grouped[6] += 1\n",
    "    if i > 0.7 and i <= 0.8:\n",
    "        count_grouped[7] += 1\n",
    "    if i > 0.8 and i <= 0.9:\n",
    "        count_grouped[8] += 1\n",
    "    if i > 0.9 and i <= 1.0:\n",
    "        count_grouped[9] += 1"
   ],
   "metadata": {
    "collapsed": false,
    "pycharm": {
     "name": "#%%\n"
    }
   }
  },
  {
   "cell_type": "code",
   "execution_count": 45,
   "outputs": [
    {
     "data": {
      "text/plain": "<Figure size 432x288 with 1 Axes>",
      "image/png": "[encoded data removed]"
     },
     "metadata": {
      "needs_background": "light"
     },
     "output_type": "display_data"
    }
   ],
   "source": [
    "#source: https://www.tutorialspoint.com/matplotlib/matplotlib_bar_plot.htm\n",
    "import matplotlib.pyplot as plt\n",
    "left = [1, 2, 3, 4, 5,6,7,8,9,10]\n",
    "\n",
    "x_label = [0.1, 0.2, 0.3, 0.4, 0.5, 0.6, 0.7, 0.8, 0.9, 1.0]\n",
    "\n",
    "plt.bar(left, count_grouped, tick_label = x_label,\n",
    "            width = 0.8, color = ['red', 'yellow', 'green', 'blue', 'cyan', 'red', 'yellow', 'green', 'blue', 'cyan'])\n",
    "\n",
    "plt.xlabel('Similarity score', fontsize=20)\n",
    "plt.ylabel('Documents', fontsize=20)"
   ],
   "metadata": {
    "collapsed": false,
    "pycharm": {
     "name": "#%%\n"
    }
   }
  },
  {
   "cell_type": "code",
   "execution_count": 50,
   "outputs": [
    {
     "data": {
      "text/plain": "Text(0, 0.5, 'Documents')"
     },
     "execution_count": 50,
     "metadata": {},
     "output_type": "execute_result"
    },
    {
     "data": {
      "text/plain": "<Figure size 432x288 with 1 Axes>",
      "image/png": "[encoded data removed]"
     },
     "metadata": {
      "needs_background": "light"
     },
     "output_type": "display_data"
    }
   ],
   "source": [],
   "metadata": {
    "collapsed": false,
    "pycharm": {
     "name": "#%%\n"
    }
   }
  },
  {
   "cell_type": "code",
   "execution_count": null,
   "outputs": [],
   "source": [],
   "metadata": {
    "collapsed": false,
    "pycharm": {
     "name": "#%%\n"
    }
   }
  }
 ],
 "metadata": {
  "kernelspec": {
   "name": "pycharm-4c4f150c",
   "language": "python",
   "display_name": "PyCharm (LSH_PlagiarismDetection)"
  },
  "language_info": {
   "codemirror_mode": {
    "name": "ipython",
    "version": 2
   },
   "file_extension": ".py",
   "mimetype": "text/x-python",
   "name": "python",
   "nbconvert_exporter": "python",
   "pygments_lexer": "ipython2",
   "version": "2.7.6"
  }
 },
 "nbformat": 4,
 "nbformat_minor": 0
}